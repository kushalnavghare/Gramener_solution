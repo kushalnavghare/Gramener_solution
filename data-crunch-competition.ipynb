{
  "nbformat": 4,
  "nbformat_minor": 0,
  "metadata": {
    "colab": {
      "name": "QuickStart_2021.ipynb",
      "provenance": [],
      "collapsed_sections": [],
      "include_colab_link": true
    },
    "kernelspec": {
      "display_name": "Python 3",
      "name": "python3"
    },
    "accelerator": "GPU"
  },
  "cells": [
    {
      "cell_type": "markdown",
      "metadata": {
        "id": "view-in-github",
        "colab_type": "text"
      },
      "source": [
        "<a href=\"https://colab.research.google.com/github/kushalnavghare/cdac_solution/blob/master/data-crunch-competition.ipynb\" target=\"_parent\"><img src=\"https://colab.research.google.com/assets/colab-badge.svg\" alt=\"Open In Colab\"/></a>"
      ]
    },
    {
      "cell_type": "markdown",
      "metadata": {
        "id": "5l0vVj2kJJnL"
      },
      "source": [
        "# QuickStart\n",
        "\n",
        "##Basic step and workflow:\n",
        "\n",
        "0 - Using this notebook\n",
        "\n",
        "1 - Download data\n",
        "\n",
        "2 - Explore data\n",
        "\n",
        "3 - Choose and train a model\n",
        "\n",
        "4 - Scoring\n",
        "\n",
        "5 - Make prediction\n",
        "\n",
        "6 - Submit\n",
        "\n",
        "---"
      ]
    },
    {
      "cell_type": "markdown",
      "metadata": {
        "id": "M5ViHUVilbl_"
      },
      "source": [
        "## 0 - Using this notebook \n",
        "\n",
        "To execute the cell press `shift+enter`. \n",
        "\n",
        "Follow the steps and login with your Google account."
      ]
    },
    {
      "cell_type": "code",
      "metadata": {
        "id": "ih3kUib4NWbb"
      },
      "source": [
        "import tensorflow as tf"
      ],
      "execution_count": 1,
      "outputs": []
    },
    {
      "cell_type": "code",
      "metadata": {
        "id": "yLJtyRxlNdCG",
        "outputId": "7302ab6d-97a0-475c-b881-4fafa14306ee",
        "colab": {
          "base_uri": "https://localhost:8080/",
          "height": 35
        }
      },
      "source": [
        "tf.test.gpu_device_name()"
      ],
      "execution_count": 2,
      "outputs": [
        {
          "output_type": "execute_result",
          "data": {
            "application/vnd.google.colaboratory.intrinsic+json": {
              "type": "string"
            },
            "text/plain": [
              "'/device:GPU:0'"
            ]
          },
          "metadata": {
            "tags": []
          },
          "execution_count": 2
        }
      ]
    },
    {
      "cell_type": "code",
      "metadata": {
        "id": "rd2LBIIWixP_"
      },
      "source": [
        "# Lib & Dependencies\n",
        "import pandas as pd\n",
        "import numpy as np\n",
        "import xgboost as xgb\n",
        "from sklearn.model_selection import train_test_split\n",
        "from sklearn.metrics import accuracy_score \n",
        "from sklearn.metrics import classification_report \n",
        "import requests\n",
        "from scipy import stats"
      ],
      "execution_count": 3,
      "outputs": []
    },
    {
      "cell_type": "code",
      "metadata": {
        "id": "l04CXbGoOZkb"
      },
      "source": [
        "import seaborn as sns\n",
        "import matplotlib.pyplot as plt"
      ],
      "execution_count": 14,
      "outputs": []
    },
    {
      "cell_type": "markdown",
      "metadata": {
        "id": "qD6jt7BJ2OCX"
      },
      "source": [
        "# 1 - Download data\n",
        "\n",
        "We will provide you with two dataset\n",
        "\n",
        "- Training_data will be use to train your model.\n",
        "- Hackathon_data will be use to make your prediciton.\n",
        "\n",
        "\n",
        "There is three target you need to provide prediction on: target_r, target_g, target_b.\n",
        "\n",
        "\n"
      ]
    },
    {
      "cell_type": "code",
      "metadata": {
        "id": "nDH7smCHVO81"
      },
      "source": [
        "# Data Download (may take a few minutes depending on your network)\n",
        "train_datalink_X = 'https://tournament.datacrunch.com/data/X_train.csv'  \n",
        "train_datalink_y = 'https://tournament.datacrunch.com/data/y_train.csv' \n",
        "hackathon_data_link = 'https://tournament.datacrunch.com/data/X_test.csv' \n",
        "\n",
        "# Data for training\n",
        "train_data = pd.read_csv(train_datalink_X)\n",
        "# Data for which you will submit your prediction\n",
        "test_data = pd.read_csv(hackathon_data_link)\n",
        "# Targets to be predicted\n",
        "train_targets = pd.read_csv(train_datalink_y)\n",
        "\n",
        "# If you don't want to look at the problem as a time serie\n",
        "train_data.drop(['id', 'Moons'], axis=1, inplace=True)\n",
        "test_data.drop(['id', 'Moons'], axis=1, inplace=True)"
      ],
      "execution_count": 4,
      "outputs": []
    },
    {
      "cell_type": "code",
      "metadata": {
        "id": "H3qGwy49r55R",
        "colab": {
          "base_uri": "https://localhost:8080/",
          "height": 1000
        },
        "outputId": "1b71aef0-8ad3-43d0-8f62-7da604d1408b"
      },
      "source": [
        "display(train_data)\n",
        "display(train_targets)\n",
        "display(test_data)"
      ],
      "execution_count": 5,
      "outputs": [
        {
          "output_type": "display_data",
          "data": {
            "text/html": [
              "<div>\n",
              "<style scoped>\n",
              "    .dataframe tbody tr th:only-of-type {\n",
              "        vertical-align: middle;\n",
              "    }\n",
              "\n",
              "    .dataframe tbody tr th {\n",
              "        vertical-align: top;\n",
              "    }\n",
              "\n",
              "    .dataframe thead th {\n",
              "        text-align: right;\n",
              "    }\n",
              "</style>\n",
              "<table border=\"1\" class=\"dataframe\">\n",
              "  <thead>\n",
              "    <tr style=\"text-align: right;\">\n",
              "      <th></th>\n",
              "      <th>Feature_1</th>\n",
              "      <th>Feature_2</th>\n",
              "      <th>Feature_3</th>\n",
              "      <th>Feature_4</th>\n",
              "      <th>Feature_5</th>\n",
              "      <th>Feature_6</th>\n",
              "      <th>Feature_7</th>\n",
              "      <th>Feature_8</th>\n",
              "      <th>Feature_9</th>\n",
              "      <th>Feature_10</th>\n",
              "      <th>Feature_11</th>\n",
              "      <th>Feature_12</th>\n",
              "      <th>Feature_13</th>\n",
              "    </tr>\n",
              "  </thead>\n",
              "  <tbody>\n",
              "    <tr>\n",
              "      <th>0</th>\n",
              "      <td>0.50</td>\n",
              "      <td>1.00</td>\n",
              "      <td>0.75</td>\n",
              "      <td>0.0</td>\n",
              "      <td>0.0</td>\n",
              "      <td>0.00</td>\n",
              "      <td>0.00</td>\n",
              "      <td>0.00</td>\n",
              "      <td>0.00</td>\n",
              "      <td>0.00</td>\n",
              "      <td>0.00</td>\n",
              "      <td>0.00</td>\n",
              "      <td>0.00</td>\n",
              "    </tr>\n",
              "    <tr>\n",
              "      <th>1</th>\n",
              "      <td>0.50</td>\n",
              "      <td>1.00</td>\n",
              "      <td>0.75</td>\n",
              "      <td>0.0</td>\n",
              "      <td>0.0</td>\n",
              "      <td>0.00</td>\n",
              "      <td>0.00</td>\n",
              "      <td>0.00</td>\n",
              "      <td>0.00</td>\n",
              "      <td>0.00</td>\n",
              "      <td>0.00</td>\n",
              "      <td>0.00</td>\n",
              "      <td>0.00</td>\n",
              "    </tr>\n",
              "    <tr>\n",
              "      <th>2</th>\n",
              "      <td>0.75</td>\n",
              "      <td>1.00</td>\n",
              "      <td>0.75</td>\n",
              "      <td>0.0</td>\n",
              "      <td>0.0</td>\n",
              "      <td>0.00</td>\n",
              "      <td>0.00</td>\n",
              "      <td>0.50</td>\n",
              "      <td>0.50</td>\n",
              "      <td>1.00</td>\n",
              "      <td>0.75</td>\n",
              "      <td>0.75</td>\n",
              "      <td>1.00</td>\n",
              "    </tr>\n",
              "    <tr>\n",
              "      <th>3</th>\n",
              "      <td>0.50</td>\n",
              "      <td>1.00</td>\n",
              "      <td>0.75</td>\n",
              "      <td>0.0</td>\n",
              "      <td>0.0</td>\n",
              "      <td>0.00</td>\n",
              "      <td>0.00</td>\n",
              "      <td>0.00</td>\n",
              "      <td>0.00</td>\n",
              "      <td>0.50</td>\n",
              "      <td>0.50</td>\n",
              "      <td>0.75</td>\n",
              "      <td>0.50</td>\n",
              "    </tr>\n",
              "    <tr>\n",
              "      <th>4</th>\n",
              "      <td>0.75</td>\n",
              "      <td>1.00</td>\n",
              "      <td>0.75</td>\n",
              "      <td>0.0</td>\n",
              "      <td>0.0</td>\n",
              "      <td>0.00</td>\n",
              "      <td>0.00</td>\n",
              "      <td>0.00</td>\n",
              "      <td>0.00</td>\n",
              "      <td>0.00</td>\n",
              "      <td>0.00</td>\n",
              "      <td>0.00</td>\n",
              "      <td>0.00</td>\n",
              "    </tr>\n",
              "    <tr>\n",
              "      <th>...</th>\n",
              "      <td>...</td>\n",
              "      <td>...</td>\n",
              "      <td>...</td>\n",
              "      <td>...</td>\n",
              "      <td>...</td>\n",
              "      <td>...</td>\n",
              "      <td>...</td>\n",
              "      <td>...</td>\n",
              "      <td>...</td>\n",
              "      <td>...</td>\n",
              "      <td>...</td>\n",
              "      <td>...</td>\n",
              "      <td>...</td>\n",
              "    </tr>\n",
              "    <tr>\n",
              "      <th>6533</th>\n",
              "      <td>0.25</td>\n",
              "      <td>0.50</td>\n",
              "      <td>0.50</td>\n",
              "      <td>1.0</td>\n",
              "      <td>1.0</td>\n",
              "      <td>0.75</td>\n",
              "      <td>0.75</td>\n",
              "      <td>0.75</td>\n",
              "      <td>0.75</td>\n",
              "      <td>0.00</td>\n",
              "      <td>0.00</td>\n",
              "      <td>0.00</td>\n",
              "      <td>0.00</td>\n",
              "    </tr>\n",
              "    <tr>\n",
              "      <th>6534</th>\n",
              "      <td>0.00</td>\n",
              "      <td>0.25</td>\n",
              "      <td>0.25</td>\n",
              "      <td>1.0</td>\n",
              "      <td>1.0</td>\n",
              "      <td>0.25</td>\n",
              "      <td>0.25</td>\n",
              "      <td>0.00</td>\n",
              "      <td>0.00</td>\n",
              "      <td>0.00</td>\n",
              "      <td>0.00</td>\n",
              "      <td>0.00</td>\n",
              "      <td>0.00</td>\n",
              "    </tr>\n",
              "    <tr>\n",
              "      <th>6535</th>\n",
              "      <td>0.50</td>\n",
              "      <td>0.50</td>\n",
              "      <td>0.50</td>\n",
              "      <td>1.0</td>\n",
              "      <td>1.0</td>\n",
              "      <td>1.00</td>\n",
              "      <td>1.00</td>\n",
              "      <td>1.00</td>\n",
              "      <td>1.00</td>\n",
              "      <td>0.25</td>\n",
              "      <td>0.50</td>\n",
              "      <td>0.75</td>\n",
              "      <td>0.50</td>\n",
              "    </tr>\n",
              "    <tr>\n",
              "      <th>6536</th>\n",
              "      <td>0.25</td>\n",
              "      <td>0.75</td>\n",
              "      <td>1.00</td>\n",
              "      <td>1.0</td>\n",
              "      <td>1.0</td>\n",
              "      <td>1.00</td>\n",
              "      <td>1.00</td>\n",
              "      <td>1.00</td>\n",
              "      <td>1.00</td>\n",
              "      <td>0.00</td>\n",
              "      <td>0.00</td>\n",
              "      <td>0.00</td>\n",
              "      <td>0.00</td>\n",
              "    </tr>\n",
              "    <tr>\n",
              "      <th>6537</th>\n",
              "      <td>0.75</td>\n",
              "      <td>0.50</td>\n",
              "      <td>0.50</td>\n",
              "      <td>1.0</td>\n",
              "      <td>1.0</td>\n",
              "      <td>1.00</td>\n",
              "      <td>1.00</td>\n",
              "      <td>1.00</td>\n",
              "      <td>1.00</td>\n",
              "      <td>1.00</td>\n",
              "      <td>0.75</td>\n",
              "      <td>0.75</td>\n",
              "      <td>0.75</td>\n",
              "    </tr>\n",
              "  </tbody>\n",
              "</table>\n",
              "<p>6538 rows × 13 columns</p>\n",
              "</div>"
            ],
            "text/plain": [
              "      Feature_1  Feature_2  Feature_3  ...  Feature_11  Feature_12  Feature_13\n",
              "0          0.50       1.00       0.75  ...        0.00        0.00        0.00\n",
              "1          0.50       1.00       0.75  ...        0.00        0.00        0.00\n",
              "2          0.75       1.00       0.75  ...        0.75        0.75        1.00\n",
              "3          0.50       1.00       0.75  ...        0.50        0.75        0.50\n",
              "4          0.75       1.00       0.75  ...        0.00        0.00        0.00\n",
              "...         ...        ...        ...  ...         ...         ...         ...\n",
              "6533       0.25       0.50       0.50  ...        0.00        0.00        0.00\n",
              "6534       0.00       0.25       0.25  ...        0.00        0.00        0.00\n",
              "6535       0.50       0.50       0.50  ...        0.50        0.75        0.50\n",
              "6536       0.25       0.75       1.00  ...        0.00        0.00        0.00\n",
              "6537       0.75       0.50       0.50  ...        0.75        0.75        0.75\n",
              "\n",
              "[6538 rows x 13 columns]"
            ]
          },
          "metadata": {
            "tags": []
          }
        },
        {
          "output_type": "display_data",
          "data": {
            "text/html": [
              "<div>\n",
              "<style scoped>\n",
              "    .dataframe tbody tr th:only-of-type {\n",
              "        vertical-align: middle;\n",
              "    }\n",
              "\n",
              "    .dataframe tbody tr th {\n",
              "        vertical-align: top;\n",
              "    }\n",
              "\n",
              "    .dataframe thead th {\n",
              "        text-align: right;\n",
              "    }\n",
              "</style>\n",
              "<table border=\"1\" class=\"dataframe\">\n",
              "  <thead>\n",
              "    <tr style=\"text-align: right;\">\n",
              "      <th></th>\n",
              "      <th>target_r</th>\n",
              "      <th>target_g</th>\n",
              "      <th>target_b</th>\n",
              "    </tr>\n",
              "  </thead>\n",
              "  <tbody>\n",
              "    <tr>\n",
              "      <th>0</th>\n",
              "      <td>0.25</td>\n",
              "      <td>0.25</td>\n",
              "      <td>0.25</td>\n",
              "    </tr>\n",
              "    <tr>\n",
              "      <th>1</th>\n",
              "      <td>0.00</td>\n",
              "      <td>0.00</td>\n",
              "      <td>0.00</td>\n",
              "    </tr>\n",
              "    <tr>\n",
              "      <th>2</th>\n",
              "      <td>0.50</td>\n",
              "      <td>0.50</td>\n",
              "      <td>0.50</td>\n",
              "    </tr>\n",
              "    <tr>\n",
              "      <th>3</th>\n",
              "      <td>0.00</td>\n",
              "      <td>0.00</td>\n",
              "      <td>0.00</td>\n",
              "    </tr>\n",
              "    <tr>\n",
              "      <th>4</th>\n",
              "      <td>0.75</td>\n",
              "      <td>1.00</td>\n",
              "      <td>0.75</td>\n",
              "    </tr>\n",
              "    <tr>\n",
              "      <th>...</th>\n",
              "      <td>...</td>\n",
              "      <td>...</td>\n",
              "      <td>...</td>\n",
              "    </tr>\n",
              "    <tr>\n",
              "      <th>6533</th>\n",
              "      <td>0.00</td>\n",
              "      <td>0.75</td>\n",
              "      <td>0.75</td>\n",
              "    </tr>\n",
              "    <tr>\n",
              "      <th>6534</th>\n",
              "      <td>0.00</td>\n",
              "      <td>0.00</td>\n",
              "      <td>0.00</td>\n",
              "    </tr>\n",
              "    <tr>\n",
              "      <th>6535</th>\n",
              "      <td>0.25</td>\n",
              "      <td>0.25</td>\n",
              "      <td>0.00</td>\n",
              "    </tr>\n",
              "    <tr>\n",
              "      <th>6536</th>\n",
              "      <td>0.25</td>\n",
              "      <td>0.25</td>\n",
              "      <td>0.00</td>\n",
              "    </tr>\n",
              "    <tr>\n",
              "      <th>6537</th>\n",
              "      <td>0.75</td>\n",
              "      <td>1.00</td>\n",
              "      <td>1.00</td>\n",
              "    </tr>\n",
              "  </tbody>\n",
              "</table>\n",
              "<p>6538 rows × 3 columns</p>\n",
              "</div>"
            ],
            "text/plain": [
              "      target_r  target_g  target_b\n",
              "0         0.25      0.25      0.25\n",
              "1         0.00      0.00      0.00\n",
              "2         0.50      0.50      0.50\n",
              "3         0.00      0.00      0.00\n",
              "4         0.75      1.00      0.75\n",
              "...        ...       ...       ...\n",
              "6533      0.00      0.75      0.75\n",
              "6534      0.00      0.00      0.00\n",
              "6535      0.25      0.25      0.00\n",
              "6536      0.25      0.25      0.00\n",
              "6537      0.75      1.00      1.00\n",
              "\n",
              "[6538 rows x 3 columns]"
            ]
          },
          "metadata": {
            "tags": []
          }
        },
        {
          "output_type": "display_data",
          "data": {
            "text/html": [
              "<div>\n",
              "<style scoped>\n",
              "    .dataframe tbody tr th:only-of-type {\n",
              "        vertical-align: middle;\n",
              "    }\n",
              "\n",
              "    .dataframe tbody tr th {\n",
              "        vertical-align: top;\n",
              "    }\n",
              "\n",
              "    .dataframe thead th {\n",
              "        text-align: right;\n",
              "    }\n",
              "</style>\n",
              "<table border=\"1\" class=\"dataframe\">\n",
              "  <thead>\n",
              "    <tr style=\"text-align: right;\">\n",
              "      <th></th>\n",
              "      <th>Feature_1</th>\n",
              "      <th>Feature_2</th>\n",
              "      <th>Feature_3</th>\n",
              "      <th>Feature_4</th>\n",
              "      <th>Feature_5</th>\n",
              "      <th>Feature_6</th>\n",
              "      <th>Feature_7</th>\n",
              "      <th>Feature_8</th>\n",
              "      <th>Feature_9</th>\n",
              "      <th>Feature_10</th>\n",
              "      <th>Feature_11</th>\n",
              "      <th>Feature_12</th>\n",
              "      <th>Feature_13</th>\n",
              "    </tr>\n",
              "  </thead>\n",
              "  <tbody>\n",
              "    <tr>\n",
              "      <th>0</th>\n",
              "      <td>0.25</td>\n",
              "      <td>0.00</td>\n",
              "      <td>0.00</td>\n",
              "      <td>0.0</td>\n",
              "      <td>0.0</td>\n",
              "      <td>0.00</td>\n",
              "      <td>0.00</td>\n",
              "      <td>0.00</td>\n",
              "      <td>0.00</td>\n",
              "      <td>0.00</td>\n",
              "      <td>0.00</td>\n",
              "      <td>0.00</td>\n",
              "      <td>0.00</td>\n",
              "    </tr>\n",
              "    <tr>\n",
              "      <th>1</th>\n",
              "      <td>0.25</td>\n",
              "      <td>0.75</td>\n",
              "      <td>1.00</td>\n",
              "      <td>0.0</td>\n",
              "      <td>0.0</td>\n",
              "      <td>0.00</td>\n",
              "      <td>0.00</td>\n",
              "      <td>0.25</td>\n",
              "      <td>0.25</td>\n",
              "      <td>0.75</td>\n",
              "      <td>0.50</td>\n",
              "      <td>0.50</td>\n",
              "      <td>0.75</td>\n",
              "    </tr>\n",
              "    <tr>\n",
              "      <th>2</th>\n",
              "      <td>0.00</td>\n",
              "      <td>0.25</td>\n",
              "      <td>0.00</td>\n",
              "      <td>0.0</td>\n",
              "      <td>0.0</td>\n",
              "      <td>0.00</td>\n",
              "      <td>0.00</td>\n",
              "      <td>0.75</td>\n",
              "      <td>0.75</td>\n",
              "      <td>0.75</td>\n",
              "      <td>1.00</td>\n",
              "      <td>0.50</td>\n",
              "      <td>0.75</td>\n",
              "    </tr>\n",
              "    <tr>\n",
              "      <th>3</th>\n",
              "      <td>0.25</td>\n",
              "      <td>0.75</td>\n",
              "      <td>1.00</td>\n",
              "      <td>0.0</td>\n",
              "      <td>0.0</td>\n",
              "      <td>0.00</td>\n",
              "      <td>0.00</td>\n",
              "      <td>0.00</td>\n",
              "      <td>0.00</td>\n",
              "      <td>0.00</td>\n",
              "      <td>0.00</td>\n",
              "      <td>0.00</td>\n",
              "      <td>0.00</td>\n",
              "    </tr>\n",
              "    <tr>\n",
              "      <th>4</th>\n",
              "      <td>0.25</td>\n",
              "      <td>1.00</td>\n",
              "      <td>0.00</td>\n",
              "      <td>0.0</td>\n",
              "      <td>0.0</td>\n",
              "      <td>0.00</td>\n",
              "      <td>0.00</td>\n",
              "      <td>0.00</td>\n",
              "      <td>0.00</td>\n",
              "      <td>0.50</td>\n",
              "      <td>0.25</td>\n",
              "      <td>0.25</td>\n",
              "      <td>0.50</td>\n",
              "    </tr>\n",
              "    <tr>\n",
              "      <th>...</th>\n",
              "      <td>...</td>\n",
              "      <td>...</td>\n",
              "      <td>...</td>\n",
              "      <td>...</td>\n",
              "      <td>...</td>\n",
              "      <td>...</td>\n",
              "      <td>...</td>\n",
              "      <td>...</td>\n",
              "      <td>...</td>\n",
              "      <td>...</td>\n",
              "      <td>...</td>\n",
              "      <td>...</td>\n",
              "      <td>...</td>\n",
              "    </tr>\n",
              "    <tr>\n",
              "      <th>3431</th>\n",
              "      <td>0.25</td>\n",
              "      <td>0.00</td>\n",
              "      <td>0.00</td>\n",
              "      <td>1.0</td>\n",
              "      <td>1.0</td>\n",
              "      <td>1.00</td>\n",
              "      <td>1.00</td>\n",
              "      <td>1.00</td>\n",
              "      <td>1.00</td>\n",
              "      <td>0.75</td>\n",
              "      <td>0.50</td>\n",
              "      <td>1.00</td>\n",
              "      <td>0.50</td>\n",
              "    </tr>\n",
              "    <tr>\n",
              "      <th>3432</th>\n",
              "      <td>1.00</td>\n",
              "      <td>0.50</td>\n",
              "      <td>1.00</td>\n",
              "      <td>1.0</td>\n",
              "      <td>1.0</td>\n",
              "      <td>0.75</td>\n",
              "      <td>0.75</td>\n",
              "      <td>1.00</td>\n",
              "      <td>1.00</td>\n",
              "      <td>0.50</td>\n",
              "      <td>0.75</td>\n",
              "      <td>0.75</td>\n",
              "      <td>0.50</td>\n",
              "    </tr>\n",
              "    <tr>\n",
              "      <th>3433</th>\n",
              "      <td>0.00</td>\n",
              "      <td>0.25</td>\n",
              "      <td>0.00</td>\n",
              "      <td>1.0</td>\n",
              "      <td>1.0</td>\n",
              "      <td>1.00</td>\n",
              "      <td>1.00</td>\n",
              "      <td>1.00</td>\n",
              "      <td>1.00</td>\n",
              "      <td>0.00</td>\n",
              "      <td>0.00</td>\n",
              "      <td>0.00</td>\n",
              "      <td>0.00</td>\n",
              "    </tr>\n",
              "    <tr>\n",
              "      <th>3434</th>\n",
              "      <td>0.00</td>\n",
              "      <td>0.25</td>\n",
              "      <td>0.25</td>\n",
              "      <td>1.0</td>\n",
              "      <td>1.0</td>\n",
              "      <td>1.00</td>\n",
              "      <td>1.00</td>\n",
              "      <td>1.00</td>\n",
              "      <td>1.00</td>\n",
              "      <td>0.50</td>\n",
              "      <td>0.25</td>\n",
              "      <td>1.00</td>\n",
              "      <td>0.25</td>\n",
              "    </tr>\n",
              "    <tr>\n",
              "      <th>3435</th>\n",
              "      <td>0.25</td>\n",
              "      <td>1.00</td>\n",
              "      <td>0.75</td>\n",
              "      <td>1.0</td>\n",
              "      <td>1.0</td>\n",
              "      <td>1.00</td>\n",
              "      <td>1.00</td>\n",
              "      <td>1.00</td>\n",
              "      <td>1.00</td>\n",
              "      <td>0.00</td>\n",
              "      <td>0.00</td>\n",
              "      <td>0.00</td>\n",
              "      <td>0.00</td>\n",
              "    </tr>\n",
              "  </tbody>\n",
              "</table>\n",
              "<p>3436 rows × 13 columns</p>\n",
              "</div>"
            ],
            "text/plain": [
              "      Feature_1  Feature_2  Feature_3  ...  Feature_11  Feature_12  Feature_13\n",
              "0          0.25       0.00       0.00  ...        0.00        0.00        0.00\n",
              "1          0.25       0.75       1.00  ...        0.50        0.50        0.75\n",
              "2          0.00       0.25       0.00  ...        1.00        0.50        0.75\n",
              "3          0.25       0.75       1.00  ...        0.00        0.00        0.00\n",
              "4          0.25       1.00       0.00  ...        0.25        0.25        0.50\n",
              "...         ...        ...        ...  ...         ...         ...         ...\n",
              "3431       0.25       0.00       0.00  ...        0.50        1.00        0.50\n",
              "3432       1.00       0.50       1.00  ...        0.75        0.75        0.50\n",
              "3433       0.00       0.25       0.00  ...        0.00        0.00        0.00\n",
              "3434       0.00       0.25       0.25  ...        0.25        1.00        0.25\n",
              "3435       0.25       1.00       0.75  ...        0.00        0.00        0.00\n",
              "\n",
              "[3436 rows x 13 columns]"
            ]
          },
          "metadata": {
            "tags": []
          }
        }
      ]
    },
    {
      "cell_type": "markdown",
      "metadata": {
        "id": "bHwZ-q34kqRB"
      },
      "source": [
        "# 2 - Explore Data\n",
        "\n",
        "Data processing is one of the most important part. Observe your data and prepare carefully what you will give to your model for training."
      ]
    },
    {
      "cell_type": "code",
      "metadata": {
        "id": "0iPgB_mBfGUS",
        "colab": {
          "base_uri": "https://localhost:8080/",
          "height": 558
        },
        "outputId": "e7ecc0c1-35dd-450b-b878-ad64d28c87d6"
      },
      "source": [
        "display(train_data.describe())\n",
        "display(train_targets.describe())"
      ],
      "execution_count": 6,
      "outputs": [
        {
          "output_type": "display_data",
          "data": {
            "text/html": [
              "<div>\n",
              "<style scoped>\n",
              "    .dataframe tbody tr th:only-of-type {\n",
              "        vertical-align: middle;\n",
              "    }\n",
              "\n",
              "    .dataframe tbody tr th {\n",
              "        vertical-align: top;\n",
              "    }\n",
              "\n",
              "    .dataframe thead th {\n",
              "        text-align: right;\n",
              "    }\n",
              "</style>\n",
              "<table border=\"1\" class=\"dataframe\">\n",
              "  <thead>\n",
              "    <tr style=\"text-align: right;\">\n",
              "      <th></th>\n",
              "      <th>Feature_1</th>\n",
              "      <th>Feature_2</th>\n",
              "      <th>Feature_3</th>\n",
              "      <th>Feature_4</th>\n",
              "      <th>Feature_5</th>\n",
              "      <th>Feature_6</th>\n",
              "      <th>Feature_7</th>\n",
              "      <th>Feature_8</th>\n",
              "      <th>Feature_9</th>\n",
              "      <th>Feature_10</th>\n",
              "      <th>Feature_11</th>\n",
              "      <th>Feature_12</th>\n",
              "      <th>Feature_13</th>\n",
              "    </tr>\n",
              "  </thead>\n",
              "  <tbody>\n",
              "    <tr>\n",
              "      <th>count</th>\n",
              "      <td>6538.000000</td>\n",
              "      <td>6538.000000</td>\n",
              "      <td>6538.000000</td>\n",
              "      <td>6538.000000</td>\n",
              "      <td>6538.000000</td>\n",
              "      <td>6538.000000</td>\n",
              "      <td>6538.000000</td>\n",
              "      <td>6538.000000</td>\n",
              "      <td>6538.000000</td>\n",
              "      <td>6538.000000</td>\n",
              "      <td>6538.000000</td>\n",
              "      <td>6538.000000</td>\n",
              "      <td>6538.000000</td>\n",
              "    </tr>\n",
              "    <tr>\n",
              "      <th>mean</th>\n",
              "      <td>0.493423</td>\n",
              "      <td>0.500000</td>\n",
              "      <td>0.490670</td>\n",
              "      <td>0.500000</td>\n",
              "      <td>0.500000</td>\n",
              "      <td>0.500000</td>\n",
              "      <td>0.500000</td>\n",
              "      <td>0.500000</td>\n",
              "      <td>0.500000</td>\n",
              "      <td>0.485852</td>\n",
              "      <td>0.486273</td>\n",
              "      <td>0.486273</td>\n",
              "      <td>0.486273</td>\n",
              "    </tr>\n",
              "    <tr>\n",
              "      <th>std</th>\n",
              "      <td>0.357847</td>\n",
              "      <td>0.353607</td>\n",
              "      <td>0.343442</td>\n",
              "      <td>0.353607</td>\n",
              "      <td>0.353607</td>\n",
              "      <td>0.353607</td>\n",
              "      <td>0.353607</td>\n",
              "      <td>0.353607</td>\n",
              "      <td>0.353607</td>\n",
              "      <td>0.367620</td>\n",
              "      <td>0.367623</td>\n",
              "      <td>0.367623</td>\n",
              "      <td>0.367623</td>\n",
              "    </tr>\n",
              "    <tr>\n",
              "      <th>min</th>\n",
              "      <td>0.000000</td>\n",
              "      <td>0.000000</td>\n",
              "      <td>0.000000</td>\n",
              "      <td>0.000000</td>\n",
              "      <td>0.000000</td>\n",
              "      <td>0.000000</td>\n",
              "      <td>0.000000</td>\n",
              "      <td>0.000000</td>\n",
              "      <td>0.000000</td>\n",
              "      <td>0.000000</td>\n",
              "      <td>0.000000</td>\n",
              "      <td>0.000000</td>\n",
              "      <td>0.000000</td>\n",
              "    </tr>\n",
              "    <tr>\n",
              "      <th>25%</th>\n",
              "      <td>0.250000</td>\n",
              "      <td>0.250000</td>\n",
              "      <td>0.250000</td>\n",
              "      <td>0.250000</td>\n",
              "      <td>0.250000</td>\n",
              "      <td>0.250000</td>\n",
              "      <td>0.250000</td>\n",
              "      <td>0.250000</td>\n",
              "      <td>0.250000</td>\n",
              "      <td>0.000000</td>\n",
              "      <td>0.000000</td>\n",
              "      <td>0.000000</td>\n",
              "      <td>0.000000</td>\n",
              "    </tr>\n",
              "    <tr>\n",
              "      <th>50%</th>\n",
              "      <td>0.500000</td>\n",
              "      <td>0.500000</td>\n",
              "      <td>0.500000</td>\n",
              "      <td>0.500000</td>\n",
              "      <td>0.500000</td>\n",
              "      <td>0.500000</td>\n",
              "      <td>0.500000</td>\n",
              "      <td>0.500000</td>\n",
              "      <td>0.500000</td>\n",
              "      <td>0.500000</td>\n",
              "      <td>0.500000</td>\n",
              "      <td>0.500000</td>\n",
              "      <td>0.500000</td>\n",
              "    </tr>\n",
              "    <tr>\n",
              "      <th>75%</th>\n",
              "      <td>0.750000</td>\n",
              "      <td>0.750000</td>\n",
              "      <td>0.750000</td>\n",
              "      <td>0.750000</td>\n",
              "      <td>0.750000</td>\n",
              "      <td>0.750000</td>\n",
              "      <td>0.750000</td>\n",
              "      <td>0.750000</td>\n",
              "      <td>0.750000</td>\n",
              "      <td>0.750000</td>\n",
              "      <td>0.750000</td>\n",
              "      <td>0.750000</td>\n",
              "      <td>0.750000</td>\n",
              "    </tr>\n",
              "    <tr>\n",
              "      <th>max</th>\n",
              "      <td>1.000000</td>\n",
              "      <td>1.000000</td>\n",
              "      <td>1.000000</td>\n",
              "      <td>1.000000</td>\n",
              "      <td>1.000000</td>\n",
              "      <td>1.000000</td>\n",
              "      <td>1.000000</td>\n",
              "      <td>1.000000</td>\n",
              "      <td>1.000000</td>\n",
              "      <td>1.000000</td>\n",
              "      <td>1.000000</td>\n",
              "      <td>1.000000</td>\n",
              "      <td>1.000000</td>\n",
              "    </tr>\n",
              "  </tbody>\n",
              "</table>\n",
              "</div>"
            ],
            "text/plain": [
              "         Feature_1    Feature_2  ...   Feature_12   Feature_13\n",
              "count  6538.000000  6538.000000  ...  6538.000000  6538.000000\n",
              "mean      0.493423     0.500000  ...     0.486273     0.486273\n",
              "std       0.357847     0.353607  ...     0.367623     0.367623\n",
              "min       0.000000     0.000000  ...     0.000000     0.000000\n",
              "25%       0.250000     0.250000  ...     0.000000     0.000000\n",
              "50%       0.500000     0.500000  ...     0.500000     0.500000\n",
              "75%       0.750000     0.750000  ...     0.750000     0.750000\n",
              "max       1.000000     1.000000  ...     1.000000     1.000000\n",
              "\n",
              "[8 rows x 13 columns]"
            ]
          },
          "metadata": {
            "tags": []
          }
        },
        {
          "output_type": "display_data",
          "data": {
            "text/html": [
              "<div>\n",
              "<style scoped>\n",
              "    .dataframe tbody tr th:only-of-type {\n",
              "        vertical-align: middle;\n",
              "    }\n",
              "\n",
              "    .dataframe tbody tr th {\n",
              "        vertical-align: top;\n",
              "    }\n",
              "\n",
              "    .dataframe thead th {\n",
              "        text-align: right;\n",
              "    }\n",
              "</style>\n",
              "<table border=\"1\" class=\"dataframe\">\n",
              "  <thead>\n",
              "    <tr style=\"text-align: right;\">\n",
              "      <th></th>\n",
              "      <th>target_r</th>\n",
              "      <th>target_g</th>\n",
              "      <th>target_b</th>\n",
              "    </tr>\n",
              "  </thead>\n",
              "  <tbody>\n",
              "    <tr>\n",
              "      <th>count</th>\n",
              "      <td>6538.000000</td>\n",
              "      <td>6538.000000</td>\n",
              "      <td>6538.000000</td>\n",
              "    </tr>\n",
              "    <tr>\n",
              "      <th>mean</th>\n",
              "      <td>0.500000</td>\n",
              "      <td>0.500000</td>\n",
              "      <td>0.500000</td>\n",
              "    </tr>\n",
              "    <tr>\n",
              "      <th>std</th>\n",
              "      <td>0.353607</td>\n",
              "      <td>0.353607</td>\n",
              "      <td>0.353607</td>\n",
              "    </tr>\n",
              "    <tr>\n",
              "      <th>min</th>\n",
              "      <td>0.000000</td>\n",
              "      <td>0.000000</td>\n",
              "      <td>0.000000</td>\n",
              "    </tr>\n",
              "    <tr>\n",
              "      <th>25%</th>\n",
              "      <td>0.250000</td>\n",
              "      <td>0.250000</td>\n",
              "      <td>0.250000</td>\n",
              "    </tr>\n",
              "    <tr>\n",
              "      <th>50%</th>\n",
              "      <td>0.500000</td>\n",
              "      <td>0.500000</td>\n",
              "      <td>0.500000</td>\n",
              "    </tr>\n",
              "    <tr>\n",
              "      <th>75%</th>\n",
              "      <td>0.750000</td>\n",
              "      <td>0.750000</td>\n",
              "      <td>0.750000</td>\n",
              "    </tr>\n",
              "    <tr>\n",
              "      <th>max</th>\n",
              "      <td>1.000000</td>\n",
              "      <td>1.000000</td>\n",
              "      <td>1.000000</td>\n",
              "    </tr>\n",
              "  </tbody>\n",
              "</table>\n",
              "</div>"
            ],
            "text/plain": [
              "          target_r     target_g     target_b\n",
              "count  6538.000000  6538.000000  6538.000000\n",
              "mean      0.500000     0.500000     0.500000\n",
              "std       0.353607     0.353607     0.353607\n",
              "min       0.000000     0.000000     0.000000\n",
              "25%       0.250000     0.250000     0.250000\n",
              "50%       0.500000     0.500000     0.500000\n",
              "75%       0.750000     0.750000     0.750000\n",
              "max       1.000000     1.000000     1.000000"
            ]
          },
          "metadata": {
            "tags": []
          }
        }
      ]
    },
    {
      "cell_type": "code",
      "metadata": {
        "id": "EgMi829jOUac",
        "outputId": "cb78aabf-61c2-4ca7-829d-9e25f9d0c806",
        "colab": {
          "base_uri": "https://localhost:8080/",
          "height": 550
        }
      },
      "source": [
        "train_corr = train_data.corr()\n",
        "test_corr = test_data.corr()\n",
        "plt.figure(figsize=(10,8))\n",
        "sns.heatmap(train_corr, annot=True, fmt='.2f', cmap='coolwarm', linewidths=0.4)"
      ],
      "execution_count": 22,
      "outputs": [
        {
          "output_type": "execute_result",
          "data": {
            "text/plain": [
              "<matplotlib.axes._subplots.AxesSubplot at 0x7f777ccb2850>"
            ]
          },
          "metadata": {
            "tags": []
          },
          "execution_count": 22
        },
        {
          "output_type": "display_data",
          "data": {
            "image/png": "[encoded data removed]",
            "text/plain": [
              "<Figure size 720x576 with 2 Axes>"
            ]
          },
          "metadata": {
            "tags": [],
            "needs_background": "light"
          }
        }
      ]
    },
    {
      "cell_type": "code",
      "metadata": {
        "id": "ahZiOjkwQNvV",
        "outputId": "d0c7fd49-e6a4-4c07-da1b-5d40ac13784d",
        "colab": {
          "base_uri": "https://localhost:8080/",
          "height": 550
        }
      },
      "source": [
        "plt.figure(figsize=(10,8))\n",
        "sns.heatmap(test_corr, annot=True, fmt='.2f', cmap='coolwarm', linewidths=0.4)"
      ],
      "execution_count": 24,
      "outputs": [
        {
          "output_type": "execute_result",
          "data": {
            "text/plain": [
              "<matplotlib.axes._subplots.AxesSubplot at 0x7f777b9427d0>"
            ]
          },
          "metadata": {
            "tags": []
          },
          "execution_count": 24
        },
        {
          "output_type": "display_data",
          "data": {
            "image/png": "[encoded data removed]",
            "text/plain": [
              "<Figure size 720x576 with 2 Axes>"
            ]
          },
          "metadata": {
            "tags": [],
            "needs_background": "light"
          }
        }
      ]
    },
    {
      "cell_type": "code",
      "metadata": {
        "id": "euZ6nUnTQfpl",
        "outputId": "7e4ebb5d-19a0-42de-e6c5-7945c6ebfd51",
        "colab": {
          "base_uri": "https://localhost:8080/"
        }
      },
      "source": [
        "print(train_data.shape, test_data.shape)"
      ],
      "execution_count": 25,
      "outputs": [
        {
          "output_type": "stream",
          "text": [
            "(6538, 13) (3436, 13)\n"
          ],
          "name": "stdout"
        }
      ]
    },
    {
      "cell_type": "code",
      "metadata": {
        "id": "GkdKbIiLQk2p"
      },
      "source": [
        "df_combind = pd.concat([train_data, test_data], axis=0)"
      ],
      "execution_count": 26,
      "outputs": []
    },
    {
      "cell_type": "code",
      "metadata": {
        "id": "ry2DKVLaQr0x",
        "outputId": "9512937f-e31a-4f22-a32c-f83660d919df",
        "colab": {
          "base_uri": "https://localhost:8080/"
        }
      },
      "source": [
        "df_combind.shape"
      ],
      "execution_count": 27,
      "outputs": [
        {
          "output_type": "execute_result",
          "data": {
            "text/plain": [
              "(9974, 13)"
            ]
          },
          "metadata": {
            "tags": []
          },
          "execution_count": 27
        }
      ]
    },
    {
      "cell_type": "code",
      "metadata": {
        "id": "ZbS9XrfwQ5Ut",
        "outputId": "8f7eded1-e5d0-41c1-aa7e-22fbe7bfa959",
        "colab": {
          "base_uri": "https://localhost:8080/",
          "height": 550
        }
      },
      "source": [
        "combind_corr = df_combind.corr()\n",
        "plt.figure(figsize=(10,8))\n",
        "sns.heatmap(combind_corr, annot=True, fmt='.2f', cmap='coolwarm', linewidths=0.4)"
      ],
      "execution_count": 31,
      "outputs": [
        {
          "output_type": "execute_result",
          "data": {
            "text/plain": [
              "<matplotlib.axes._subplots.AxesSubplot at 0x7f7771b001d0>"
            ]
          },
          "metadata": {
            "tags": []
          },
          "execution_count": 31
        },
        {
          "output_type": "display_data",
          "data": {
            "image/png": "[encoded data removed]",
            "text/plain": [
              "<Figure size 720x576 with 2 Axes>"
            ]
          },
          "metadata": {
            "tags": [],
            "needs_background": "light"
          }
        }
      ]
    },
    {
      "cell_type": "code",
      "metadata": {
        "id": "2Pe-TLA40fpA",
        "outputId": "d68f7a34-b0e2-4913-c29c-eed9187513a6",
        "colab": {
          "base_uri": "https://localhost:8080/"
        }
      },
      "source": [
        "test_data.isna().sum()"
      ],
      "execution_count": 119,
      "outputs": [
        {
          "output_type": "execute_result",
          "data": {
            "text/plain": [
              "Feature_1     0\n",
              "Feature_2     0\n",
              "Feature_3     0\n",
              "Feature_4     0\n",
              "Feature_5     0\n",
              "Feature_6     0\n",
              "Feature_7     0\n",
              "Feature_8     0\n",
              "Feature_9     0\n",
              "Feature_10    0\n",
              "Feature_11    0\n",
              "Feature_12    0\n",
              "Feature_13    0\n",
              "dtype: int64"
            ]
          },
          "metadata": {
            "tags": []
          },
          "execution_count": 119
        }
      ]
    },
    {
      "cell_type": "markdown",
      "metadata": {
        "id": "r8WONtVJBTCn"
      },
      "source": [
        "# 3 - Choose models\n",
        "\n",
        "Crunch with originality!!! 👨🏻‍🏭"
      ]
    },
    {
      "cell_type": "code",
      "metadata": {
        "id": "eNWg4ZtSbpDt"
      },
      "source": [
        "from sklearn.model_selection import RandomizedSearchCV, RepeatedStratifiedKFold, ShuffleSplit, learning_curve, RepeatedKFold"
      ],
      "execution_count": 120,
      "outputs": []
    },
    {
      "cell_type": "code",
      "metadata": {
        "id": "shMix_0ZcKya",
        "outputId": "a3b5469a-425b-45a6-90fd-2a99365d96c0",
        "colab": {
          "base_uri": "https://localhost:8080/"
        }
      },
      "source": [
        "import sklearn\n",
        "sklearn.metrics.SCORERS.keys()"
      ],
      "execution_count": 121,
      "outputs": [
        {
          "output_type": "execute_result",
          "data": {
            "text/plain": [
              "dict_keys(['explained_variance', 'r2', 'max_error', 'neg_median_absolute_error', 'neg_mean_absolute_error', 'neg_mean_squared_error', 'neg_mean_squared_log_error', 'neg_root_mean_squared_error', 'neg_mean_poisson_deviance', 'neg_mean_gamma_deviance', 'accuracy', 'roc_auc', 'roc_auc_ovr', 'roc_auc_ovo', 'roc_auc_ovr_weighted', 'roc_auc_ovo_weighted', 'balanced_accuracy', 'average_precision', 'neg_log_loss', 'neg_brier_score', 'adjusted_rand_score', 'homogeneity_score', 'completeness_score', 'v_measure_score', 'mutual_info_score', 'adjusted_mutual_info_score', 'normalized_mutual_info_score', 'fowlkes_mallows_score', 'precision', 'precision_macro', 'precision_micro', 'precision_samples', 'precision_weighted', 'recall', 'recall_macro', 'recall_micro', 'recall_samples', 'recall_weighted', 'f1', 'f1_macro', 'f1_micro', 'f1_samples', 'f1_weighted', 'jaccard', 'jaccard_macro', 'jaccard_micro', 'jaccard_samples', 'jaccard_weighted'])"
            ]
          },
          "metadata": {
            "tags": []
          },
          "execution_count": 121
        }
      ]
    },
    {
      "cell_type": "code",
      "metadata": {
        "id": "htDunM1ScobG"
      },
      "source": [
        "estimator = xgb.XGBRegressor(objective='reg:squarederror', random_state=42)"
      ],
      "execution_count": 122,
      "outputs": []
    },
    {
      "cell_type": "code",
      "metadata": {
        "id": "_qaMcK2ccAWn"
      },
      "source": [
        "parameters = {\n",
        "    'learning_rate': [0.01, 0.1],\n",
        "        'max_depth': [3, 5, 7, 10],\n",
        "        'min_child_weight': [1, 3, 5],\n",
        "        'subsample': [0.5, 0.7],\n",
        "        'colsample_bytree': [0.5, 0.7],\n",
        "        'objective': ['reg:squarederror'], \n",
        "        'n_estimators': range(50, 1000, 50),\n",
        "}"
      ],
      "execution_count": 123,
      "outputs": []
    },
    {
      "cell_type": "code",
      "metadata": {
        "id": "tfOa4dWncBud"
      },
      "source": [
        "cv = RepeatedKFold(n_splits=10, n_repeats=3, random_state=42)"
      ],
      "execution_count": 124,
      "outputs": []
    },
    {
      "cell_type": "code",
      "metadata": {
        "id": "kCCWCa3pcFqn"
      },
      "source": [
        "rand_search = RandomizedSearchCV(\n",
        "    estimator=estimator,\n",
        "    param_distributions=parameters,\n",
        "    scoring = 'neg_mean_absolute_error',\n",
        "    n_jobs = -1,\n",
        "    cv = cv,\n",
        "    verbose=True, random_state=42\n",
        ")"
      ],
      "execution_count": 125,
      "outputs": []
    },
    {
      "cell_type": "code",
      "metadata": {
        "id": "8yo65hBS1Wwp"
      },
      "source": [
        "def xg_boost_hackathon(data, target):\n",
        "    X, y = data, target\n",
        "    X_train, X_test, y_train, y_test = train_test_split(X, y, test_size=0.2, shuffle=False)\n",
        "    model = xgb.XGBRegressor(objective='reg:squarederror', max_depth=5, learning_rate=0.01, n_estimators=200, n_jobs=-1, colsample_bytree=0.5)\n",
        "    model.fit(X_train, y_train)\n",
        "    pred = model.predict(X_test)\n",
        "    scorer(y_test, pred)\n",
        "\n",
        "    return model"
      ],
      "execution_count": 126,
      "outputs": []
    },
    {
      "cell_type": "code",
      "metadata": {
        "id": "V-DP8S64j0EA"
      },
      "source": [
        "def hyperparameter_opt(data, target):\n",
        "    \n",
        "    X, y = data, target\n",
        "    \n",
        "    X_train, X_test, y_train, y_test = train_test_split(X, y, test_size=0.2, shuffle=False)\n",
        "\n",
        "    estimator = xgb.XGBRegressor(objective='reg:squarederror', random_state=42)\n",
        "    \n",
        "    rand_search = RandomizedSearchCV(\n",
        "        estimator=estimator,\n",
        "        param_distributions=parameters,\n",
        "        scoring = 'neg_mean_squared_error',\n",
        "        n_jobs = -1,\n",
        "        cv = cv,\n",
        "        verbose=True, random_state=42)\n",
        "    \n",
        "    rand_search_result = rand_search.fit(X_train, y_train)\n",
        "    print(rand_search_result.best_params_)\n",
        "    return rand_search_result"
      ],
      "execution_count": 127,
      "outputs": []
    },
    {
      "cell_type": "code",
      "metadata": {
        "id": "IhE6S6sOdtmT",
        "outputId": "93e50764-8e90-4837-a088-e3486fba4407",
        "colab": {
          "base_uri": "https://localhost:8080/"
        }
      },
      "source": [
        "target_r_params = hyperparameter_opt(train_data, train_targets.target_r)"
      ],
      "execution_count": 128,
      "outputs": [
        {
          "output_type": "stream",
          "text": [
            "Fitting 30 folds for each of 10 candidates, totalling 300 fits\n"
          ],
          "name": "stdout"
        },
        {
          "output_type": "stream",
          "text": [
            "[Parallel(n_jobs=-1)]: Using backend LokyBackend with 2 concurrent workers.\n",
            "[Parallel(n_jobs=-1)]: Done  46 tasks      | elapsed:  1.1min\n",
            "[Parallel(n_jobs=-1)]: Done 196 tasks      | elapsed:  6.0min\n",
            "[Parallel(n_jobs=-1)]: Done 300 out of 300 | elapsed:  7.8min finished\n"
          ],
          "name": "stderr"
        },
        {
          "output_type": "stream",
          "text": [
            "{'subsample': 0.7, 'objective': 'reg:squarederror', 'n_estimators': 200, 'min_child_weight': 1, 'max_depth': 5, 'learning_rate': 0.01, 'colsample_bytree': 0.5}\n"
          ],
          "name": "stdout"
        }
      ]
    },
    {
      "cell_type": "code",
      "metadata": {
        "id": "NU7JX_zyfS7Y",
        "outputId": "46927cfa-ba87-488f-8652-6e560ba6c0ae",
        "colab": {
          "base_uri": "https://localhost:8080/"
        }
      },
      "source": [
        "target_g_params = hyperparameter_opt(train_data, train_targets.target_g)"
      ],
      "execution_count": 129,
      "outputs": [
        {
          "output_type": "stream",
          "text": [
            "Fitting 30 folds for each of 10 candidates, totalling 300 fits\n"
          ],
          "name": "stdout"
        },
        {
          "output_type": "stream",
          "text": [
            "[Parallel(n_jobs=-1)]: Using backend LokyBackend with 2 concurrent workers.\n",
            "[Parallel(n_jobs=-1)]: Done  46 tasks      | elapsed:  1.1min\n",
            "[Parallel(n_jobs=-1)]: Done 196 tasks      | elapsed:  5.9min\n",
            "[Parallel(n_jobs=-1)]: Done 300 out of 300 | elapsed:  7.7min finished\n"
          ],
          "name": "stderr"
        },
        {
          "output_type": "stream",
          "text": [
            "{'subsample': 0.7, 'objective': 'reg:squarederror', 'n_estimators': 200, 'min_child_weight': 1, 'max_depth': 5, 'learning_rate': 0.01, 'colsample_bytree': 0.5}\n"
          ],
          "name": "stdout"
        }
      ]
    },
    {
      "cell_type": "code",
      "metadata": {
        "id": "sw9nah1OfYsH",
        "outputId": "fb4b3f5e-dbc8-4324-baba-14e12813b853",
        "colab": {
          "base_uri": "https://localhost:8080/"
        }
      },
      "source": [
        "target_b_params = hyperparameter_opt(train_data, train_targets.target_b)"
      ],
      "execution_count": 130,
      "outputs": [
        {
          "output_type": "stream",
          "text": [
            "Fitting 30 folds for each of 10 candidates, totalling 300 fits\n"
          ],
          "name": "stdout"
        },
        {
          "output_type": "stream",
          "text": [
            "[Parallel(n_jobs=-1)]: Using backend LokyBackend with 2 concurrent workers.\n",
            "[Parallel(n_jobs=-1)]: Done  46 tasks      | elapsed:  1.1min\n",
            "[Parallel(n_jobs=-1)]: Done 196 tasks      | elapsed:  5.9min\n",
            "[Parallel(n_jobs=-1)]: Done 300 out of 300 | elapsed:  7.8min finished\n"
          ],
          "name": "stderr"
        },
        {
          "output_type": "stream",
          "text": [
            "{'subsample': 0.7, 'objective': 'reg:squarederror', 'n_estimators': 200, 'min_child_weight': 1, 'max_depth': 5, 'learning_rate': 0.01, 'colsample_bytree': 0.5}\n"
          ],
          "name": "stdout"
        }
      ]
    },
    {
      "cell_type": "markdown",
      "metadata": {
        "id": "ThXEtpTCDgki"
      },
      "source": [
        "# 4 - Modelling"
      ]
    },
    {
      "cell_type": "code",
      "metadata": {
        "id": "30s41aYKkE5P"
      },
      "source": [
        "def xg_boost_hackathon(data, target):\n",
        "    X, y = data, target\n",
        "    X_train, X_test, y_train, y_test = train_test_split(X, y, test_size=0.2, shuffle=False)\n",
        "    model = xgb.XGBRegressor(objective='reg:squarederror', subsample = 0.7, n_estimators = 200,\n",
        "                             min_child_weight = 1, max_depth = 5, learning_rate = 0.01, colsample_bytree = 0.5)\n",
        "    model.fit(X_train, y_train, eval_set = [(X_train, y_train), (X_test, y_test)], eval_metric='rmse')\n",
        "    pred = model.predict(X_test)\n",
        "    scorer(y_test, pred)\n",
        "\n",
        "    return model"
      ],
      "execution_count": 131,
      "outputs": []
    },
    {
      "cell_type": "code",
      "metadata": {
        "id": "A6MiyNq73oS6"
      },
      "source": [
        "def scorer(y_test, y_pred):\n",
        "    score = (stats.spearmanr(y_test, y_pred)*100)[0]\n",
        "    print('Score as calculated for the leader board (っಠ‿ಠ)っ {}'.format(score))"
      ],
      "execution_count": 132,
      "outputs": []
    },
    {
      "cell_type": "markdown",
      "metadata": {
        "id": "bIN2mrYtlXRp"
      },
      "source": [
        "# Train your Models on targets\n",
        "\n",
        "You can submit continious target if you want"
      ]
    },
    {
      "cell_type": "code",
      "metadata": {
        "id": "N-FDauajpOk6",
        "colab": {
          "base_uri": "https://localhost:8080/"
        },
        "outputId": "4dec87a5-cc3b-49ef-ac7d-2fa2bc66e6b4"
      },
      "source": [
        "# Making prediction for target r\n",
        "model_target_r = xg_boost_hackathon(train_data, train_targets.target_r)"
      ],
      "execution_count": 133,
      "outputs": [
        {
          "output_type": "stream",
          "text": [
            "[0]\tvalidation_0-rmse:0.348136\tvalidation_1-rmse:0.374263\n",
            "[1]\tvalidation_0-rmse:0.348073\tvalidation_1-rmse:0.374308\n",
            "[2]\tvalidation_0-rmse:0.347986\tvalidation_1-rmse:0.374367\n",
            "[3]\tvalidation_0-rmse:0.347915\tvalidation_1-rmse:0.374388\n",
            "[4]\tvalidation_0-rmse:0.347839\tvalidation_1-rmse:0.374389\n",
            "[5]\tvalidation_0-rmse:0.347739\tvalidation_1-rmse:0.374387\n",
            "[6]\tvalidation_0-rmse:0.347653\tvalidation_1-rmse:0.37439\n",
            "[7]\tvalidation_0-rmse:0.347572\tvalidation_1-rmse:0.374417\n",
            "[8]\tvalidation_0-rmse:0.347479\tvalidation_1-rmse:0.37443\n",
            "[9]\tvalidation_0-rmse:0.347375\tvalidation_1-rmse:0.374467\n",
            "[10]\tvalidation_0-rmse:0.34731\tvalidation_1-rmse:0.374469\n",
            "[11]\tvalidation_0-rmse:0.34723\tvalidation_1-rmse:0.374503\n",
            "[12]\tvalidation_0-rmse:0.347144\tvalidation_1-rmse:0.374519\n",
            "[13]\tvalidation_0-rmse:0.347072\tvalidation_1-rmse:0.374529\n",
            "[14]\tvalidation_0-rmse:0.346985\tvalidation_1-rmse:0.374544\n",
            "[15]\tvalidation_0-rmse:0.346906\tvalidation_1-rmse:0.374567\n",
            "[16]\tvalidation_0-rmse:0.346825\tvalidation_1-rmse:0.374589\n",
            "[17]\tvalidation_0-rmse:0.34674\tvalidation_1-rmse:0.374598\n",
            "[18]\tvalidation_0-rmse:0.346661\tvalidation_1-rmse:0.374617\n",
            "[19]\tvalidation_0-rmse:0.346576\tvalidation_1-rmse:0.374644\n",
            "[20]\tvalidation_0-rmse:0.346507\tvalidation_1-rmse:0.374637\n",
            "[21]\tvalidation_0-rmse:0.346415\tvalidation_1-rmse:0.374642\n",
            "[22]\tvalidation_0-rmse:0.346344\tvalidation_1-rmse:0.37469\n",
            "[23]\tvalidation_0-rmse:0.34627\tvalidation_1-rmse:0.374726\n",
            "[24]\tvalidation_0-rmse:0.346211\tvalidation_1-rmse:0.374759\n",
            "[25]\tvalidation_0-rmse:0.346147\tvalidation_1-rmse:0.374789\n",
            "[26]\tvalidation_0-rmse:0.346067\tvalidation_1-rmse:0.374805\n",
            "[27]\tvalidation_0-rmse:0.345992\tvalidation_1-rmse:0.374843\n",
            "[28]\tvalidation_0-rmse:0.345923\tvalidation_1-rmse:0.374876\n",
            "[29]\tvalidation_0-rmse:0.345831\tvalidation_1-rmse:0.374918\n",
            "[30]\tvalidation_0-rmse:0.345759\tvalidation_1-rmse:0.374931\n",
            "[31]\tvalidation_0-rmse:0.3457\tvalidation_1-rmse:0.374948\n",
            "[32]\tvalidation_0-rmse:0.345632\tvalidation_1-rmse:0.374967\n",
            "[33]\tvalidation_0-rmse:0.345558\tvalidation_1-rmse:0.374982\n",
            "[34]\tvalidation_0-rmse:0.345492\tvalidation_1-rmse:0.375\n",
            "[35]\tvalidation_0-rmse:0.345422\tvalidation_1-rmse:0.375045\n",
            "[36]\tvalidation_0-rmse:0.345339\tvalidation_1-rmse:0.375079\n",
            "[37]\tvalidation_0-rmse:0.345273\tvalidation_1-rmse:0.375121\n",
            "[38]\tvalidation_0-rmse:0.345203\tvalidation_1-rmse:0.375159\n",
            "[39]\tvalidation_0-rmse:0.345152\tvalidation_1-rmse:0.37519\n",
            "[40]\tvalidation_0-rmse:0.345082\tvalidation_1-rmse:0.375197\n",
            "[41]\tvalidation_0-rmse:0.345004\tvalidation_1-rmse:0.375232\n",
            "[42]\tvalidation_0-rmse:0.344941\tvalidation_1-rmse:0.375256\n",
            "[43]\tvalidation_0-rmse:0.344874\tvalidation_1-rmse:0.375257\n",
            "[44]\tvalidation_0-rmse:0.344823\tvalidation_1-rmse:0.375297\n",
            "[45]\tvalidation_0-rmse:0.34476\tvalidation_1-rmse:0.375318\n",
            "[46]\tvalidation_0-rmse:0.344686\tvalidation_1-rmse:0.375321\n",
            "[47]\tvalidation_0-rmse:0.344621\tvalidation_1-rmse:0.375322\n",
            "[48]\tvalidation_0-rmse:0.344551\tvalidation_1-rmse:0.375341\n",
            "[49]\tvalidation_0-rmse:0.344463\tvalidation_1-rmse:0.375385\n",
            "[50]\tvalidation_0-rmse:0.344409\tvalidation_1-rmse:0.375403\n",
            "[51]\tvalidation_0-rmse:0.344354\tvalidation_1-rmse:0.375419\n",
            "[52]\tvalidation_0-rmse:0.344281\tvalidation_1-rmse:0.375466\n",
            "[53]\tvalidation_0-rmse:0.344201\tvalidation_1-rmse:0.375504\n",
            "[54]\tvalidation_0-rmse:0.344106\tvalidation_1-rmse:0.375532\n",
            "[55]\tvalidation_0-rmse:0.344027\tvalidation_1-rmse:0.375573\n",
            "[56]\tvalidation_0-rmse:0.343964\tvalidation_1-rmse:0.375575\n",
            "[57]\tvalidation_0-rmse:0.343912\tvalidation_1-rmse:0.375596\n",
            "[58]\tvalidation_0-rmse:0.343859\tvalidation_1-rmse:0.375608\n",
            "[59]\tvalidation_0-rmse:0.343788\tvalidation_1-rmse:0.375638\n",
            "[60]\tvalidation_0-rmse:0.34372\tvalidation_1-rmse:0.375637\n",
            "[61]\tvalidation_0-rmse:0.343648\tvalidation_1-rmse:0.375641\n",
            "[62]\tvalidation_0-rmse:0.343572\tvalidation_1-rmse:0.375677\n",
            "[63]\tvalidation_0-rmse:0.343504\tvalidation_1-rmse:0.375704\n",
            "[64]\tvalidation_0-rmse:0.343427\tvalidation_1-rmse:0.375705\n",
            "[65]\tvalidation_0-rmse:0.34338\tvalidation_1-rmse:0.375748\n",
            "[66]\tvalidation_0-rmse:0.343305\tvalidation_1-rmse:0.37573\n",
            "[67]\tvalidation_0-rmse:0.343248\tvalidation_1-rmse:0.375746\n",
            "[68]\tvalidation_0-rmse:0.343174\tvalidation_1-rmse:0.375765\n",
            "[69]\tvalidation_0-rmse:0.34311\tvalidation_1-rmse:0.375767\n",
            "[70]\tvalidation_0-rmse:0.343053\tvalidation_1-rmse:0.375774\n",
            "[71]\tvalidation_0-rmse:0.34299\tvalidation_1-rmse:0.375786\n",
            "[72]\tvalidation_0-rmse:0.342932\tvalidation_1-rmse:0.375835\n",
            "[73]\tvalidation_0-rmse:0.342878\tvalidation_1-rmse:0.375835\n",
            "[74]\tvalidation_0-rmse:0.34282\tvalidation_1-rmse:0.375856\n",
            "[75]\tvalidation_0-rmse:0.34277\tvalidation_1-rmse:0.375857\n",
            "[76]\tvalidation_0-rmse:0.342713\tvalidation_1-rmse:0.375896\n",
            "[77]\tvalidation_0-rmse:0.342653\tvalidation_1-rmse:0.375911\n",
            "[78]\tvalidation_0-rmse:0.342594\tvalidation_1-rmse:0.37591\n",
            "[79]\tvalidation_0-rmse:0.342537\tvalidation_1-rmse:0.375938\n",
            "[80]\tvalidation_0-rmse:0.342471\tvalidation_1-rmse:0.375954\n",
            "[81]\tvalidation_0-rmse:0.342411\tvalidation_1-rmse:0.376008\n",
            "[82]\tvalidation_0-rmse:0.34236\tvalidation_1-rmse:0.376023\n",
            "[83]\tvalidation_0-rmse:0.342302\tvalidation_1-rmse:0.376014\n",
            "[84]\tvalidation_0-rmse:0.342245\tvalidation_1-rmse:0.376013\n",
            "[85]\tvalidation_0-rmse:0.342188\tvalidation_1-rmse:0.376006\n",
            "[86]\tvalidation_0-rmse:0.342124\tvalidation_1-rmse:0.376005\n",
            "[87]\tvalidation_0-rmse:0.342055\tvalidation_1-rmse:0.376037\n",
            "[88]\tvalidation_0-rmse:0.342004\tvalidation_1-rmse:0.376074\n",
            "[89]\tvalidation_0-rmse:0.34193\tvalidation_1-rmse:0.376107\n",
            "[90]\tvalidation_0-rmse:0.341855\tvalidation_1-rmse:0.376143\n",
            "[91]\tvalidation_0-rmse:0.341773\tvalidation_1-rmse:0.376155\n",
            "[92]\tvalidation_0-rmse:0.341708\tvalidation_1-rmse:0.376171\n",
            "[93]\tvalidation_0-rmse:0.341655\tvalidation_1-rmse:0.376172\n",
            "[94]\tvalidation_0-rmse:0.34159\tvalidation_1-rmse:0.376204\n",
            "[95]\tvalidation_0-rmse:0.34153\tvalidation_1-rmse:0.376175\n",
            "[96]\tvalidation_0-rmse:0.341473\tvalidation_1-rmse:0.376195\n",
            "[97]\tvalidation_0-rmse:0.341404\tvalidation_1-rmse:0.376219\n",
            "[98]\tvalidation_0-rmse:0.341334\tvalidation_1-rmse:0.376258\n",
            "[99]\tvalidation_0-rmse:0.341287\tvalidation_1-rmse:0.376271\n",
            "[100]\tvalidation_0-rmse:0.341241\tvalidation_1-rmse:0.376245\n",
            "[101]\tvalidation_0-rmse:0.341186\tvalidation_1-rmse:0.37626\n",
            "[102]\tvalidation_0-rmse:0.34113\tvalidation_1-rmse:0.376312\n",
            "[103]\tvalidation_0-rmse:0.341086\tvalidation_1-rmse:0.376332\n",
            "[104]\tvalidation_0-rmse:0.341026\tvalidation_1-rmse:0.37636\n",
            "[105]\tvalidation_0-rmse:0.340969\tvalidation_1-rmse:0.376365\n",
            "[106]\tvalidation_0-rmse:0.340904\tvalidation_1-rmse:0.376375\n",
            "[107]\tvalidation_0-rmse:0.340851\tvalidation_1-rmse:0.376363\n",
            "[108]\tvalidation_0-rmse:0.340793\tvalidation_1-rmse:0.376388\n",
            "[109]\tvalidation_0-rmse:0.340743\tvalidation_1-rmse:0.376416\n",
            "[110]\tvalidation_0-rmse:0.340693\tvalidation_1-rmse:0.376419\n",
            "[111]\tvalidation_0-rmse:0.340652\tvalidation_1-rmse:0.37643\n",
            "[112]\tvalidation_0-rmse:0.340616\tvalidation_1-rmse:0.376442\n",
            "[113]\tvalidation_0-rmse:0.340556\tvalidation_1-rmse:0.37648\n",
            "[114]\tvalidation_0-rmse:0.340514\tvalidation_1-rmse:0.376488\n",
            "[115]\tvalidation_0-rmse:0.340457\tvalidation_1-rmse:0.376508\n",
            "[116]\tvalidation_0-rmse:0.34039\tvalidation_1-rmse:0.376537\n",
            "[117]\tvalidation_0-rmse:0.340357\tvalidation_1-rmse:0.376511\n",
            "[118]\tvalidation_0-rmse:0.340311\tvalidation_1-rmse:0.37655\n",
            "[119]\tvalidation_0-rmse:0.340263\tvalidation_1-rmse:0.376562\n",
            "[120]\tvalidation_0-rmse:0.340193\tvalidation_1-rmse:0.376535\n",
            "[121]\tvalidation_0-rmse:0.340123\tvalidation_1-rmse:0.37655\n",
            "[122]\tvalidation_0-rmse:0.340079\tvalidation_1-rmse:0.376555\n",
            "[123]\tvalidation_0-rmse:0.340022\tvalidation_1-rmse:0.376581\n",
            "[124]\tvalidation_0-rmse:0.339972\tvalidation_1-rmse:0.376585\n",
            "[125]\tvalidation_0-rmse:0.339915\tvalidation_1-rmse:0.376606\n",
            "[126]\tvalidation_0-rmse:0.33986\tvalidation_1-rmse:0.37663\n",
            "[127]\tvalidation_0-rmse:0.339817\tvalidation_1-rmse:0.376638\n",
            "[128]\tvalidation_0-rmse:0.339771\tvalidation_1-rmse:0.376672\n",
            "[129]\tvalidation_0-rmse:0.339722\tvalidation_1-rmse:0.376701\n",
            "[130]\tvalidation_0-rmse:0.33967\tvalidation_1-rmse:0.376711\n",
            "[131]\tvalidation_0-rmse:0.339614\tvalidation_1-rmse:0.376697\n",
            "[132]\tvalidation_0-rmse:0.339561\tvalidation_1-rmse:0.376679\n",
            "[133]\tvalidation_0-rmse:0.339498\tvalidation_1-rmse:0.376704\n",
            "[134]\tvalidation_0-rmse:0.339451\tvalidation_1-rmse:0.376728\n",
            "[135]\tvalidation_0-rmse:0.339408\tvalidation_1-rmse:0.376746\n",
            "[136]\tvalidation_0-rmse:0.339356\tvalidation_1-rmse:0.376766\n",
            "[137]\tvalidation_0-rmse:0.339311\tvalidation_1-rmse:0.376777\n",
            "[138]\tvalidation_0-rmse:0.339267\tvalidation_1-rmse:0.376795\n",
            "[139]\tvalidation_0-rmse:0.339233\tvalidation_1-rmse:0.376819\n",
            "[140]\tvalidation_0-rmse:0.339181\tvalidation_1-rmse:0.376849\n",
            "[141]\tvalidation_0-rmse:0.33914\tvalidation_1-rmse:0.376881\n",
            "[142]\tvalidation_0-rmse:0.339074\tvalidation_1-rmse:0.376895\n",
            "[143]\tvalidation_0-rmse:0.339022\tvalidation_1-rmse:0.376913\n",
            "[144]\tvalidation_0-rmse:0.338966\tvalidation_1-rmse:0.376946\n",
            "[145]\tvalidation_0-rmse:0.338916\tvalidation_1-rmse:0.376936\n",
            "[146]\tvalidation_0-rmse:0.338868\tvalidation_1-rmse:0.37693\n",
            "[147]\tvalidation_0-rmse:0.338829\tvalidation_1-rmse:0.376912\n",
            "[148]\tvalidation_0-rmse:0.338768\tvalidation_1-rmse:0.376935\n",
            "[149]\tvalidation_0-rmse:0.338717\tvalidation_1-rmse:0.376929\n",
            "[150]\tvalidation_0-rmse:0.338659\tvalidation_1-rmse:0.37694\n",
            "[151]\tvalidation_0-rmse:0.338612\tvalidation_1-rmse:0.37695\n",
            "[152]\tvalidation_0-rmse:0.338566\tvalidation_1-rmse:0.376962\n",
            "[153]\tvalidation_0-rmse:0.338514\tvalidation_1-rmse:0.376993\n",
            "[154]\tvalidation_0-rmse:0.33846\tvalidation_1-rmse:0.376987\n",
            "[155]\tvalidation_0-rmse:0.338405\tvalidation_1-rmse:0.377006\n",
            "[156]\tvalidation_0-rmse:0.338354\tvalidation_1-rmse:0.377006\n",
            "[157]\tvalidation_0-rmse:0.338299\tvalidation_1-rmse:0.377007\n",
            "[158]\tvalidation_0-rmse:0.338257\tvalidation_1-rmse:0.377001\n",
            "[159]\tvalidation_0-rmse:0.338214\tvalidation_1-rmse:0.377019\n",
            "[160]\tvalidation_0-rmse:0.338164\tvalidation_1-rmse:0.377029\n",
            "[161]\tvalidation_0-rmse:0.338113\tvalidation_1-rmse:0.377031\n",
            "[162]\tvalidation_0-rmse:0.338059\tvalidation_1-rmse:0.377051\n",
            "[163]\tvalidation_0-rmse:0.338023\tvalidation_1-rmse:0.377083\n",
            "[164]\tvalidation_0-rmse:0.337976\tvalidation_1-rmse:0.377106\n",
            "[165]\tvalidation_0-rmse:0.337915\tvalidation_1-rmse:0.377125\n",
            "[166]\tvalidation_0-rmse:0.337858\tvalidation_1-rmse:0.377125\n",
            "[167]\tvalidation_0-rmse:0.337817\tvalidation_1-rmse:0.377144\n",
            "[168]\tvalidation_0-rmse:0.337756\tvalidation_1-rmse:0.377142\n",
            "[169]\tvalidation_0-rmse:0.337702\tvalidation_1-rmse:0.377124\n",
            "[170]\tvalidation_0-rmse:0.337654\tvalidation_1-rmse:0.377146\n",
            "[171]\tvalidation_0-rmse:0.337603\tvalidation_1-rmse:0.37716\n",
            "[172]\tvalidation_0-rmse:0.337557\tvalidation_1-rmse:0.377183\n",
            "[173]\tvalidation_0-rmse:0.337506\tvalidation_1-rmse:0.377212\n",
            "[174]\tvalidation_0-rmse:0.337449\tvalidation_1-rmse:0.377208\n",
            "[175]\tvalidation_0-rmse:0.33741\tvalidation_1-rmse:0.377239\n",
            "[176]\tvalidation_0-rmse:0.337362\tvalidation_1-rmse:0.37729\n",
            "[177]\tvalidation_0-rmse:0.337318\tvalidation_1-rmse:0.377307\n",
            "[178]\tvalidation_0-rmse:0.337263\tvalidation_1-rmse:0.377292\n",
            "[179]\tvalidation_0-rmse:0.337203\tvalidation_1-rmse:0.377336\n",
            "[180]\tvalidation_0-rmse:0.33716\tvalidation_1-rmse:0.377345\n",
            "[181]\tvalidation_0-rmse:0.33711\tvalidation_1-rmse:0.377357\n",
            "[182]\tvalidation_0-rmse:0.337072\tvalidation_1-rmse:0.377346\n",
            "[183]\tvalidation_0-rmse:0.337037\tvalidation_1-rmse:0.377349\n",
            "[184]\tvalidation_0-rmse:0.336981\tvalidation_1-rmse:0.37735\n",
            "[185]\tvalidation_0-rmse:0.336928\tvalidation_1-rmse:0.377347\n",
            "[186]\tvalidation_0-rmse:0.336877\tvalidation_1-rmse:0.377365\n",
            "[187]\tvalidation_0-rmse:0.336834\tvalidation_1-rmse:0.377368\n",
            "[188]\tvalidation_0-rmse:0.336783\tvalidation_1-rmse:0.377362\n",
            "[189]\tvalidation_0-rmse:0.336744\tvalidation_1-rmse:0.377387\n",
            "[190]\tvalidation_0-rmse:0.336693\tvalidation_1-rmse:0.377405\n",
            "[191]\tvalidation_0-rmse:0.336661\tvalidation_1-rmse:0.37743\n",
            "[192]\tvalidation_0-rmse:0.336627\tvalidation_1-rmse:0.377436\n",
            "[193]\tvalidation_0-rmse:0.336591\tvalidation_1-rmse:0.377445\n",
            "[194]\tvalidation_0-rmse:0.336543\tvalidation_1-rmse:0.377458\n",
            "[195]\tvalidation_0-rmse:0.33651\tvalidation_1-rmse:0.377479\n",
            "[196]\tvalidation_0-rmse:0.336463\tvalidation_1-rmse:0.377499\n",
            "[197]\tvalidation_0-rmse:0.336424\tvalidation_1-rmse:0.377506\n",
            "[198]\tvalidation_0-rmse:0.336376\tvalidation_1-rmse:0.377517\n",
            "[199]\tvalidation_0-rmse:0.33633\tvalidation_1-rmse:0.377537\n",
            "Score as calculated for the leader board (っಠ‿ಠ)っ 0.015224969874783048\n"
          ],
          "name": "stdout"
        }
      ]
    },
    {
      "cell_type": "code",
      "metadata": {
        "id": "YNsACUYwkflu",
        "outputId": "30b77c96-1f03-4314-e587-7435a4b3eecf",
        "colab": {
          "base_uri": "https://localhost:8080/"
        }
      },
      "source": [
        "# Making prediction for target g\n",
        "model_target_g = xg_boost_hackathon(train_data, train_targets.target_g)"
      ],
      "execution_count": 134,
      "outputs": [
        {
          "output_type": "stream",
          "text": [
            "[0]\tvalidation_0-rmse:0.355433\tvalidation_1-rmse:0.345657\n",
            "[1]\tvalidation_0-rmse:0.355325\tvalidation_1-rmse:0.345603\n",
            "[2]\tvalidation_0-rmse:0.355231\tvalidation_1-rmse:0.345612\n",
            "[3]\tvalidation_0-rmse:0.355146\tvalidation_1-rmse:0.345565\n",
            "[4]\tvalidation_0-rmse:0.355049\tvalidation_1-rmse:0.345505\n",
            "[5]\tvalidation_0-rmse:0.354934\tvalidation_1-rmse:0.34547\n",
            "[6]\tvalidation_0-rmse:0.354842\tvalidation_1-rmse:0.345466\n",
            "[7]\tvalidation_0-rmse:0.354731\tvalidation_1-rmse:0.345424\n",
            "[8]\tvalidation_0-rmse:0.354645\tvalidation_1-rmse:0.345416\n",
            "[9]\tvalidation_0-rmse:0.354531\tvalidation_1-rmse:0.345405\n",
            "[10]\tvalidation_0-rmse:0.35445\tvalidation_1-rmse:0.345348\n",
            "[11]\tvalidation_0-rmse:0.354344\tvalidation_1-rmse:0.345304\n",
            "[12]\tvalidation_0-rmse:0.354233\tvalidation_1-rmse:0.345304\n",
            "[13]\tvalidation_0-rmse:0.354151\tvalidation_1-rmse:0.345233\n",
            "[14]\tvalidation_0-rmse:0.354049\tvalidation_1-rmse:0.345151\n",
            "[15]\tvalidation_0-rmse:0.353935\tvalidation_1-rmse:0.345121\n",
            "[16]\tvalidation_0-rmse:0.353846\tvalidation_1-rmse:0.345079\n",
            "[17]\tvalidation_0-rmse:0.353742\tvalidation_1-rmse:0.345015\n",
            "[18]\tvalidation_0-rmse:0.353653\tvalidation_1-rmse:0.344985\n",
            "[19]\tvalidation_0-rmse:0.353566\tvalidation_1-rmse:0.344933\n",
            "[20]\tvalidation_0-rmse:0.353479\tvalidation_1-rmse:0.344849\n",
            "[21]\tvalidation_0-rmse:0.353354\tvalidation_1-rmse:0.344844\n",
            "[22]\tvalidation_0-rmse:0.353287\tvalidation_1-rmse:0.34486\n",
            "[23]\tvalidation_0-rmse:0.353217\tvalidation_1-rmse:0.344815\n",
            "[24]\tvalidation_0-rmse:0.353135\tvalidation_1-rmse:0.344799\n",
            "[25]\tvalidation_0-rmse:0.353047\tvalidation_1-rmse:0.344768\n",
            "[26]\tvalidation_0-rmse:0.35295\tvalidation_1-rmse:0.344745\n",
            "[27]\tvalidation_0-rmse:0.352858\tvalidation_1-rmse:0.344701\n",
            "[28]\tvalidation_0-rmse:0.352762\tvalidation_1-rmse:0.344654\n",
            "[29]\tvalidation_0-rmse:0.352686\tvalidation_1-rmse:0.344632\n",
            "[30]\tvalidation_0-rmse:0.352598\tvalidation_1-rmse:0.344615\n",
            "[31]\tvalidation_0-rmse:0.352526\tvalidation_1-rmse:0.344573\n",
            "[32]\tvalidation_0-rmse:0.35243\tvalidation_1-rmse:0.344533\n",
            "[33]\tvalidation_0-rmse:0.352358\tvalidation_1-rmse:0.344508\n",
            "[34]\tvalidation_0-rmse:0.352274\tvalidation_1-rmse:0.344458\n",
            "[35]\tvalidation_0-rmse:0.352185\tvalidation_1-rmse:0.344457\n",
            "[36]\tvalidation_0-rmse:0.352088\tvalidation_1-rmse:0.344456\n",
            "[37]\tvalidation_0-rmse:0.352008\tvalidation_1-rmse:0.344413\n",
            "[38]\tvalidation_0-rmse:0.351924\tvalidation_1-rmse:0.344375\n",
            "[39]\tvalidation_0-rmse:0.351863\tvalidation_1-rmse:0.344323\n",
            "[40]\tvalidation_0-rmse:0.351789\tvalidation_1-rmse:0.344295\n",
            "[41]\tvalidation_0-rmse:0.351712\tvalidation_1-rmse:0.34429\n",
            "[42]\tvalidation_0-rmse:0.351631\tvalidation_1-rmse:0.344268\n",
            "[43]\tvalidation_0-rmse:0.351556\tvalidation_1-rmse:0.344238\n",
            "[44]\tvalidation_0-rmse:0.351498\tvalidation_1-rmse:0.344211\n",
            "[45]\tvalidation_0-rmse:0.351409\tvalidation_1-rmse:0.34419\n",
            "[46]\tvalidation_0-rmse:0.351336\tvalidation_1-rmse:0.344151\n",
            "[47]\tvalidation_0-rmse:0.351262\tvalidation_1-rmse:0.344099\n",
            "[48]\tvalidation_0-rmse:0.351179\tvalidation_1-rmse:0.344081\n",
            "[49]\tvalidation_0-rmse:0.351097\tvalidation_1-rmse:0.344076\n",
            "[50]\tvalidation_0-rmse:0.351037\tvalidation_1-rmse:0.344063\n",
            "[51]\tvalidation_0-rmse:0.350971\tvalidation_1-rmse:0.344005\n",
            "[52]\tvalidation_0-rmse:0.350896\tvalidation_1-rmse:0.343993\n",
            "[53]\tvalidation_0-rmse:0.350815\tvalidation_1-rmse:0.343993\n",
            "[54]\tvalidation_0-rmse:0.350727\tvalidation_1-rmse:0.343979\n",
            "[55]\tvalidation_0-rmse:0.350639\tvalidation_1-rmse:0.343957\n",
            "[56]\tvalidation_0-rmse:0.350559\tvalidation_1-rmse:0.343933\n",
            "[57]\tvalidation_0-rmse:0.350509\tvalidation_1-rmse:0.343927\n",
            "[58]\tvalidation_0-rmse:0.350449\tvalidation_1-rmse:0.343944\n",
            "[59]\tvalidation_0-rmse:0.350371\tvalidation_1-rmse:0.343884\n",
            "[60]\tvalidation_0-rmse:0.350285\tvalidation_1-rmse:0.343862\n",
            "[61]\tvalidation_0-rmse:0.350204\tvalidation_1-rmse:0.343813\n",
            "[62]\tvalidation_0-rmse:0.350136\tvalidation_1-rmse:0.343811\n",
            "[63]\tvalidation_0-rmse:0.350061\tvalidation_1-rmse:0.343803\n",
            "[64]\tvalidation_0-rmse:0.34998\tvalidation_1-rmse:0.343773\n",
            "[65]\tvalidation_0-rmse:0.349918\tvalidation_1-rmse:0.343787\n",
            "[66]\tvalidation_0-rmse:0.34984\tvalidation_1-rmse:0.343749\n",
            "[67]\tvalidation_0-rmse:0.349767\tvalidation_1-rmse:0.343753\n",
            "[68]\tvalidation_0-rmse:0.349707\tvalidation_1-rmse:0.343723\n",
            "[69]\tvalidation_0-rmse:0.349632\tvalidation_1-rmse:0.343705\n",
            "[70]\tvalidation_0-rmse:0.349562\tvalidation_1-rmse:0.343673\n",
            "[71]\tvalidation_0-rmse:0.349478\tvalidation_1-rmse:0.343638\n",
            "[72]\tvalidation_0-rmse:0.349417\tvalidation_1-rmse:0.343597\n",
            "[73]\tvalidation_0-rmse:0.349341\tvalidation_1-rmse:0.343561\n",
            "[74]\tvalidation_0-rmse:0.34927\tvalidation_1-rmse:0.343527\n",
            "[75]\tvalidation_0-rmse:0.34922\tvalidation_1-rmse:0.343516\n",
            "[76]\tvalidation_0-rmse:0.349136\tvalidation_1-rmse:0.343498\n",
            "[77]\tvalidation_0-rmse:0.349062\tvalidation_1-rmse:0.343502\n",
            "[78]\tvalidation_0-rmse:0.349002\tvalidation_1-rmse:0.343488\n",
            "[79]\tvalidation_0-rmse:0.348936\tvalidation_1-rmse:0.343461\n",
            "[80]\tvalidation_0-rmse:0.348866\tvalidation_1-rmse:0.343445\n",
            "[81]\tvalidation_0-rmse:0.348796\tvalidation_1-rmse:0.343426\n",
            "[82]\tvalidation_0-rmse:0.348738\tvalidation_1-rmse:0.343418\n",
            "[83]\tvalidation_0-rmse:0.348684\tvalidation_1-rmse:0.343379\n",
            "[84]\tvalidation_0-rmse:0.348611\tvalidation_1-rmse:0.343349\n",
            "[85]\tvalidation_0-rmse:0.348546\tvalidation_1-rmse:0.343325\n",
            "[86]\tvalidation_0-rmse:0.348479\tvalidation_1-rmse:0.343297\n",
            "[87]\tvalidation_0-rmse:0.348407\tvalidation_1-rmse:0.343284\n",
            "[88]\tvalidation_0-rmse:0.348348\tvalidation_1-rmse:0.343283\n",
            "[89]\tvalidation_0-rmse:0.348275\tvalidation_1-rmse:0.343276\n",
            "[90]\tvalidation_0-rmse:0.348211\tvalidation_1-rmse:0.343267\n",
            "[91]\tvalidation_0-rmse:0.348137\tvalidation_1-rmse:0.343256\n",
            "[92]\tvalidation_0-rmse:0.348065\tvalidation_1-rmse:0.343229\n",
            "[93]\tvalidation_0-rmse:0.347987\tvalidation_1-rmse:0.343217\n",
            "[94]\tvalidation_0-rmse:0.347929\tvalidation_1-rmse:0.343216\n",
            "[95]\tvalidation_0-rmse:0.34787\tvalidation_1-rmse:0.343203\n",
            "[96]\tvalidation_0-rmse:0.347806\tvalidation_1-rmse:0.343176\n",
            "[97]\tvalidation_0-rmse:0.347726\tvalidation_1-rmse:0.343161\n",
            "[98]\tvalidation_0-rmse:0.347648\tvalidation_1-rmse:0.343202\n",
            "[99]\tvalidation_0-rmse:0.347588\tvalidation_1-rmse:0.34318\n",
            "[100]\tvalidation_0-rmse:0.347515\tvalidation_1-rmse:0.343151\n",
            "[101]\tvalidation_0-rmse:0.347452\tvalidation_1-rmse:0.343132\n",
            "[102]\tvalidation_0-rmse:0.347392\tvalidation_1-rmse:0.343113\n",
            "[103]\tvalidation_0-rmse:0.347343\tvalidation_1-rmse:0.343095\n",
            "[104]\tvalidation_0-rmse:0.347284\tvalidation_1-rmse:0.343073\n",
            "[105]\tvalidation_0-rmse:0.347233\tvalidation_1-rmse:0.343046\n",
            "[106]\tvalidation_0-rmse:0.347174\tvalidation_1-rmse:0.343055\n",
            "[107]\tvalidation_0-rmse:0.347114\tvalidation_1-rmse:0.343038\n",
            "[108]\tvalidation_0-rmse:0.347056\tvalidation_1-rmse:0.343036\n",
            "[109]\tvalidation_0-rmse:0.346997\tvalidation_1-rmse:0.343026\n",
            "[110]\tvalidation_0-rmse:0.346957\tvalidation_1-rmse:0.343034\n",
            "[111]\tvalidation_0-rmse:0.346909\tvalidation_1-rmse:0.343025\n",
            "[112]\tvalidation_0-rmse:0.346853\tvalidation_1-rmse:0.343\n",
            "[113]\tvalidation_0-rmse:0.346787\tvalidation_1-rmse:0.343003\n",
            "[114]\tvalidation_0-rmse:0.34672\tvalidation_1-rmse:0.342981\n",
            "[115]\tvalidation_0-rmse:0.34666\tvalidation_1-rmse:0.34297\n",
            "[116]\tvalidation_0-rmse:0.346586\tvalidation_1-rmse:0.342968\n",
            "[117]\tvalidation_0-rmse:0.346536\tvalidation_1-rmse:0.342946\n",
            "[118]\tvalidation_0-rmse:0.346478\tvalidation_1-rmse:0.342938\n",
            "[119]\tvalidation_0-rmse:0.346423\tvalidation_1-rmse:0.342947\n",
            "[120]\tvalidation_0-rmse:0.346351\tvalidation_1-rmse:0.342924\n",
            "[121]\tvalidation_0-rmse:0.346299\tvalidation_1-rmse:0.342919\n",
            "[122]\tvalidation_0-rmse:0.346241\tvalidation_1-rmse:0.342904\n",
            "[123]\tvalidation_0-rmse:0.346184\tvalidation_1-rmse:0.342923\n",
            "[124]\tvalidation_0-rmse:0.346116\tvalidation_1-rmse:0.34292\n",
            "[125]\tvalidation_0-rmse:0.346052\tvalidation_1-rmse:0.342904\n",
            "[126]\tvalidation_0-rmse:0.34599\tvalidation_1-rmse:0.342931\n",
            "[127]\tvalidation_0-rmse:0.345923\tvalidation_1-rmse:0.342916\n",
            "[128]\tvalidation_0-rmse:0.345862\tvalidation_1-rmse:0.34292\n",
            "[129]\tvalidation_0-rmse:0.345808\tvalidation_1-rmse:0.342897\n",
            "[130]\tvalidation_0-rmse:0.345757\tvalidation_1-rmse:0.34289\n",
            "[131]\tvalidation_0-rmse:0.345687\tvalidation_1-rmse:0.342881\n",
            "[132]\tvalidation_0-rmse:0.345622\tvalidation_1-rmse:0.342876\n",
            "[133]\tvalidation_0-rmse:0.345557\tvalidation_1-rmse:0.342861\n",
            "[134]\tvalidation_0-rmse:0.345507\tvalidation_1-rmse:0.342877\n",
            "[135]\tvalidation_0-rmse:0.345462\tvalidation_1-rmse:0.342876\n",
            "[136]\tvalidation_0-rmse:0.3454\tvalidation_1-rmse:0.342864\n",
            "[137]\tvalidation_0-rmse:0.345356\tvalidation_1-rmse:0.342882\n",
            "[138]\tvalidation_0-rmse:0.345306\tvalidation_1-rmse:0.342884\n",
            "[139]\tvalidation_0-rmse:0.345262\tvalidation_1-rmse:0.342879\n",
            "[140]\tvalidation_0-rmse:0.345197\tvalidation_1-rmse:0.342906\n",
            "[141]\tvalidation_0-rmse:0.345147\tvalidation_1-rmse:0.34288\n",
            "[142]\tvalidation_0-rmse:0.345096\tvalidation_1-rmse:0.342856\n",
            "[143]\tvalidation_0-rmse:0.345038\tvalidation_1-rmse:0.34288\n",
            "[144]\tvalidation_0-rmse:0.344982\tvalidation_1-rmse:0.342865\n",
            "[145]\tvalidation_0-rmse:0.344928\tvalidation_1-rmse:0.342861\n",
            "[146]\tvalidation_0-rmse:0.344872\tvalidation_1-rmse:0.342848\n",
            "[147]\tvalidation_0-rmse:0.344822\tvalidation_1-rmse:0.342829\n",
            "[148]\tvalidation_0-rmse:0.34475\tvalidation_1-rmse:0.342858\n",
            "[149]\tvalidation_0-rmse:0.344676\tvalidation_1-rmse:0.342868\n",
            "[150]\tvalidation_0-rmse:0.344614\tvalidation_1-rmse:0.342859\n",
            "[151]\tvalidation_0-rmse:0.344566\tvalidation_1-rmse:0.342822\n",
            "[152]\tvalidation_0-rmse:0.344526\tvalidation_1-rmse:0.342812\n",
            "[153]\tvalidation_0-rmse:0.344473\tvalidation_1-rmse:0.342806\n",
            "[154]\tvalidation_0-rmse:0.344427\tvalidation_1-rmse:0.34281\n",
            "[155]\tvalidation_0-rmse:0.344378\tvalidation_1-rmse:0.342794\n",
            "[156]\tvalidation_0-rmse:0.344331\tvalidation_1-rmse:0.34276\n",
            "[157]\tvalidation_0-rmse:0.344291\tvalidation_1-rmse:0.342741\n",
            "[158]\tvalidation_0-rmse:0.344232\tvalidation_1-rmse:0.342746\n",
            "[159]\tvalidation_0-rmse:0.344165\tvalidation_1-rmse:0.342769\n",
            "[160]\tvalidation_0-rmse:0.344109\tvalidation_1-rmse:0.342767\n",
            "[161]\tvalidation_0-rmse:0.34406\tvalidation_1-rmse:0.342769\n",
            "[162]\tvalidation_0-rmse:0.344001\tvalidation_1-rmse:0.342767\n",
            "[163]\tvalidation_0-rmse:0.343951\tvalidation_1-rmse:0.342779\n",
            "[164]\tvalidation_0-rmse:0.343893\tvalidation_1-rmse:0.34278\n",
            "[165]\tvalidation_0-rmse:0.343845\tvalidation_1-rmse:0.342754\n",
            "[166]\tvalidation_0-rmse:0.343783\tvalidation_1-rmse:0.342753\n",
            "[167]\tvalidation_0-rmse:0.343735\tvalidation_1-rmse:0.34273\n",
            "[168]\tvalidation_0-rmse:0.343673\tvalidation_1-rmse:0.342767\n",
            "[169]\tvalidation_0-rmse:0.343624\tvalidation_1-rmse:0.342741\n",
            "[170]\tvalidation_0-rmse:0.343575\tvalidation_1-rmse:0.342718\n",
            "[171]\tvalidation_0-rmse:0.343518\tvalidation_1-rmse:0.342687\n",
            "[172]\tvalidation_0-rmse:0.343466\tvalidation_1-rmse:0.342699\n",
            "[173]\tvalidation_0-rmse:0.343422\tvalidation_1-rmse:0.342671\n",
            "[174]\tvalidation_0-rmse:0.34337\tvalidation_1-rmse:0.342672\n",
            "[175]\tvalidation_0-rmse:0.343312\tvalidation_1-rmse:0.342666\n",
            "[176]\tvalidation_0-rmse:0.343244\tvalidation_1-rmse:0.342666\n",
            "[177]\tvalidation_0-rmse:0.343189\tvalidation_1-rmse:0.342688\n",
            "[178]\tvalidation_0-rmse:0.343137\tvalidation_1-rmse:0.342678\n",
            "[179]\tvalidation_0-rmse:0.343082\tvalidation_1-rmse:0.342687\n",
            "[180]\tvalidation_0-rmse:0.343034\tvalidation_1-rmse:0.342687\n",
            "[181]\tvalidation_0-rmse:0.342977\tvalidation_1-rmse:0.342677\n",
            "[182]\tvalidation_0-rmse:0.342926\tvalidation_1-rmse:0.342669\n",
            "[183]\tvalidation_0-rmse:0.342888\tvalidation_1-rmse:0.342663\n",
            "[184]\tvalidation_0-rmse:0.342848\tvalidation_1-rmse:0.342656\n",
            "[185]\tvalidation_0-rmse:0.3428\tvalidation_1-rmse:0.342652\n",
            "[186]\tvalidation_0-rmse:0.342742\tvalidation_1-rmse:0.342671\n",
            "[187]\tvalidation_0-rmse:0.342674\tvalidation_1-rmse:0.342687\n",
            "[188]\tvalidation_0-rmse:0.34263\tvalidation_1-rmse:0.342695\n",
            "[189]\tvalidation_0-rmse:0.342587\tvalidation_1-rmse:0.342691\n",
            "[190]\tvalidation_0-rmse:0.342535\tvalidation_1-rmse:0.342665\n",
            "[191]\tvalidation_0-rmse:0.342478\tvalidation_1-rmse:0.342678\n",
            "[192]\tvalidation_0-rmse:0.342445\tvalidation_1-rmse:0.342686\n",
            "[193]\tvalidation_0-rmse:0.342414\tvalidation_1-rmse:0.34267\n",
            "[194]\tvalidation_0-rmse:0.342349\tvalidation_1-rmse:0.34268\n",
            "[195]\tvalidation_0-rmse:0.342309\tvalidation_1-rmse:0.342663\n",
            "[196]\tvalidation_0-rmse:0.342256\tvalidation_1-rmse:0.342654\n",
            "[197]\tvalidation_0-rmse:0.342208\tvalidation_1-rmse:0.342662\n",
            "[198]\tvalidation_0-rmse:0.34217\tvalidation_1-rmse:0.342662\n",
            "[199]\tvalidation_0-rmse:0.342122\tvalidation_1-rmse:0.342659\n",
            "Score as calculated for the leader board (っಠ‿ಠ)っ 0.13525635269983358\n"
          ],
          "name": "stdout"
        }
      ]
    },
    {
      "cell_type": "code",
      "metadata": {
        "id": "fPba6XMIkhlw",
        "outputId": "934c9bd9-2e1d-4c4a-829c-254ce97aae3b",
        "colab": {
          "base_uri": "https://localhost:8080/"
        }
      },
      "source": [
        "# Making prediction for target b\n",
        "model_target_b = xg_boost_hackathon(train_data, train_targets.target_b)"
      ],
      "execution_count": 135,
      "outputs": [
        {
          "output_type": "stream",
          "text": [
            "[0]\tvalidation_0-rmse:0.356316\tvalidation_1-rmse:0.342002\n",
            "[1]\tvalidation_0-rmse:0.356214\tvalidation_1-rmse:0.341908\n",
            "[2]\tvalidation_0-rmse:0.356123\tvalidation_1-rmse:0.34192\n",
            "[3]\tvalidation_0-rmse:0.356022\tvalidation_1-rmse:0.341869\n",
            "[4]\tvalidation_0-rmse:0.355902\tvalidation_1-rmse:0.341795\n",
            "[5]\tvalidation_0-rmse:0.355765\tvalidation_1-rmse:0.34174\n",
            "[6]\tvalidation_0-rmse:0.355656\tvalidation_1-rmse:0.341735\n",
            "[7]\tvalidation_0-rmse:0.355549\tvalidation_1-rmse:0.34166\n",
            "[8]\tvalidation_0-rmse:0.355455\tvalidation_1-rmse:0.341631\n",
            "[9]\tvalidation_0-rmse:0.355347\tvalidation_1-rmse:0.341611\n",
            "[10]\tvalidation_0-rmse:0.355254\tvalidation_1-rmse:0.341575\n",
            "[11]\tvalidation_0-rmse:0.355147\tvalidation_1-rmse:0.341532\n",
            "[12]\tvalidation_0-rmse:0.355032\tvalidation_1-rmse:0.341512\n",
            "[13]\tvalidation_0-rmse:0.354924\tvalidation_1-rmse:0.341434\n",
            "[14]\tvalidation_0-rmse:0.354824\tvalidation_1-rmse:0.341374\n",
            "[15]\tvalidation_0-rmse:0.354703\tvalidation_1-rmse:0.341318\n",
            "[16]\tvalidation_0-rmse:0.354613\tvalidation_1-rmse:0.34125\n",
            "[17]\tvalidation_0-rmse:0.3545\tvalidation_1-rmse:0.341183\n",
            "[18]\tvalidation_0-rmse:0.354395\tvalidation_1-rmse:0.341156\n",
            "[19]\tvalidation_0-rmse:0.354297\tvalidation_1-rmse:0.341109\n",
            "[20]\tvalidation_0-rmse:0.354195\tvalidation_1-rmse:0.341029\n",
            "[21]\tvalidation_0-rmse:0.354065\tvalidation_1-rmse:0.340998\n",
            "[22]\tvalidation_0-rmse:0.354\tvalidation_1-rmse:0.341031\n",
            "[23]\tvalidation_0-rmse:0.353898\tvalidation_1-rmse:0.340992\n",
            "[24]\tvalidation_0-rmse:0.353815\tvalidation_1-rmse:0.340934\n",
            "[25]\tvalidation_0-rmse:0.353714\tvalidation_1-rmse:0.340884\n",
            "[26]\tvalidation_0-rmse:0.35361\tvalidation_1-rmse:0.340823\n",
            "[27]\tvalidation_0-rmse:0.353495\tvalidation_1-rmse:0.340794\n",
            "[28]\tvalidation_0-rmse:0.353388\tvalidation_1-rmse:0.340728\n",
            "[29]\tvalidation_0-rmse:0.353286\tvalidation_1-rmse:0.340686\n",
            "[30]\tvalidation_0-rmse:0.353198\tvalidation_1-rmse:0.340681\n",
            "[31]\tvalidation_0-rmse:0.353097\tvalidation_1-rmse:0.340653\n",
            "[32]\tvalidation_0-rmse:0.352979\tvalidation_1-rmse:0.340624\n",
            "[33]\tvalidation_0-rmse:0.3529\tvalidation_1-rmse:0.34056\n",
            "[34]\tvalidation_0-rmse:0.352798\tvalidation_1-rmse:0.340555\n",
            "[35]\tvalidation_0-rmse:0.352726\tvalidation_1-rmse:0.340551\n",
            "[36]\tvalidation_0-rmse:0.352626\tvalidation_1-rmse:0.340545\n",
            "[37]\tvalidation_0-rmse:0.352527\tvalidation_1-rmse:0.340532\n",
            "[38]\tvalidation_0-rmse:0.352433\tvalidation_1-rmse:0.340492\n",
            "[39]\tvalidation_0-rmse:0.352353\tvalidation_1-rmse:0.340453\n",
            "[40]\tvalidation_0-rmse:0.352261\tvalidation_1-rmse:0.340401\n",
            "[41]\tvalidation_0-rmse:0.352167\tvalidation_1-rmse:0.340377\n",
            "[42]\tvalidation_0-rmse:0.352085\tvalidation_1-rmse:0.340367\n",
            "[43]\tvalidation_0-rmse:0.351995\tvalidation_1-rmse:0.340322\n",
            "[44]\tvalidation_0-rmse:0.35193\tvalidation_1-rmse:0.340291\n",
            "[45]\tvalidation_0-rmse:0.351821\tvalidation_1-rmse:0.340273\n",
            "[46]\tvalidation_0-rmse:0.351739\tvalidation_1-rmse:0.340221\n",
            "[47]\tvalidation_0-rmse:0.351663\tvalidation_1-rmse:0.340195\n",
            "[48]\tvalidation_0-rmse:0.351566\tvalidation_1-rmse:0.340191\n",
            "[49]\tvalidation_0-rmse:0.351479\tvalidation_1-rmse:0.340208\n",
            "[50]\tvalidation_0-rmse:0.351406\tvalidation_1-rmse:0.340201\n",
            "[51]\tvalidation_0-rmse:0.35132\tvalidation_1-rmse:0.340166\n",
            "[52]\tvalidation_0-rmse:0.351237\tvalidation_1-rmse:0.340182\n",
            "[53]\tvalidation_0-rmse:0.351152\tvalidation_1-rmse:0.340172\n",
            "[54]\tvalidation_0-rmse:0.351067\tvalidation_1-rmse:0.340201\n",
            "[55]\tvalidation_0-rmse:0.350984\tvalidation_1-rmse:0.340209\n",
            "[56]\tvalidation_0-rmse:0.350878\tvalidation_1-rmse:0.340156\n",
            "[57]\tvalidation_0-rmse:0.350816\tvalidation_1-rmse:0.340176\n",
            "[58]\tvalidation_0-rmse:0.350757\tvalidation_1-rmse:0.340169\n",
            "[59]\tvalidation_0-rmse:0.350683\tvalidation_1-rmse:0.340119\n",
            "[60]\tvalidation_0-rmse:0.350594\tvalidation_1-rmse:0.340096\n",
            "[61]\tvalidation_0-rmse:0.350503\tvalidation_1-rmse:0.340085\n",
            "[62]\tvalidation_0-rmse:0.350426\tvalidation_1-rmse:0.340065\n",
            "[63]\tvalidation_0-rmse:0.350357\tvalidation_1-rmse:0.340036\n",
            "[64]\tvalidation_0-rmse:0.350269\tvalidation_1-rmse:0.340011\n",
            "[65]\tvalidation_0-rmse:0.350207\tvalidation_1-rmse:0.340024\n",
            "[66]\tvalidation_0-rmse:0.350112\tvalidation_1-rmse:0.339984\n",
            "[67]\tvalidation_0-rmse:0.350036\tvalidation_1-rmse:0.339954\n",
            "[68]\tvalidation_0-rmse:0.349951\tvalidation_1-rmse:0.339922\n",
            "[69]\tvalidation_0-rmse:0.349879\tvalidation_1-rmse:0.3399\n",
            "[70]\tvalidation_0-rmse:0.349797\tvalidation_1-rmse:0.339865\n",
            "[71]\tvalidation_0-rmse:0.349713\tvalidation_1-rmse:0.339788\n",
            "[72]\tvalidation_0-rmse:0.349636\tvalidation_1-rmse:0.339726\n",
            "[73]\tvalidation_0-rmse:0.349554\tvalidation_1-rmse:0.339652\n",
            "[74]\tvalidation_0-rmse:0.349476\tvalidation_1-rmse:0.339624\n",
            "[75]\tvalidation_0-rmse:0.349414\tvalidation_1-rmse:0.339617\n",
            "[76]\tvalidation_0-rmse:0.349327\tvalidation_1-rmse:0.339589\n",
            "[77]\tvalidation_0-rmse:0.349247\tvalidation_1-rmse:0.339609\n",
            "[78]\tvalidation_0-rmse:0.349187\tvalidation_1-rmse:0.339604\n",
            "[79]\tvalidation_0-rmse:0.349101\tvalidation_1-rmse:0.33956\n",
            "[80]\tvalidation_0-rmse:0.349034\tvalidation_1-rmse:0.33955\n",
            "[81]\tvalidation_0-rmse:0.348959\tvalidation_1-rmse:0.339558\n",
            "[82]\tvalidation_0-rmse:0.348899\tvalidation_1-rmse:0.339546\n",
            "[83]\tvalidation_0-rmse:0.348829\tvalidation_1-rmse:0.339506\n",
            "[84]\tvalidation_0-rmse:0.348751\tvalidation_1-rmse:0.339497\n",
            "[85]\tvalidation_0-rmse:0.348684\tvalidation_1-rmse:0.339437\n",
            "[86]\tvalidation_0-rmse:0.348607\tvalidation_1-rmse:0.339415\n",
            "[87]\tvalidation_0-rmse:0.348537\tvalidation_1-rmse:0.339422\n",
            "[88]\tvalidation_0-rmse:0.348468\tvalidation_1-rmse:0.339425\n",
            "[89]\tvalidation_0-rmse:0.348386\tvalidation_1-rmse:0.339428\n",
            "[90]\tvalidation_0-rmse:0.348298\tvalidation_1-rmse:0.339396\n",
            "[91]\tvalidation_0-rmse:0.348223\tvalidation_1-rmse:0.339421\n",
            "[92]\tvalidation_0-rmse:0.348137\tvalidation_1-rmse:0.339423\n",
            "[93]\tvalidation_0-rmse:0.348055\tvalidation_1-rmse:0.339405\n",
            "[94]\tvalidation_0-rmse:0.347984\tvalidation_1-rmse:0.339367\n",
            "[95]\tvalidation_0-rmse:0.347925\tvalidation_1-rmse:0.339348\n",
            "[96]\tvalidation_0-rmse:0.347847\tvalidation_1-rmse:0.339322\n",
            "[97]\tvalidation_0-rmse:0.34776\tvalidation_1-rmse:0.339315\n",
            "[98]\tvalidation_0-rmse:0.347699\tvalidation_1-rmse:0.339329\n",
            "[99]\tvalidation_0-rmse:0.347636\tvalidation_1-rmse:0.339311\n",
            "[100]\tvalidation_0-rmse:0.347563\tvalidation_1-rmse:0.339279\n",
            "[101]\tvalidation_0-rmse:0.347484\tvalidation_1-rmse:0.339252\n",
            "[102]\tvalidation_0-rmse:0.347411\tvalidation_1-rmse:0.339235\n",
            "[103]\tvalidation_0-rmse:0.347355\tvalidation_1-rmse:0.339221\n",
            "[104]\tvalidation_0-rmse:0.347276\tvalidation_1-rmse:0.339182\n",
            "[105]\tvalidation_0-rmse:0.347206\tvalidation_1-rmse:0.339178\n",
            "[106]\tvalidation_0-rmse:0.34713\tvalidation_1-rmse:0.339153\n",
            "[107]\tvalidation_0-rmse:0.347064\tvalidation_1-rmse:0.339153\n",
            "[108]\tvalidation_0-rmse:0.346982\tvalidation_1-rmse:0.339182\n",
            "[109]\tvalidation_0-rmse:0.346917\tvalidation_1-rmse:0.339187\n",
            "[110]\tvalidation_0-rmse:0.346862\tvalidation_1-rmse:0.339188\n",
            "[111]\tvalidation_0-rmse:0.346804\tvalidation_1-rmse:0.339201\n",
            "[112]\tvalidation_0-rmse:0.346751\tvalidation_1-rmse:0.339181\n",
            "[113]\tvalidation_0-rmse:0.346699\tvalidation_1-rmse:0.339188\n",
            "[114]\tvalidation_0-rmse:0.346634\tvalidation_1-rmse:0.339185\n",
            "[115]\tvalidation_0-rmse:0.34658\tvalidation_1-rmse:0.339191\n",
            "[116]\tvalidation_0-rmse:0.346513\tvalidation_1-rmse:0.339154\n",
            "[117]\tvalidation_0-rmse:0.346452\tvalidation_1-rmse:0.339168\n",
            "[118]\tvalidation_0-rmse:0.346382\tvalidation_1-rmse:0.339137\n",
            "[119]\tvalidation_0-rmse:0.346333\tvalidation_1-rmse:0.339138\n",
            "[120]\tvalidation_0-rmse:0.346269\tvalidation_1-rmse:0.339117\n",
            "[121]\tvalidation_0-rmse:0.346212\tvalidation_1-rmse:0.3391\n",
            "[122]\tvalidation_0-rmse:0.346146\tvalidation_1-rmse:0.339053\n",
            "[123]\tvalidation_0-rmse:0.346069\tvalidation_1-rmse:0.339027\n",
            "[124]\tvalidation_0-rmse:0.345997\tvalidation_1-rmse:0.338992\n",
            "[125]\tvalidation_0-rmse:0.345931\tvalidation_1-rmse:0.338961\n",
            "[126]\tvalidation_0-rmse:0.345848\tvalidation_1-rmse:0.338963\n",
            "[127]\tvalidation_0-rmse:0.345778\tvalidation_1-rmse:0.338964\n",
            "[128]\tvalidation_0-rmse:0.345714\tvalidation_1-rmse:0.33901\n",
            "[129]\tvalidation_0-rmse:0.345663\tvalidation_1-rmse:0.339008\n",
            "[130]\tvalidation_0-rmse:0.345596\tvalidation_1-rmse:0.33902\n",
            "[131]\tvalidation_0-rmse:0.345533\tvalidation_1-rmse:0.338974\n",
            "[132]\tvalidation_0-rmse:0.345465\tvalidation_1-rmse:0.33896\n",
            "[133]\tvalidation_0-rmse:0.345408\tvalidation_1-rmse:0.338936\n",
            "[134]\tvalidation_0-rmse:0.345361\tvalidation_1-rmse:0.3389\n",
            "[135]\tvalidation_0-rmse:0.345309\tvalidation_1-rmse:0.338913\n",
            "[136]\tvalidation_0-rmse:0.345254\tvalidation_1-rmse:0.338887\n",
            "[137]\tvalidation_0-rmse:0.34521\tvalidation_1-rmse:0.338898\n",
            "[138]\tvalidation_0-rmse:0.345156\tvalidation_1-rmse:0.338914\n",
            "[139]\tvalidation_0-rmse:0.345109\tvalidation_1-rmse:0.338895\n",
            "[140]\tvalidation_0-rmse:0.345053\tvalidation_1-rmse:0.338879\n",
            "[141]\tvalidation_0-rmse:0.344992\tvalidation_1-rmse:0.338886\n",
            "[142]\tvalidation_0-rmse:0.344923\tvalidation_1-rmse:0.338865\n",
            "[143]\tvalidation_0-rmse:0.344858\tvalidation_1-rmse:0.338891\n",
            "[144]\tvalidation_0-rmse:0.344796\tvalidation_1-rmse:0.338867\n",
            "[145]\tvalidation_0-rmse:0.344746\tvalidation_1-rmse:0.338875\n",
            "[146]\tvalidation_0-rmse:0.344691\tvalidation_1-rmse:0.338846\n",
            "[147]\tvalidation_0-rmse:0.344618\tvalidation_1-rmse:0.338825\n",
            "[148]\tvalidation_0-rmse:0.344553\tvalidation_1-rmse:0.338809\n",
            "[149]\tvalidation_0-rmse:0.344494\tvalidation_1-rmse:0.338817\n",
            "[150]\tvalidation_0-rmse:0.344439\tvalidation_1-rmse:0.338825\n",
            "[151]\tvalidation_0-rmse:0.344383\tvalidation_1-rmse:0.338798\n",
            "[152]\tvalidation_0-rmse:0.344316\tvalidation_1-rmse:0.338791\n",
            "[153]\tvalidation_0-rmse:0.344273\tvalidation_1-rmse:0.338788\n",
            "[154]\tvalidation_0-rmse:0.344211\tvalidation_1-rmse:0.338791\n",
            "[155]\tvalidation_0-rmse:0.344158\tvalidation_1-rmse:0.338808\n",
            "[156]\tvalidation_0-rmse:0.344113\tvalidation_1-rmse:0.338766\n",
            "[157]\tvalidation_0-rmse:0.344063\tvalidation_1-rmse:0.338787\n",
            "[158]\tvalidation_0-rmse:0.344001\tvalidation_1-rmse:0.33877\n",
            "[159]\tvalidation_0-rmse:0.343955\tvalidation_1-rmse:0.338759\n",
            "[160]\tvalidation_0-rmse:0.343897\tvalidation_1-rmse:0.338752\n",
            "[161]\tvalidation_0-rmse:0.343834\tvalidation_1-rmse:0.33877\n",
            "[162]\tvalidation_0-rmse:0.343771\tvalidation_1-rmse:0.33876\n",
            "[163]\tvalidation_0-rmse:0.343717\tvalidation_1-rmse:0.338767\n",
            "[164]\tvalidation_0-rmse:0.34365\tvalidation_1-rmse:0.33878\n",
            "[165]\tvalidation_0-rmse:0.343593\tvalidation_1-rmse:0.338777\n",
            "[166]\tvalidation_0-rmse:0.343538\tvalidation_1-rmse:0.338759\n",
            "[167]\tvalidation_0-rmse:0.343485\tvalidation_1-rmse:0.338756\n",
            "[168]\tvalidation_0-rmse:0.343424\tvalidation_1-rmse:0.338771\n",
            "[169]\tvalidation_0-rmse:0.343373\tvalidation_1-rmse:0.338729\n",
            "[170]\tvalidation_0-rmse:0.343325\tvalidation_1-rmse:0.338744\n",
            "[171]\tvalidation_0-rmse:0.343266\tvalidation_1-rmse:0.338756\n",
            "[172]\tvalidation_0-rmse:0.343212\tvalidation_1-rmse:0.338769\n",
            "[173]\tvalidation_0-rmse:0.343152\tvalidation_1-rmse:0.338765\n",
            "[174]\tvalidation_0-rmse:0.343097\tvalidation_1-rmse:0.33877\n",
            "[175]\tvalidation_0-rmse:0.343035\tvalidation_1-rmse:0.338769\n",
            "[176]\tvalidation_0-rmse:0.342978\tvalidation_1-rmse:0.338798\n",
            "[177]\tvalidation_0-rmse:0.342922\tvalidation_1-rmse:0.338811\n",
            "[178]\tvalidation_0-rmse:0.342869\tvalidation_1-rmse:0.338832\n",
            "[179]\tvalidation_0-rmse:0.342823\tvalidation_1-rmse:0.338843\n",
            "[180]\tvalidation_0-rmse:0.342771\tvalidation_1-rmse:0.33887\n",
            "[181]\tvalidation_0-rmse:0.342718\tvalidation_1-rmse:0.338859\n",
            "[182]\tvalidation_0-rmse:0.342669\tvalidation_1-rmse:0.338841\n",
            "[183]\tvalidation_0-rmse:0.342619\tvalidation_1-rmse:0.338849\n",
            "[184]\tvalidation_0-rmse:0.342578\tvalidation_1-rmse:0.338833\n",
            "[185]\tvalidation_0-rmse:0.342523\tvalidation_1-rmse:0.338824\n",
            "[186]\tvalidation_0-rmse:0.342459\tvalidation_1-rmse:0.33885\n",
            "[187]\tvalidation_0-rmse:0.3424\tvalidation_1-rmse:0.338861\n",
            "[188]\tvalidation_0-rmse:0.342342\tvalidation_1-rmse:0.338868\n",
            "[189]\tvalidation_0-rmse:0.342293\tvalidation_1-rmse:0.338869\n",
            "[190]\tvalidation_0-rmse:0.342233\tvalidation_1-rmse:0.338851\n",
            "[191]\tvalidation_0-rmse:0.342177\tvalidation_1-rmse:0.33886\n",
            "[192]\tvalidation_0-rmse:0.342127\tvalidation_1-rmse:0.338864\n",
            "[193]\tvalidation_0-rmse:0.342081\tvalidation_1-rmse:0.338825\n",
            "[194]\tvalidation_0-rmse:0.342019\tvalidation_1-rmse:0.338842\n",
            "[195]\tvalidation_0-rmse:0.341966\tvalidation_1-rmse:0.33882\n",
            "[196]\tvalidation_0-rmse:0.341917\tvalidation_1-rmse:0.338813\n",
            "[197]\tvalidation_0-rmse:0.341862\tvalidation_1-rmse:0.338817\n",
            "[198]\tvalidation_0-rmse:0.34181\tvalidation_1-rmse:0.338801\n",
            "[199]\tvalidation_0-rmse:0.341758\tvalidation_1-rmse:0.338816\n",
            "Score as calculated for the leader board (っಠ‿ಠ)っ 0.14208233061012615\n"
          ],
          "name": "stdout"
        }
      ]
    },
    {
      "cell_type": "code",
      "metadata": {
        "id": "54Gzy9AXsRX4"
      },
      "source": [
        "results = model_target_b.evals_result()\n",
        "epochs = len(results['validation_0']['rmse'])\n",
        "x_axis = range(0, epochs)"
      ],
      "execution_count": 140,
      "outputs": []
    },
    {
      "cell_type": "code",
      "metadata": {
        "id": "zVUfkOtnrzSQ",
        "outputId": "541e4a33-51a7-4fc5-a60c-7b200c1cfbb2",
        "colab": {
          "base_uri": "https://localhost:8080/",
          "height": 281
        }
      },
      "source": [
        "fig, ax = plt.subplots()\n",
        "ax.plot(x_axis, results['validation_0']['rmse'], label='Train')\n",
        "ax.plot(x_axis, results['validation_1']['rmse'], label='Test')\n",
        "ax.legend()\n",
        "plt.ylabel('AUC')\n",
        "plt.title('XGBoost RMSE')\n",
        "plt.show()"
      ],
      "execution_count": 141,
      "outputs": [
        {
          "output_type": "display_data",
          "data": {
            "image/png": "[encoded data removed]",
            "text/plain": [
              "<Figure size 432x288 with 1 Axes>"
            ]
          },
          "metadata": {
            "tags": [],
            "needs_background": "light"
          }
        }
      ]
    },
    {
      "cell_type": "markdown",
      "metadata": {
        "id": "bU8yZgBlI9gk"
      },
      "source": [
        "# 5 - Make prediction on the 3 targets\n",
        "\n",
        "When you feel like your model is accurate enough it's time to predict the target and submit your results.\n",
        "\n",
        "Repeat the operation on the three targets, concatenate the answers and submit.\n",
        "\n",
        "**WARNING** 1/ Keep the raw order identical.\n",
        "\n",
        "**WARNING** 2/ Be sure that your columns are named target_r, target-g and\n",
        " target_b.\n",
        "\n",
        "**WARNING** 3/ Your prediction need to be between 0 and 1.\n",
        "\n",
        "**WARNING** 4/ Don't submit constant values."
      ]
    },
    {
      "cell_type": "code",
      "metadata": {
        "id": "PlepVfYArvqX"
      },
      "source": [
        "prediction = pd.DataFrame()\n",
        "prediction['target_r'] = model_target_r.predict(test_data)\n",
        "prediction['target_g'] = model_target_g.predict(test_data)\n",
        "prediction['target_b'] = model_target_b.predict(test_data)"
      ],
      "execution_count": 142,
      "outputs": []
    },
    {
      "cell_type": "markdown",
      "metadata": {
        "id": "EEilx20TJHjj"
      },
      "source": [
        "# 6 - Submit predictions\n",
        "\n",
        "Past <u>your</u> API key here. You received it by email upon subscription and can find it on your leaderboard.\n"
      ]
    },
    {
      "cell_type": "code",
      "metadata": {
        "id": "KcD35qeZhf5S",
        "colab": {
          "base_uri": "https://localhost:8080/"
        },
        "outputId": "e12b982f-6f65-4bc7-c98c-d9a2d0991981"
      },
      "source": [
        "API_KEY = \"x54XvYd9cjk7joIwDbCk9egCGai4y51bXapviNdTYyPM0bIdY9Y4OjNpTdmf\" # <- HERE\n",
        "\n",
        "r = requests.post(\"https://tournament.datacrunch.com/api/submission\",\n",
        "    files = {\n",
        "        \"file\": (\"x\", prediction.to_csv().encode('ascii'))\n",
        "    },\n",
        "    data = {\n",
        "        \"apiKey\": API_KEY\n",
        "    },\n",
        ")\n",
        "\n",
        "if r.status_code == 200:\n",
        "    print(\"Submission submitted :)\")\n",
        "elif r.status_code == 423:\n",
        "    print(\"ERR: Submissions are close\")\n",
        "    print(\"You can only submit during rounds eg: Friday 7pm GMT+1 to Sunday midnight GMT+1.\")\n",
        "    print(\"Or the server is currently crunching the submitted files, please wait some time before retrying.\")\n",
        "elif r.status_code == 422:\n",
        "    print(\"ERR: API Key is missing or empty\")\n",
        "    print(\"Did you forget to fill the API_KEY variable?\")\n",
        "elif r.status_code == 404:\n",
        "    print(\"ERR: Unknown API Key\")\n",
        "    print(\"You should check that the provided API key is valid and is the same as the one you've received by email.\")\n",
        "elif r.status_code == 400:\n",
        "    print(\"ERR: The file must not be empty\")\n",
        "    print(\"You have send a empty file.\")\n",
        "elif r.status_code == 401:\n",
        "    print(\"ERR: Your email hasn't been verified\")\n",
        "    print(\"Please verify your email or contact a cruncher.\")\n",
        "elif r.status_code == 429:\n",
        "    print(\"ERR: Too many submissions\")\n",
        "else:\n",
        "    print(\"ERR: Server returned: \" + str(r.status_code))\n",
        "    print(\"Ouch! It seems that we were not expecting this kind of result from the server, if the probleme persist, contact a cruncher.\")"
      ],
      "execution_count": 143,
      "outputs": [
        {
          "output_type": "stream",
          "text": [
            "Submission submitted :)\n"
          ],
          "name": "stdout"
        }
      ]
    },
    {
      "cell_type": "markdown",
      "metadata": {
        "id": "Vmqzu6UnJL0H"
      },
      "source": [
        "# How to improve your prediction\n",
        "\n"
      ]
    },
    {
      "cell_type": "markdown",
      "metadata": {
        "id": "YNyfNdSaL8Cg"
      },
      "source": [
        "\n",
        "sklearn Docs\n",
        "https://scikit-learn.org/stable/index.html\n",
        "\n",
        "Tuning Tuning the hyper-parameters of an estimator \n",
        "https://scikit-learn.org/stable/modules/grid_search.html\n",
        "\n",
        "Cross Validation (in Python and R) \n",
        "https://www.analyticsvidhya.com/blog/2018/05/improve-model-performance-cross-validation-in-python-r/\n",
        "\n",
        "Possible ways to improve your prediction\n",
        "\n",
        "1- Feature extraction and feature engineering; following methods are possible:\n",
        "\n",
        "    princilpal component analysis (PCA)\n",
        "\n",
        "    linear discriminant analysis (LDA)\n",
        "\n",
        "    selecting best features (KBest)\n",
        "\n",
        "    t-SNE method for feature engineering\n",
        "\n",
        "    feature interactions using PolynomialFeatures\n",
        "\n",
        "2- training multiple individual classifiers; these include:\n",
        "\n",
        "    Keras neural networks\n",
        "\n",
        "    Logistic regression\n",
        "\n",
        "    Support vector machine\n",
        "\n",
        "    Gaussian naive Bayes\n",
        "\n",
        "    Random forrest classifier\n",
        "\n",
        "    Extra trees classifier\n",
        "\n",
        "    Gradient boost classifier\n",
        "\n",
        "    AdaBoost classifier\n",
        "\n",
        "    Bagging classifier\n",
        "\n",
        "    Stochastic gradient descent\n",
        "\n",
        "    K-Nearest neighbors\n",
        "\n",
        "Grid search and cross validation are used with some of the classifiers in order to fine tune their hyperparameters. \n",
        "\n",
        "Pipelines are used for automating tasks when needed. \n",
        "\n",
        "Keras neural network can be easily reconfigured using different number of hidden layers and/or neurons per layer, along with different training algorithms.\n",
        "\n",
        "3- aggregating individual classifiers using ensambling by soft voting, blending and stacking; possibilities include:\n",
        "\n",
        "    blending with logistic regression\n",
        "\n",
        "    blending with linear regression\n",
        "\n",
        "    blending with Extremly randomised trees\n",
        "\n",
        "    blending with Keras neural network classifier\n",
        "\n",
        "    stacking with TensorFlow DNN classifier\n",
        "\n",
        "    stacking with Extremly randomised trees\n",
        "\n",
        "    stacking with Keras neural network classifier with Merged branches\n",
        "\n",
        "    simple averageing of classifiers using different weights"
      ]
    },
    {
      "cell_type": "code",
      "metadata": {
        "id": "8fVGXUAE3Dvj"
      },
      "source": [
        "# Downloads data\n",
        "from google.colab import files\n",
        "with open(\"prediciton.csv\", \"wb\") as f:\n",
        "    f.write(prediction.to_csv().encode('ascii'))\n",
        "files.download('prediciton.csv')"
      ],
      "execution_count": null,
      "outputs": []
    },
    {
      "cell_type": "code",
      "metadata": {
        "id": "gMzBLpH98Ewl"
      },
      "source": [
        "from google.colab import files\n",
        "import pickle\n",
        "\n",
        "# Export model as pickle\n",
        "pickle.dump(model_target_r, open(\"model_target_r.model\", \"wb\"))\n",
        "files.download('model_target_r.model')"
      ],
      "execution_count": null,
      "outputs": []
    },
    {
      "cell_type": "code",
      "metadata": {
        "id": "mu0USOZv_NLn"
      },
      "source": [
        "!pip freeze | grep \"sklearn\" "
      ],
      "execution_count": null,
      "outputs": []
    }
  ]
}