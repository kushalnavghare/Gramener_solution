{
  "nbformat": 4,
  "nbformat_minor": 0,
  "metadata": {
    "colab": {
      "name": "QuickStart_2021.ipynb",
      "provenance": [],
      "collapsed_sections": [],
      "include_colab_link": true
    },
    "kernelspec": {
      "display_name": "Python 3",
      "name": "python3"
    },
    "accelerator": "GPU"
  },
  "cells": [
    {
      "cell_type": "markdown",
      "metadata": {
        "id": "view-in-github",
        "colab_type": "text"
      },
      "source": [
        "<a href=\"https://colab.research.google.com/github/kushalnavghare/cdac_solution/blob/master/data-crunch-competition.ipynb\" target=\"_parent\"><img src=\"https://colab.research.google.com/assets/colab-badge.svg\" alt=\"Open In Colab\"/></a>"
      ]
    },
    {
      "cell_type": "markdown",
      "metadata": {
        "id": "5l0vVj2kJJnL"
      },
      "source": [
        "# QuickStart\n",
        "\n",
        "##Basic step and workflow:\n",
        "\n",
        "0 - Using this notebook\n",
        "\n",
        "1 - Download data\n",
        "\n",
        "2 - Explore data\n",
        "\n",
        "3 - Choose and train a model\n",
        "\n",
        "4 - Scoring\n",
        "\n",
        "5 - Make prediction\n",
        "\n",
        "6 - Submit\n",
        "\n",
        "---"
      ]
    },
    {
      "cell_type": "markdown",
      "metadata": {
        "id": "M5ViHUVilbl_"
      },
      "source": [
        "## 0 - Using this notebook \n",
        "\n",
        "To execute the cell press `shift+enter`. \n",
        "\n",
        "Follow the steps and login with your Google account."
      ]
    },
    {
      "cell_type": "code",
      "metadata": {
        "id": "ih3kUib4NWbb"
      },
      "source": [
        "import tensorflow as tf"
      ],
      "execution_count": 2,
      "outputs": []
    },
    {
      "cell_type": "code",
      "metadata": {
        "colab": {
          "base_uri": "https://localhost:8080/",
          "height": 35
        },
        "id": "yLJtyRxlNdCG",
        "outputId": "9a082f46-9381-4ecb-a2e5-ad054b0dec6c"
      },
      "source": [
        "tf.test.gpu_device_name()"
      ],
      "execution_count": 3,
      "outputs": [
        {
          "output_type": "execute_result",
          "data": {
            "application/vnd.google.colaboratory.intrinsic+json": {
              "type": "string"
            },
            "text/plain": [
              "'/device:GPU:0'"
            ]
          },
          "metadata": {
            "tags": []
          },
          "execution_count": 3
        }
      ]
    },
    {
      "cell_type": "code",
      "metadata": {
        "id": "rd2LBIIWixP_"
      },
      "source": [
        "# Lib & Dependencies\n",
        "import pandas as pd\n",
        "import numpy as np\n",
        "import xgboost as xgb\n",
        "from sklearn.model_selection import train_test_split\n",
        "from sklearn.metrics import accuracy_score \n",
        "from sklearn.metrics import classification_report \n",
        "import requests\n",
        "from scipy import stats"
      ],
      "execution_count": 4,
      "outputs": []
    },
    {
      "cell_type": "code",
      "metadata": {
        "id": "l04CXbGoOZkb"
      },
      "source": [
        "import seaborn as sns\n",
        "import matplotlib.pyplot as plt"
      ],
      "execution_count": 5,
      "outputs": []
    },
    {
      "cell_type": "markdown",
      "metadata": {
        "id": "qD6jt7BJ2OCX"
      },
      "source": [
        "# 1 - Download data\n",
        "\n",
        "We will provide you with two dataset\n",
        "\n",
        "- Training_data will be use to train your model.\n",
        "- Hackathon_data will be use to make your prediciton.\n",
        "\n",
        "\n",
        "There is three target you need to provide prediction on: target_r, target_g, target_b.\n",
        "\n",
        "\n"
      ]
    },
    {
      "cell_type": "code",
      "metadata": {
        "id": "nDH7smCHVO81"
      },
      "source": [
        "# Data Download (may take a few minutes depending on your network)\n",
        "train_datalink_X = 'https://tournament.datacrunch.com/data/X_train.csv'  \n",
        "train_datalink_y = 'https://tournament.datacrunch.com/data/y_train.csv' \n",
        "hackathon_data_link = 'https://tournament.datacrunch.com/data/X_test.csv' \n",
        "\n",
        "# Data for training\n",
        "train_data = pd.read_csv(train_datalink_X)\n",
        "# Data for which you will submit your prediction\n",
        "test_data = pd.read_csv(hackathon_data_link)\n",
        "# Targets to be predicted\n",
        "train_targets = pd.read_csv(train_datalink_y)\n",
        "\n",
        "# If you don't want to look at the problem as a time serie\n",
        "train_data.drop(['id' ], axis=1, inplace=True)\n",
        "test_data.drop(['id'], axis=1, inplace=True)"
      ],
      "execution_count": 7,
      "outputs": []
    },
    {
      "cell_type": "code",
      "metadata": {
        "id": "H3qGwy49r55R",
        "colab": {
          "base_uri": "https://localhost:8080/",
          "height": 1000
        },
        "outputId": "a78b63b1-e6ce-4c1e-fa77-51a70b9c752a"
      },
      "source": [
        "display(train_data)\n",
        "display(train_targets)\n",
        "display(test_data)"
      ],
      "execution_count": 8,
      "outputs": [
        {
          "output_type": "display_data",
          "data": {
            "text/html": [
              "<div>\n",
              "<style scoped>\n",
              "    .dataframe tbody tr th:only-of-type {\n",
              "        vertical-align: middle;\n",
              "    }\n",
              "\n",
              "    .dataframe tbody tr th {\n",
              "        vertical-align: top;\n",
              "    }\n",
              "\n",
              "    .dataframe thead th {\n",
              "        text-align: right;\n",
              "    }\n",
              "</style>\n",
              "<table border=\"1\" class=\"dataframe\">\n",
              "  <thead>\n",
              "    <tr style=\"text-align: right;\">\n",
              "      <th></th>\n",
              "      <th>Moons</th>\n",
              "      <th>Feature_1</th>\n",
              "      <th>Feature_2</th>\n",
              "      <th>Feature_3</th>\n",
              "      <th>Feature_4</th>\n",
              "      <th>Feature_5</th>\n",
              "      <th>Feature_6</th>\n",
              "      <th>Feature_7</th>\n",
              "      <th>Feature_8</th>\n",
              "      <th>Feature_9</th>\n",
              "      <th>Feature_10</th>\n",
              "      <th>Feature_11</th>\n",
              "      <th>Feature_12</th>\n",
              "      <th>Feature_13</th>\n",
              "    </tr>\n",
              "  </thead>\n",
              "  <tbody>\n",
              "    <tr>\n",
              "      <th>0</th>\n",
              "      <td>0</td>\n",
              "      <td>0.50</td>\n",
              "      <td>1.00</td>\n",
              "      <td>0.75</td>\n",
              "      <td>0.0</td>\n",
              "      <td>0.0</td>\n",
              "      <td>0.00</td>\n",
              "      <td>0.00</td>\n",
              "      <td>0.00</td>\n",
              "      <td>0.00</td>\n",
              "      <td>0.00</td>\n",
              "      <td>0.00</td>\n",
              "      <td>0.00</td>\n",
              "      <td>0.00</td>\n",
              "    </tr>\n",
              "    <tr>\n",
              "      <th>1</th>\n",
              "      <td>0</td>\n",
              "      <td>0.50</td>\n",
              "      <td>1.00</td>\n",
              "      <td>0.75</td>\n",
              "      <td>0.0</td>\n",
              "      <td>0.0</td>\n",
              "      <td>0.00</td>\n",
              "      <td>0.00</td>\n",
              "      <td>0.00</td>\n",
              "      <td>0.00</td>\n",
              "      <td>0.00</td>\n",
              "      <td>0.00</td>\n",
              "      <td>0.00</td>\n",
              "      <td>0.00</td>\n",
              "    </tr>\n",
              "    <tr>\n",
              "      <th>2</th>\n",
              "      <td>0</td>\n",
              "      <td>0.75</td>\n",
              "      <td>1.00</td>\n",
              "      <td>0.75</td>\n",
              "      <td>0.0</td>\n",
              "      <td>0.0</td>\n",
              "      <td>0.00</td>\n",
              "      <td>0.00</td>\n",
              "      <td>0.50</td>\n",
              "      <td>0.50</td>\n",
              "      <td>1.00</td>\n",
              "      <td>0.75</td>\n",
              "      <td>0.75</td>\n",
              "      <td>1.00</td>\n",
              "    </tr>\n",
              "    <tr>\n",
              "      <th>3</th>\n",
              "      <td>0</td>\n",
              "      <td>0.50</td>\n",
              "      <td>1.00</td>\n",
              "      <td>0.75</td>\n",
              "      <td>0.0</td>\n",
              "      <td>0.0</td>\n",
              "      <td>0.00</td>\n",
              "      <td>0.00</td>\n",
              "      <td>0.00</td>\n",
              "      <td>0.00</td>\n",
              "      <td>0.50</td>\n",
              "      <td>0.50</td>\n",
              "      <td>0.75</td>\n",
              "      <td>0.50</td>\n",
              "    </tr>\n",
              "    <tr>\n",
              "      <th>4</th>\n",
              "      <td>0</td>\n",
              "      <td>0.75</td>\n",
              "      <td>1.00</td>\n",
              "      <td>0.75</td>\n",
              "      <td>0.0</td>\n",
              "      <td>0.0</td>\n",
              "      <td>0.00</td>\n",
              "      <td>0.00</td>\n",
              "      <td>0.00</td>\n",
              "      <td>0.00</td>\n",
              "      <td>0.00</td>\n",
              "      <td>0.00</td>\n",
              "      <td>0.00</td>\n",
              "      <td>0.00</td>\n",
              "    </tr>\n",
              "    <tr>\n",
              "      <th>...</th>\n",
              "      <td>...</td>\n",
              "      <td>...</td>\n",
              "      <td>...</td>\n",
              "      <td>...</td>\n",
              "      <td>...</td>\n",
              "      <td>...</td>\n",
              "      <td>...</td>\n",
              "      <td>...</td>\n",
              "      <td>...</td>\n",
              "      <td>...</td>\n",
              "      <td>...</td>\n",
              "      <td>...</td>\n",
              "      <td>...</td>\n",
              "      <td>...</td>\n",
              "    </tr>\n",
              "    <tr>\n",
              "      <th>6533</th>\n",
              "      <td>13</td>\n",
              "      <td>0.25</td>\n",
              "      <td>0.50</td>\n",
              "      <td>0.50</td>\n",
              "      <td>1.0</td>\n",
              "      <td>1.0</td>\n",
              "      <td>0.75</td>\n",
              "      <td>0.75</td>\n",
              "      <td>0.75</td>\n",
              "      <td>0.75</td>\n",
              "      <td>0.00</td>\n",
              "      <td>0.00</td>\n",
              "      <td>0.00</td>\n",
              "      <td>0.00</td>\n",
              "    </tr>\n",
              "    <tr>\n",
              "      <th>6534</th>\n",
              "      <td>13</td>\n",
              "      <td>0.00</td>\n",
              "      <td>0.25</td>\n",
              "      <td>0.25</td>\n",
              "      <td>1.0</td>\n",
              "      <td>1.0</td>\n",
              "      <td>0.25</td>\n",
              "      <td>0.25</td>\n",
              "      <td>0.00</td>\n",
              "      <td>0.00</td>\n",
              "      <td>0.00</td>\n",
              "      <td>0.00</td>\n",
              "      <td>0.00</td>\n",
              "      <td>0.00</td>\n",
              "    </tr>\n",
              "    <tr>\n",
              "      <th>6535</th>\n",
              "      <td>13</td>\n",
              "      <td>0.50</td>\n",
              "      <td>0.50</td>\n",
              "      <td>0.50</td>\n",
              "      <td>1.0</td>\n",
              "      <td>1.0</td>\n",
              "      <td>1.00</td>\n",
              "      <td>1.00</td>\n",
              "      <td>1.00</td>\n",
              "      <td>1.00</td>\n",
              "      <td>0.25</td>\n",
              "      <td>0.50</td>\n",
              "      <td>0.75</td>\n",
              "      <td>0.50</td>\n",
              "    </tr>\n",
              "    <tr>\n",
              "      <th>6536</th>\n",
              "      <td>13</td>\n",
              "      <td>0.25</td>\n",
              "      <td>0.75</td>\n",
              "      <td>1.00</td>\n",
              "      <td>1.0</td>\n",
              "      <td>1.0</td>\n",
              "      <td>1.00</td>\n",
              "      <td>1.00</td>\n",
              "      <td>1.00</td>\n",
              "      <td>1.00</td>\n",
              "      <td>0.00</td>\n",
              "      <td>0.00</td>\n",
              "      <td>0.00</td>\n",
              "      <td>0.00</td>\n",
              "    </tr>\n",
              "    <tr>\n",
              "      <th>6537</th>\n",
              "      <td>13</td>\n",
              "      <td>0.75</td>\n",
              "      <td>0.50</td>\n",
              "      <td>0.50</td>\n",
              "      <td>1.0</td>\n",
              "      <td>1.0</td>\n",
              "      <td>1.00</td>\n",
              "      <td>1.00</td>\n",
              "      <td>1.00</td>\n",
              "      <td>1.00</td>\n",
              "      <td>1.00</td>\n",
              "      <td>0.75</td>\n",
              "      <td>0.75</td>\n",
              "      <td>0.75</td>\n",
              "    </tr>\n",
              "  </tbody>\n",
              "</table>\n",
              "<p>6538 rows × 14 columns</p>\n",
              "</div>"
            ],
            "text/plain": [
              "      Moons  Feature_1  Feature_2  ...  Feature_11  Feature_12  Feature_13\n",
              "0         0       0.50       1.00  ...        0.00        0.00        0.00\n",
              "1         0       0.50       1.00  ...        0.00        0.00        0.00\n",
              "2         0       0.75       1.00  ...        0.75        0.75        1.00\n",
              "3         0       0.50       1.00  ...        0.50        0.75        0.50\n",
              "4         0       0.75       1.00  ...        0.00        0.00        0.00\n",
              "...     ...        ...        ...  ...         ...         ...         ...\n",
              "6533     13       0.25       0.50  ...        0.00        0.00        0.00\n",
              "6534     13       0.00       0.25  ...        0.00        0.00        0.00\n",
              "6535     13       0.50       0.50  ...        0.50        0.75        0.50\n",
              "6536     13       0.25       0.75  ...        0.00        0.00        0.00\n",
              "6537     13       0.75       0.50  ...        0.75        0.75        0.75\n",
              "\n",
              "[6538 rows x 14 columns]"
            ]
          },
          "metadata": {
            "tags": []
          }
        },
        {
          "output_type": "display_data",
          "data": {
            "text/html": [
              "<div>\n",
              "<style scoped>\n",
              "    .dataframe tbody tr th:only-of-type {\n",
              "        vertical-align: middle;\n",
              "    }\n",
              "\n",
              "    .dataframe tbody tr th {\n",
              "        vertical-align: top;\n",
              "    }\n",
              "\n",
              "    .dataframe thead th {\n",
              "        text-align: right;\n",
              "    }\n",
              "</style>\n",
              "<table border=\"1\" class=\"dataframe\">\n",
              "  <thead>\n",
              "    <tr style=\"text-align: right;\">\n",
              "      <th></th>\n",
              "      <th>target_r</th>\n",
              "      <th>target_g</th>\n",
              "      <th>target_b</th>\n",
              "    </tr>\n",
              "  </thead>\n",
              "  <tbody>\n",
              "    <tr>\n",
              "      <th>0</th>\n",
              "      <td>0.25</td>\n",
              "      <td>0.25</td>\n",
              "      <td>0.25</td>\n",
              "    </tr>\n",
              "    <tr>\n",
              "      <th>1</th>\n",
              "      <td>0.00</td>\n",
              "      <td>0.00</td>\n",
              "      <td>0.00</td>\n",
              "    </tr>\n",
              "    <tr>\n",
              "      <th>2</th>\n",
              "      <td>0.50</td>\n",
              "      <td>0.50</td>\n",
              "      <td>0.50</td>\n",
              "    </tr>\n",
              "    <tr>\n",
              "      <th>3</th>\n",
              "      <td>0.00</td>\n",
              "      <td>0.00</td>\n",
              "      <td>0.00</td>\n",
              "    </tr>\n",
              "    <tr>\n",
              "      <th>4</th>\n",
              "      <td>0.75</td>\n",
              "      <td>1.00</td>\n",
              "      <td>0.75</td>\n",
              "    </tr>\n",
              "    <tr>\n",
              "      <th>...</th>\n",
              "      <td>...</td>\n",
              "      <td>...</td>\n",
              "      <td>...</td>\n",
              "    </tr>\n",
              "    <tr>\n",
              "      <th>6533</th>\n",
              "      <td>0.00</td>\n",
              "      <td>0.75</td>\n",
              "      <td>0.75</td>\n",
              "    </tr>\n",
              "    <tr>\n",
              "      <th>6534</th>\n",
              "      <td>0.00</td>\n",
              "      <td>0.00</td>\n",
              "      <td>0.00</td>\n",
              "    </tr>\n",
              "    <tr>\n",
              "      <th>6535</th>\n",
              "      <td>0.25</td>\n",
              "      <td>0.25</td>\n",
              "      <td>0.00</td>\n",
              "    </tr>\n",
              "    <tr>\n",
              "      <th>6536</th>\n",
              "      <td>0.25</td>\n",
              "      <td>0.25</td>\n",
              "      <td>0.00</td>\n",
              "    </tr>\n",
              "    <tr>\n",
              "      <th>6537</th>\n",
              "      <td>0.75</td>\n",
              "      <td>1.00</td>\n",
              "      <td>1.00</td>\n",
              "    </tr>\n",
              "  </tbody>\n",
              "</table>\n",
              "<p>6538 rows × 3 columns</p>\n",
              "</div>"
            ],
            "text/plain": [
              "      target_r  target_g  target_b\n",
              "0         0.25      0.25      0.25\n",
              "1         0.00      0.00      0.00\n",
              "2         0.50      0.50      0.50\n",
              "3         0.00      0.00      0.00\n",
              "4         0.75      1.00      0.75\n",
              "...        ...       ...       ...\n",
              "6533      0.00      0.75      0.75\n",
              "6534      0.00      0.00      0.00\n",
              "6535      0.25      0.25      0.00\n",
              "6536      0.25      0.25      0.00\n",
              "6537      0.75      1.00      1.00\n",
              "\n",
              "[6538 rows x 3 columns]"
            ]
          },
          "metadata": {
            "tags": []
          }
        },
        {
          "output_type": "display_data",
          "data": {
            "text/html": [
              "<div>\n",
              "<style scoped>\n",
              "    .dataframe tbody tr th:only-of-type {\n",
              "        vertical-align: middle;\n",
              "    }\n",
              "\n",
              "    .dataframe tbody tr th {\n",
              "        vertical-align: top;\n",
              "    }\n",
              "\n",
              "    .dataframe thead th {\n",
              "        text-align: right;\n",
              "    }\n",
              "</style>\n",
              "<table border=\"1\" class=\"dataframe\">\n",
              "  <thead>\n",
              "    <tr style=\"text-align: right;\">\n",
              "      <th></th>\n",
              "      <th>Moons</th>\n",
              "      <th>Feature_1</th>\n",
              "      <th>Feature_2</th>\n",
              "      <th>Feature_3</th>\n",
              "      <th>Feature_4</th>\n",
              "      <th>Feature_5</th>\n",
              "      <th>Feature_6</th>\n",
              "      <th>Feature_7</th>\n",
              "      <th>Feature_8</th>\n",
              "      <th>Feature_9</th>\n",
              "      <th>Feature_10</th>\n",
              "      <th>Feature_11</th>\n",
              "      <th>Feature_12</th>\n",
              "      <th>Feature_13</th>\n",
              "    </tr>\n",
              "  </thead>\n",
              "  <tbody>\n",
              "    <tr>\n",
              "      <th>0</th>\n",
              "      <td>0</td>\n",
              "      <td>0.25</td>\n",
              "      <td>0.00</td>\n",
              "      <td>0.00</td>\n",
              "      <td>0.0</td>\n",
              "      <td>0.0</td>\n",
              "      <td>0.00</td>\n",
              "      <td>0.00</td>\n",
              "      <td>0.00</td>\n",
              "      <td>0.00</td>\n",
              "      <td>0.00</td>\n",
              "      <td>0.00</td>\n",
              "      <td>0.00</td>\n",
              "      <td>0.00</td>\n",
              "    </tr>\n",
              "    <tr>\n",
              "      <th>1</th>\n",
              "      <td>0</td>\n",
              "      <td>0.25</td>\n",
              "      <td>0.75</td>\n",
              "      <td>1.00</td>\n",
              "      <td>0.0</td>\n",
              "      <td>0.0</td>\n",
              "      <td>0.00</td>\n",
              "      <td>0.00</td>\n",
              "      <td>0.25</td>\n",
              "      <td>0.25</td>\n",
              "      <td>0.75</td>\n",
              "      <td>0.50</td>\n",
              "      <td>0.50</td>\n",
              "      <td>0.75</td>\n",
              "    </tr>\n",
              "    <tr>\n",
              "      <th>2</th>\n",
              "      <td>0</td>\n",
              "      <td>0.00</td>\n",
              "      <td>0.25</td>\n",
              "      <td>0.00</td>\n",
              "      <td>0.0</td>\n",
              "      <td>0.0</td>\n",
              "      <td>0.00</td>\n",
              "      <td>0.00</td>\n",
              "      <td>0.75</td>\n",
              "      <td>0.75</td>\n",
              "      <td>0.75</td>\n",
              "      <td>1.00</td>\n",
              "      <td>0.50</td>\n",
              "      <td>0.75</td>\n",
              "    </tr>\n",
              "    <tr>\n",
              "      <th>3</th>\n",
              "      <td>0</td>\n",
              "      <td>0.25</td>\n",
              "      <td>0.75</td>\n",
              "      <td>1.00</td>\n",
              "      <td>0.0</td>\n",
              "      <td>0.0</td>\n",
              "      <td>0.00</td>\n",
              "      <td>0.00</td>\n",
              "      <td>0.00</td>\n",
              "      <td>0.00</td>\n",
              "      <td>0.00</td>\n",
              "      <td>0.00</td>\n",
              "      <td>0.00</td>\n",
              "      <td>0.00</td>\n",
              "    </tr>\n",
              "    <tr>\n",
              "      <th>4</th>\n",
              "      <td>0</td>\n",
              "      <td>0.25</td>\n",
              "      <td>1.00</td>\n",
              "      <td>0.00</td>\n",
              "      <td>0.0</td>\n",
              "      <td>0.0</td>\n",
              "      <td>0.00</td>\n",
              "      <td>0.00</td>\n",
              "      <td>0.00</td>\n",
              "      <td>0.00</td>\n",
              "      <td>0.50</td>\n",
              "      <td>0.25</td>\n",
              "      <td>0.25</td>\n",
              "      <td>0.50</td>\n",
              "    </tr>\n",
              "    <tr>\n",
              "      <th>...</th>\n",
              "      <td>...</td>\n",
              "      <td>...</td>\n",
              "      <td>...</td>\n",
              "      <td>...</td>\n",
              "      <td>...</td>\n",
              "      <td>...</td>\n",
              "      <td>...</td>\n",
              "      <td>...</td>\n",
              "      <td>...</td>\n",
              "      <td>...</td>\n",
              "      <td>...</td>\n",
              "      <td>...</td>\n",
              "      <td>...</td>\n",
              "      <td>...</td>\n",
              "    </tr>\n",
              "    <tr>\n",
              "      <th>3431</th>\n",
              "      <td>6</td>\n",
              "      <td>0.25</td>\n",
              "      <td>0.00</td>\n",
              "      <td>0.00</td>\n",
              "      <td>1.0</td>\n",
              "      <td>1.0</td>\n",
              "      <td>1.00</td>\n",
              "      <td>1.00</td>\n",
              "      <td>1.00</td>\n",
              "      <td>1.00</td>\n",
              "      <td>0.75</td>\n",
              "      <td>0.50</td>\n",
              "      <td>1.00</td>\n",
              "      <td>0.50</td>\n",
              "    </tr>\n",
              "    <tr>\n",
              "      <th>3432</th>\n",
              "      <td>6</td>\n",
              "      <td>1.00</td>\n",
              "      <td>0.50</td>\n",
              "      <td>1.00</td>\n",
              "      <td>1.0</td>\n",
              "      <td>1.0</td>\n",
              "      <td>0.75</td>\n",
              "      <td>0.75</td>\n",
              "      <td>1.00</td>\n",
              "      <td>1.00</td>\n",
              "      <td>0.50</td>\n",
              "      <td>0.75</td>\n",
              "      <td>0.75</td>\n",
              "      <td>0.50</td>\n",
              "    </tr>\n",
              "    <tr>\n",
              "      <th>3433</th>\n",
              "      <td>6</td>\n",
              "      <td>0.00</td>\n",
              "      <td>0.25</td>\n",
              "      <td>0.00</td>\n",
              "      <td>1.0</td>\n",
              "      <td>1.0</td>\n",
              "      <td>1.00</td>\n",
              "      <td>1.00</td>\n",
              "      <td>1.00</td>\n",
              "      <td>1.00</td>\n",
              "      <td>0.00</td>\n",
              "      <td>0.00</td>\n",
              "      <td>0.00</td>\n",
              "      <td>0.00</td>\n",
              "    </tr>\n",
              "    <tr>\n",
              "      <th>3434</th>\n",
              "      <td>6</td>\n",
              "      <td>0.00</td>\n",
              "      <td>0.25</td>\n",
              "      <td>0.25</td>\n",
              "      <td>1.0</td>\n",
              "      <td>1.0</td>\n",
              "      <td>1.00</td>\n",
              "      <td>1.00</td>\n",
              "      <td>1.00</td>\n",
              "      <td>1.00</td>\n",
              "      <td>0.50</td>\n",
              "      <td>0.25</td>\n",
              "      <td>1.00</td>\n",
              "      <td>0.25</td>\n",
              "    </tr>\n",
              "    <tr>\n",
              "      <th>3435</th>\n",
              "      <td>6</td>\n",
              "      <td>0.25</td>\n",
              "      <td>1.00</td>\n",
              "      <td>0.75</td>\n",
              "      <td>1.0</td>\n",
              "      <td>1.0</td>\n",
              "      <td>1.00</td>\n",
              "      <td>1.00</td>\n",
              "      <td>1.00</td>\n",
              "      <td>1.00</td>\n",
              "      <td>0.00</td>\n",
              "      <td>0.00</td>\n",
              "      <td>0.00</td>\n",
              "      <td>0.00</td>\n",
              "    </tr>\n",
              "  </tbody>\n",
              "</table>\n",
              "<p>3436 rows × 14 columns</p>\n",
              "</div>"
            ],
            "text/plain": [
              "      Moons  Feature_1  Feature_2  ...  Feature_11  Feature_12  Feature_13\n",
              "0         0       0.25       0.00  ...        0.00        0.00        0.00\n",
              "1         0       0.25       0.75  ...        0.50        0.50        0.75\n",
              "2         0       0.00       0.25  ...        1.00        0.50        0.75\n",
              "3         0       0.25       0.75  ...        0.00        0.00        0.00\n",
              "4         0       0.25       1.00  ...        0.25        0.25        0.50\n",
              "...     ...        ...        ...  ...         ...         ...         ...\n",
              "3431      6       0.25       0.00  ...        0.50        1.00        0.50\n",
              "3432      6       1.00       0.50  ...        0.75        0.75        0.50\n",
              "3433      6       0.00       0.25  ...        0.00        0.00        0.00\n",
              "3434      6       0.00       0.25  ...        0.25        1.00        0.25\n",
              "3435      6       0.25       1.00  ...        0.00        0.00        0.00\n",
              "\n",
              "[3436 rows x 14 columns]"
            ]
          },
          "metadata": {
            "tags": []
          }
        }
      ]
    },
    {
      "cell_type": "markdown",
      "metadata": {
        "id": "bHwZ-q34kqRB"
      },
      "source": [
        "# 2 - Explore Data\n",
        "\n",
        "Data processing is one of the most important part. Observe your data and prepare carefully what you will give to your model for training."
      ]
    },
    {
      "cell_type": "code",
      "metadata": {
        "id": "0iPgB_mBfGUS",
        "colab": {
          "base_uri": "https://localhost:8080/",
          "height": 578
        },
        "outputId": "b1d0c5d3-26d1-45dc-94d3-7d1fe92b5f96"
      },
      "source": [
        "display(train_data.describe())\n",
        "display(train_targets.describe())"
      ],
      "execution_count": 9,
      "outputs": [
        {
          "output_type": "display_data",
          "data": {
            "text/html": [
              "<div>\n",
              "<style scoped>\n",
              "    .dataframe tbody tr th:only-of-type {\n",
              "        vertical-align: middle;\n",
              "    }\n",
              "\n",
              "    .dataframe tbody tr th {\n",
              "        vertical-align: top;\n",
              "    }\n",
              "\n",
              "    .dataframe thead th {\n",
              "        text-align: right;\n",
              "    }\n",
              "</style>\n",
              "<table border=\"1\" class=\"dataframe\">\n",
              "  <thead>\n",
              "    <tr style=\"text-align: right;\">\n",
              "      <th></th>\n",
              "      <th>Moons</th>\n",
              "      <th>Feature_1</th>\n",
              "      <th>Feature_2</th>\n",
              "      <th>Feature_3</th>\n",
              "      <th>Feature_4</th>\n",
              "      <th>Feature_5</th>\n",
              "      <th>Feature_6</th>\n",
              "      <th>Feature_7</th>\n",
              "      <th>Feature_8</th>\n",
              "      <th>Feature_9</th>\n",
              "      <th>Feature_10</th>\n",
              "      <th>Feature_11</th>\n",
              "      <th>Feature_12</th>\n",
              "      <th>Feature_13</th>\n",
              "    </tr>\n",
              "  </thead>\n",
              "  <tbody>\n",
              "    <tr>\n",
              "      <th>count</th>\n",
              "      <td>6538.000000</td>\n",
              "      <td>6538.000000</td>\n",
              "      <td>6538.000000</td>\n",
              "      <td>6538.000000</td>\n",
              "      <td>6538.000000</td>\n",
              "      <td>6538.000000</td>\n",
              "      <td>6538.000000</td>\n",
              "      <td>6538.000000</td>\n",
              "      <td>6538.000000</td>\n",
              "      <td>6538.000000</td>\n",
              "      <td>6538.000000</td>\n",
              "      <td>6538.000000</td>\n",
              "      <td>6538.000000</td>\n",
              "      <td>6538.000000</td>\n",
              "    </tr>\n",
              "    <tr>\n",
              "      <th>mean</th>\n",
              "      <td>6.578006</td>\n",
              "      <td>0.493423</td>\n",
              "      <td>0.500000</td>\n",
              "      <td>0.490670</td>\n",
              "      <td>0.500000</td>\n",
              "      <td>0.500000</td>\n",
              "      <td>0.500000</td>\n",
              "      <td>0.500000</td>\n",
              "      <td>0.500000</td>\n",
              "      <td>0.500000</td>\n",
              "      <td>0.485852</td>\n",
              "      <td>0.486273</td>\n",
              "      <td>0.486273</td>\n",
              "      <td>0.486273</td>\n",
              "    </tr>\n",
              "    <tr>\n",
              "      <th>std</th>\n",
              "      <td>4.023351</td>\n",
              "      <td>0.357847</td>\n",
              "      <td>0.353607</td>\n",
              "      <td>0.343442</td>\n",
              "      <td>0.353607</td>\n",
              "      <td>0.353607</td>\n",
              "      <td>0.353607</td>\n",
              "      <td>0.353607</td>\n",
              "      <td>0.353607</td>\n",
              "      <td>0.353607</td>\n",
              "      <td>0.367620</td>\n",
              "      <td>0.367623</td>\n",
              "      <td>0.367623</td>\n",
              "      <td>0.367623</td>\n",
              "    </tr>\n",
              "    <tr>\n",
              "      <th>min</th>\n",
              "      <td>0.000000</td>\n",
              "      <td>0.000000</td>\n",
              "      <td>0.000000</td>\n",
              "      <td>0.000000</td>\n",
              "      <td>0.000000</td>\n",
              "      <td>0.000000</td>\n",
              "      <td>0.000000</td>\n",
              "      <td>0.000000</td>\n",
              "      <td>0.000000</td>\n",
              "      <td>0.000000</td>\n",
              "      <td>0.000000</td>\n",
              "      <td>0.000000</td>\n",
              "      <td>0.000000</td>\n",
              "      <td>0.000000</td>\n",
              "    </tr>\n",
              "    <tr>\n",
              "      <th>25%</th>\n",
              "      <td>3.000000</td>\n",
              "      <td>0.250000</td>\n",
              "      <td>0.250000</td>\n",
              "      <td>0.250000</td>\n",
              "      <td>0.250000</td>\n",
              "      <td>0.250000</td>\n",
              "      <td>0.250000</td>\n",
              "      <td>0.250000</td>\n",
              "      <td>0.250000</td>\n",
              "      <td>0.250000</td>\n",
              "      <td>0.000000</td>\n",
              "      <td>0.000000</td>\n",
              "      <td>0.000000</td>\n",
              "      <td>0.000000</td>\n",
              "    </tr>\n",
              "    <tr>\n",
              "      <th>50%</th>\n",
              "      <td>7.000000</td>\n",
              "      <td>0.500000</td>\n",
              "      <td>0.500000</td>\n",
              "      <td>0.500000</td>\n",
              "      <td>0.500000</td>\n",
              "      <td>0.500000</td>\n",
              "      <td>0.500000</td>\n",
              "      <td>0.500000</td>\n",
              "      <td>0.500000</td>\n",
              "      <td>0.500000</td>\n",
              "      <td>0.500000</td>\n",
              "      <td>0.500000</td>\n",
              "      <td>0.500000</td>\n",
              "      <td>0.500000</td>\n",
              "    </tr>\n",
              "    <tr>\n",
              "      <th>75%</th>\n",
              "      <td>10.000000</td>\n",
              "      <td>0.750000</td>\n",
              "      <td>0.750000</td>\n",
              "      <td>0.750000</td>\n",
              "      <td>0.750000</td>\n",
              "      <td>0.750000</td>\n",
              "      <td>0.750000</td>\n",
              "      <td>0.750000</td>\n",
              "      <td>0.750000</td>\n",
              "      <td>0.750000</td>\n",
              "      <td>0.750000</td>\n",
              "      <td>0.750000</td>\n",
              "      <td>0.750000</td>\n",
              "      <td>0.750000</td>\n",
              "    </tr>\n",
              "    <tr>\n",
              "      <th>max</th>\n",
              "      <td>13.000000</td>\n",
              "      <td>1.000000</td>\n",
              "      <td>1.000000</td>\n",
              "      <td>1.000000</td>\n",
              "      <td>1.000000</td>\n",
              "      <td>1.000000</td>\n",
              "      <td>1.000000</td>\n",
              "      <td>1.000000</td>\n",
              "      <td>1.000000</td>\n",
              "      <td>1.000000</td>\n",
              "      <td>1.000000</td>\n",
              "      <td>1.000000</td>\n",
              "      <td>1.000000</td>\n",
              "      <td>1.000000</td>\n",
              "    </tr>\n",
              "  </tbody>\n",
              "</table>\n",
              "</div>"
            ],
            "text/plain": [
              "             Moons    Feature_1  ...   Feature_12   Feature_13\n",
              "count  6538.000000  6538.000000  ...  6538.000000  6538.000000\n",
              "mean      6.578006     0.493423  ...     0.486273     0.486273\n",
              "std       4.023351     0.357847  ...     0.367623     0.367623\n",
              "min       0.000000     0.000000  ...     0.000000     0.000000\n",
              "25%       3.000000     0.250000  ...     0.000000     0.000000\n",
              "50%       7.000000     0.500000  ...     0.500000     0.500000\n",
              "75%      10.000000     0.750000  ...     0.750000     0.750000\n",
              "max      13.000000     1.000000  ...     1.000000     1.000000\n",
              "\n",
              "[8 rows x 14 columns]"
            ]
          },
          "metadata": {
            "tags": []
          }
        },
        {
          "output_type": "display_data",
          "data": {
            "text/html": [
              "<div>\n",
              "<style scoped>\n",
              "    .dataframe tbody tr th:only-of-type {\n",
              "        vertical-align: middle;\n",
              "    }\n",
              "\n",
              "    .dataframe tbody tr th {\n",
              "        vertical-align: top;\n",
              "    }\n",
              "\n",
              "    .dataframe thead th {\n",
              "        text-align: right;\n",
              "    }\n",
              "</style>\n",
              "<table border=\"1\" class=\"dataframe\">\n",
              "  <thead>\n",
              "    <tr style=\"text-align: right;\">\n",
              "      <th></th>\n",
              "      <th>target_r</th>\n",
              "      <th>target_g</th>\n",
              "      <th>target_b</th>\n",
              "    </tr>\n",
              "  </thead>\n",
              "  <tbody>\n",
              "    <tr>\n",
              "      <th>count</th>\n",
              "      <td>6538.000000</td>\n",
              "      <td>6538.000000</td>\n",
              "      <td>6538.000000</td>\n",
              "    </tr>\n",
              "    <tr>\n",
              "      <th>mean</th>\n",
              "      <td>0.500000</td>\n",
              "      <td>0.500000</td>\n",
              "      <td>0.500000</td>\n",
              "    </tr>\n",
              "    <tr>\n",
              "      <th>std</th>\n",
              "      <td>0.353607</td>\n",
              "      <td>0.353607</td>\n",
              "      <td>0.353607</td>\n",
              "    </tr>\n",
              "    <tr>\n",
              "      <th>min</th>\n",
              "      <td>0.000000</td>\n",
              "      <td>0.000000</td>\n",
              "      <td>0.000000</td>\n",
              "    </tr>\n",
              "    <tr>\n",
              "      <th>25%</th>\n",
              "      <td>0.250000</td>\n",
              "      <td>0.250000</td>\n",
              "      <td>0.250000</td>\n",
              "    </tr>\n",
              "    <tr>\n",
              "      <th>50%</th>\n",
              "      <td>0.500000</td>\n",
              "      <td>0.500000</td>\n",
              "      <td>0.500000</td>\n",
              "    </tr>\n",
              "    <tr>\n",
              "      <th>75%</th>\n",
              "      <td>0.750000</td>\n",
              "      <td>0.750000</td>\n",
              "      <td>0.750000</td>\n",
              "    </tr>\n",
              "    <tr>\n",
              "      <th>max</th>\n",
              "      <td>1.000000</td>\n",
              "      <td>1.000000</td>\n",
              "      <td>1.000000</td>\n",
              "    </tr>\n",
              "  </tbody>\n",
              "</table>\n",
              "</div>"
            ],
            "text/plain": [
              "          target_r     target_g     target_b\n",
              "count  6538.000000  6538.000000  6538.000000\n",
              "mean      0.500000     0.500000     0.500000\n",
              "std       0.353607     0.353607     0.353607\n",
              "min       0.000000     0.000000     0.000000\n",
              "25%       0.250000     0.250000     0.250000\n",
              "50%       0.500000     0.500000     0.500000\n",
              "75%       0.750000     0.750000     0.750000\n",
              "max       1.000000     1.000000     1.000000"
            ]
          },
          "metadata": {
            "tags": []
          }
        }
      ]
    },
    {
      "cell_type": "code",
      "metadata": {
        "colab": {
          "base_uri": "https://localhost:8080/",
          "height": 550
        },
        "id": "EgMi829jOUac",
        "outputId": "f892c4e1-6039-4313-d0ec-14b9abac8acb"
      },
      "source": [
        "train_wd_targets = pd.concat([train_data, train_targets], axis=1)\n",
        "\n",
        "train_corr = train_wd_targets.corr()\n",
        "test_corr = test_data.corr()\n",
        "plt.figure(figsize=(18, 8))\n",
        "sns.heatmap(train_corr, annot=True, fmt='.2f', cmap='coolwarm', linewidths=0.4)"
      ],
      "execution_count": 27,
      "outputs": [
        {
          "output_type": "execute_result",
          "data": {
            "text/plain": [
              "<matplotlib.axes._subplots.AxesSubplot at 0x7f13f6061710>"
            ]
          },
          "metadata": {
            "tags": []
          },
          "execution_count": 27
        },
        {
          "output_type": "display_data",
          "data": {
            "image/png": "[encoded data removed]",
            "text/plain": [
              "<Figure size 1296x576 with 2 Axes>"
            ]
          },
          "metadata": {
            "tags": [],
            "needs_background": "light"
          }
        }
      ]
    },
    {
      "cell_type": "code",
      "metadata": {
        "colab": {
          "base_uri": "https://localhost:8080/",
          "height": 505
        },
        "id": "ahZiOjkwQNvV",
        "outputId": "ce7a2457-b450-48cf-8248-500a99581c07"
      },
      "source": [
        "plt.figure(figsize=(18, 8))\n",
        "sns.heatmap(test_corr, annot=True, fmt='.2f', cmap='coolwarm', linewidths=0.4)"
      ],
      "execution_count": 28,
      "outputs": [
        {
          "output_type": "execute_result",
          "data": {
            "text/plain": [
              "<matplotlib.axes._subplots.AxesSubplot at 0x7f13f5d0e050>"
            ]
          },
          "metadata": {
            "tags": []
          },
          "execution_count": 28
        },
        {
          "output_type": "display_data",
          "data": {
            "image/png": "[encoded data removed]",
            "text/plain": [
              "<Figure size 1296x576 with 2 Axes>"
            ]
          },
          "metadata": {
            "tags": [],
            "needs_background": "light"
          }
        }
      ]
    },
    {
      "cell_type": "code",
      "metadata": {
        "colab": {
          "base_uri": "https://localhost:8080/"
        },
        "id": "euZ6nUnTQfpl",
        "outputId": "6d4cdf2a-acc5-4f0f-9f2d-1e637783fb39"
      },
      "source": [
        "print(train_data.shape, test_data.shape)"
      ],
      "execution_count": 29,
      "outputs": [
        {
          "output_type": "stream",
          "text": [
            "(6538, 14) (3436, 14)\n"
          ],
          "name": "stdout"
        }
      ]
    },
    {
      "cell_type": "code",
      "metadata": {
        "id": "GkdKbIiLQk2p"
      },
      "source": [
        "df_combind = pd.concat([train_data, test_data], axis=0)"
      ],
      "execution_count": 30,
      "outputs": []
    },
    {
      "cell_type": "code",
      "metadata": {
        "colab": {
          "base_uri": "https://localhost:8080/"
        },
        "id": "ry2DKVLaQr0x",
        "outputId": "5a603dfa-0fdd-4bb6-dd6d-019ea8b00a5e"
      },
      "source": [
        "df_combind.shape"
      ],
      "execution_count": 31,
      "outputs": [
        {
          "output_type": "execute_result",
          "data": {
            "text/plain": [
              "(9974, 14)"
            ]
          },
          "metadata": {
            "tags": []
          },
          "execution_count": 31
        }
      ]
    },
    {
      "cell_type": "code",
      "metadata": {
        "colab": {
          "base_uri": "https://localhost:8080/",
          "height": 505
        },
        "id": "ZbS9XrfwQ5Ut",
        "outputId": "4fce9d31-6bb0-4cef-b38c-07961fbfd950"
      },
      "source": [
        "combind_corr = df_combind.corr()\n",
        "plt.figure(figsize=(18, 8))\n",
        "sns.heatmap(combind_corr, annot=True, fmt='.2f', cmap='coolwarm', linewidths=0.4)"
      ],
      "execution_count": 34,
      "outputs": [
        {
          "output_type": "execute_result",
          "data": {
            "text/plain": [
              "<matplotlib.axes._subplots.AxesSubplot at 0x7f13f7522610>"
            ]
          },
          "metadata": {
            "tags": []
          },
          "execution_count": 34
        },
        {
          "output_type": "display_data",
          "data": {
            "image/png": "[encoded data removed]",
            "text/plain": [
              "<Figure size 1296x576 with 2 Axes>"
            ]
          },
          "metadata": {
            "tags": [],
            "needs_background": "light"
          }
        }
      ]
    },
    {
      "cell_type": "code",
      "metadata": {
        "colab": {
          "base_uri": "https://localhost:8080/",
          "height": 296
        },
        "id": "2Pe-TLA40fpA",
        "outputId": "519197e3-e5a1-439b-bfc1-12409eb8a8bc"
      },
      "source": [
        "sns.countplot(y = train_data.Moons)"
      ],
      "execution_count": 35,
      "outputs": [
        {
          "output_type": "execute_result",
          "data": {
            "text/plain": [
              "<matplotlib.axes._subplots.AxesSubplot at 0x7f13f52e4c90>"
            ]
          },
          "metadata": {
            "tags": []
          },
          "execution_count": 35
        },
        {
          "output_type": "display_data",
          "data": {
            "image/png": "[encoded data removed]",
            "text/plain": [
              "<Figure size 432x288 with 1 Axes>"
            ]
          },
          "metadata": {
            "tags": [],
            "needs_background": "light"
          }
        }
      ]
    },
    {
      "cell_type": "code",
      "metadata": {
        "id": "40O0SRFC5ZXH"
      },
      "source": [
        "feat_df = train_data.groupby(['Moons']).agg([np.mean, np.std, np.min, np.max]).reset_index()"
      ],
      "execution_count": 67,
      "outputs": []
    },
    {
      "cell_type": "code",
      "metadata": {
        "id": "5kmk--lj8EjO",
        "outputId": "b5d8b1ea-5e33-4561-ebbc-b12f5892e929",
        "colab": {
          "base_uri": "https://localhost:8080/"
        }
      },
      "source": [
        "feat_df.shape"
      ],
      "execution_count": 77,
      "outputs": [
        {
          "output_type": "execute_result",
          "data": {
            "text/plain": [
              "(14, 53)"
            ]
          },
          "metadata": {
            "tags": []
          },
          "execution_count": 77
        }
      ]
    },
    {
      "cell_type": "code",
      "metadata": {
        "id": "achGFWDY7Zku"
      },
      "source": [
        "feat_df.columns = ['Moons', 'Feature_1_mean',\t'Feature_1_std',\t'Feature_1_amin',\t'Feature_1_amax',\n",
        "                   \t'Feature_2_mean', 'Feature_2_std', 'Feature_2_amin',\t'Feature_2_amax',\n",
        "                   \t'Feature_3_mean',\t'Feature_3_std',\t'Feature_3_amin',\t'Feature_3_amax',\n",
        "                   \t'Feature_4_mean',\t'Feature_4_std',\t'Feature_4_amin',\t'Feature_4_amax',\t\n",
        "                    'Feature_5_mean',\t'Feature_5_std',\t'Feature_5_amin',\t'Feature_5_amax', \n",
        "                    'Feature_6_mean',\t'Feature_6_std', \t'Feature_6_amin',\t'Feature_6_amax',\n",
        "                    'Feature_7_mean',\t'Feature_7_std',\t'Feature_7_amin',\t'Feature_7_amax',\n",
        "                   \t'Feature_8_mean',\t'Feature_8_std', \t'Feature_8_amin',  'Feature_8_amax',\n",
        "                   \t'Feature_9_mean',\t'Feature_9_std',\t'Feature_9_amin',\t'Feature_9_amax',\n",
        "                   \t'Feature_10_mean',\t'Feature_10_std',\t'Feature_10_amin',\t'Feature_10_amax',\n",
        "                   \t'Feature_11_mean',\t'Feature_11_std',\t'Feature_11_amin',\t'Feature_11_amax',\n",
        "                   \t'Feature_12_mean',\t'Feature_12_std',\t'Feature_12_amin', 'Feature_12_amax',\n",
        "                    'Feature_13_mean', 'Feature_13_std', 'Feature_13_amin', 'Feature_13_amax']"
      ],
      "execution_count": 79,
      "outputs": []
    },
    {
      "cell_type": "code",
      "metadata": {
        "id": "J_U2UvG67ux7",
        "outputId": "5f4b2c5a-5e87-4392-e27f-868ad6d05879",
        "colab": {
          "base_uri": "https://localhost:8080/",
          "height": 217
        }
      },
      "source": [
        "feat_df.head()"
      ],
      "execution_count": 80,
      "outputs": [
        {
          "output_type": "execute_result",
          "data": {
            "text/html": [
              "<div>\n",
              "<style scoped>\n",
              "    .dataframe tbody tr th:only-of-type {\n",
              "        vertical-align: middle;\n",
              "    }\n",
              "\n",
              "    .dataframe tbody tr th {\n",
              "        vertical-align: top;\n",
              "    }\n",
              "\n",
              "    .dataframe thead th {\n",
              "        text-align: right;\n",
              "    }\n",
              "</style>\n",
              "<table border=\"1\" class=\"dataframe\">\n",
              "  <thead>\n",
              "    <tr style=\"text-align: right;\">\n",
              "      <th></th>\n",
              "      <th>Moons</th>\n",
              "      <th>Feature_1_mean</th>\n",
              "      <th>Feature_1_std</th>\n",
              "      <th>Feature_1_amin</th>\n",
              "      <th>Feature_1_amax</th>\n",
              "      <th>Feature_2_mean</th>\n",
              "      <th>Feature_2_std</th>\n",
              "      <th>Feature_2_amin</th>\n",
              "      <th>Feature_2_amax</th>\n",
              "      <th>Feature_3_mean</th>\n",
              "      <th>Feature_3_std</th>\n",
              "      <th>Feature_3_amin</th>\n",
              "      <th>Feature_3_amax</th>\n",
              "      <th>Feature_4_mean</th>\n",
              "      <th>Feature_4_std</th>\n",
              "      <th>Feature_4_amin</th>\n",
              "      <th>Feature_4_amax</th>\n",
              "      <th>Feature_5_mean</th>\n",
              "      <th>Feature_5_std</th>\n",
              "      <th>Feature_5_amin</th>\n",
              "      <th>Feature_5_amax</th>\n",
              "      <th>Feature_6_mean</th>\n",
              "      <th>Feature_6_std</th>\n",
              "      <th>Feature_6_amin</th>\n",
              "      <th>Feature_6_amax</th>\n",
              "      <th>Feature_7_mean</th>\n",
              "      <th>Feature_7_std</th>\n",
              "      <th>Feature_7_amin</th>\n",
              "      <th>Feature_7_amax</th>\n",
              "      <th>Feature_8_mean</th>\n",
              "      <th>Feature_8_std</th>\n",
              "      <th>Feature_8_amin</th>\n",
              "      <th>Feature_8_amax</th>\n",
              "      <th>Feature_9_mean</th>\n",
              "      <th>Feature_9_std</th>\n",
              "      <th>Feature_9_amin</th>\n",
              "      <th>Feature_9_amax</th>\n",
              "      <th>Feature_10_mean</th>\n",
              "      <th>Feature_10_std</th>\n",
              "      <th>Feature_10_amin</th>\n",
              "      <th>Feature_10_amax</th>\n",
              "      <th>Feature_11_mean</th>\n",
              "      <th>Feature_11_std</th>\n",
              "      <th>Feature_11_amin</th>\n",
              "      <th>Feature_11_amax</th>\n",
              "      <th>Feature_12_mean</th>\n",
              "      <th>Feature_12_std</th>\n",
              "      <th>Feature_12_amin</th>\n",
              "      <th>Feature_12_amax</th>\n",
              "      <th>Feature_13_mean</th>\n",
              "      <th>Feature_13_std</th>\n",
              "      <th>Feature_13_amin</th>\n",
              "      <th>Feature_13_amax</th>\n",
              "    </tr>\n",
              "  </thead>\n",
              "  <tbody>\n",
              "    <tr>\n",
              "      <th>0</th>\n",
              "      <td>0</td>\n",
              "      <td>0.516741</td>\n",
              "      <td>0.345147</td>\n",
              "      <td>0.0</td>\n",
              "      <td>1.0</td>\n",
              "      <td>1.000000</td>\n",
              "      <td>0.000000</td>\n",
              "      <td>1.0</td>\n",
              "      <td>1.0</td>\n",
              "      <td>0.750000</td>\n",
              "      <td>0.000000</td>\n",
              "      <td>0.75</td>\n",
              "      <td>0.75</td>\n",
              "      <td>0.405692</td>\n",
              "      <td>0.348625</td>\n",
              "      <td>0.0</td>\n",
              "      <td>1.0</td>\n",
              "      <td>0.405692</td>\n",
              "      <td>0.348625</td>\n",
              "      <td>0.0</td>\n",
              "      <td>1.0</td>\n",
              "      <td>0.412388</td>\n",
              "      <td>0.323826</td>\n",
              "      <td>0.0</td>\n",
              "      <td>1.0</td>\n",
              "      <td>0.412388</td>\n",
              "      <td>0.323826</td>\n",
              "      <td>0.0</td>\n",
              "      <td>1.0</td>\n",
              "      <td>0.401228</td>\n",
              "      <td>0.328772</td>\n",
              "      <td>0.0</td>\n",
              "      <td>1.0</td>\n",
              "      <td>0.401228</td>\n",
              "      <td>0.328772</td>\n",
              "      <td>0.0</td>\n",
              "      <td>1.0</td>\n",
              "      <td>0.525670</td>\n",
              "      <td>0.343784</td>\n",
              "      <td>0.0</td>\n",
              "      <td>1.0</td>\n",
              "      <td>0.551339</td>\n",
              "      <td>0.358484</td>\n",
              "      <td>0.0</td>\n",
              "      <td>1.0</td>\n",
              "      <td>0.538504</td>\n",
              "      <td>0.341150</td>\n",
              "      <td>0.0</td>\n",
              "      <td>1.0</td>\n",
              "      <td>0.496094</td>\n",
              "      <td>0.347750</td>\n",
              "      <td>0.0</td>\n",
              "      <td>1.0</td>\n",
              "    </tr>\n",
              "    <tr>\n",
              "      <th>1</th>\n",
              "      <td>1</td>\n",
              "      <td>0.441079</td>\n",
              "      <td>0.360085</td>\n",
              "      <td>0.0</td>\n",
              "      <td>1.0</td>\n",
              "      <td>0.312225</td>\n",
              "      <td>0.316244</td>\n",
              "      <td>0.0</td>\n",
              "      <td>1.0</td>\n",
              "      <td>0.396476</td>\n",
              "      <td>0.329339</td>\n",
              "      <td>0.00</td>\n",
              "      <td>1.00</td>\n",
              "      <td>0.512665</td>\n",
              "      <td>0.363147</td>\n",
              "      <td>0.0</td>\n",
              "      <td>1.0</td>\n",
              "      <td>0.512665</td>\n",
              "      <td>0.363147</td>\n",
              "      <td>0.0</td>\n",
              "      <td>1.0</td>\n",
              "      <td>0.176762</td>\n",
              "      <td>0.257888</td>\n",
              "      <td>0.0</td>\n",
              "      <td>1.0</td>\n",
              "      <td>0.176762</td>\n",
              "      <td>0.257888</td>\n",
              "      <td>0.0</td>\n",
              "      <td>1.0</td>\n",
              "      <td>0.259912</td>\n",
              "      <td>0.321954</td>\n",
              "      <td>0.0</td>\n",
              "      <td>1.0</td>\n",
              "      <td>0.259912</td>\n",
              "      <td>0.321954</td>\n",
              "      <td>0.0</td>\n",
              "      <td>1.0</td>\n",
              "      <td>0.469163</td>\n",
              "      <td>0.367914</td>\n",
              "      <td>0.0</td>\n",
              "      <td>1.0</td>\n",
              "      <td>0.441079</td>\n",
              "      <td>0.366917</td>\n",
              "      <td>0.0</td>\n",
              "      <td>1.0</td>\n",
              "      <td>0.510463</td>\n",
              "      <td>0.406250</td>\n",
              "      <td>0.0</td>\n",
              "      <td>1.0</td>\n",
              "      <td>0.461454</td>\n",
              "      <td>0.369432</td>\n",
              "      <td>0.0</td>\n",
              "      <td>1.0</td>\n",
              "    </tr>\n",
              "    <tr>\n",
              "      <th>2</th>\n",
              "      <td>2</td>\n",
              "      <td>0.441338</td>\n",
              "      <td>0.368001</td>\n",
              "      <td>0.0</td>\n",
              "      <td>1.0</td>\n",
              "      <td>0.407346</td>\n",
              "      <td>0.315002</td>\n",
              "      <td>0.0</td>\n",
              "      <td>1.0</td>\n",
              "      <td>0.446272</td>\n",
              "      <td>0.346279</td>\n",
              "      <td>0.00</td>\n",
              "      <td>1.00</td>\n",
              "      <td>0.260965</td>\n",
              "      <td>0.305428</td>\n",
              "      <td>0.0</td>\n",
              "      <td>1.0</td>\n",
              "      <td>0.260965</td>\n",
              "      <td>0.305428</td>\n",
              "      <td>0.0</td>\n",
              "      <td>1.0</td>\n",
              "      <td>0.269737</td>\n",
              "      <td>0.268583</td>\n",
              "      <td>0.0</td>\n",
              "      <td>1.0</td>\n",
              "      <td>0.269737</td>\n",
              "      <td>0.268583</td>\n",
              "      <td>0.0</td>\n",
              "      <td>1.0</td>\n",
              "      <td>0.412829</td>\n",
              "      <td>0.308212</td>\n",
              "      <td>0.0</td>\n",
              "      <td>1.0</td>\n",
              "      <td>0.412829</td>\n",
              "      <td>0.308212</td>\n",
              "      <td>0.0</td>\n",
              "      <td>1.0</td>\n",
              "      <td>0.510417</td>\n",
              "      <td>0.344942</td>\n",
              "      <td>0.0</td>\n",
              "      <td>1.0</td>\n",
              "      <td>0.484649</td>\n",
              "      <td>0.348127</td>\n",
              "      <td>0.0</td>\n",
              "      <td>1.0</td>\n",
              "      <td>0.487939</td>\n",
              "      <td>0.351398</td>\n",
              "      <td>0.0</td>\n",
              "      <td>1.0</td>\n",
              "      <td>0.515351</td>\n",
              "      <td>0.364322</td>\n",
              "      <td>0.0</td>\n",
              "      <td>1.0</td>\n",
              "    </tr>\n",
              "    <tr>\n",
              "      <th>3</th>\n",
              "      <td>3</td>\n",
              "      <td>0.449457</td>\n",
              "      <td>0.354361</td>\n",
              "      <td>0.0</td>\n",
              "      <td>1.0</td>\n",
              "      <td>0.505435</td>\n",
              "      <td>0.311320</td>\n",
              "      <td>0.0</td>\n",
              "      <td>1.0</td>\n",
              "      <td>0.461413</td>\n",
              "      <td>0.354331</td>\n",
              "      <td>0.00</td>\n",
              "      <td>1.00</td>\n",
              "      <td>0.804891</td>\n",
              "      <td>0.264252</td>\n",
              "      <td>0.0</td>\n",
              "      <td>1.0</td>\n",
              "      <td>0.804891</td>\n",
              "      <td>0.264252</td>\n",
              "      <td>0.0</td>\n",
              "      <td>1.0</td>\n",
              "      <td>0.790761</td>\n",
              "      <td>0.279757</td>\n",
              "      <td>0.0</td>\n",
              "      <td>1.0</td>\n",
              "      <td>0.790761</td>\n",
              "      <td>0.279757</td>\n",
              "      <td>0.0</td>\n",
              "      <td>1.0</td>\n",
              "      <td>0.577717</td>\n",
              "      <td>0.359766</td>\n",
              "      <td>0.0</td>\n",
              "      <td>1.0</td>\n",
              "      <td>0.577717</td>\n",
              "      <td>0.359766</td>\n",
              "      <td>0.0</td>\n",
              "      <td>1.0</td>\n",
              "      <td>0.399457</td>\n",
              "      <td>0.347062</td>\n",
              "      <td>0.0</td>\n",
              "      <td>1.0</td>\n",
              "      <td>0.421739</td>\n",
              "      <td>0.375757</td>\n",
              "      <td>0.0</td>\n",
              "      <td>1.0</td>\n",
              "      <td>0.388587</td>\n",
              "      <td>0.357697</td>\n",
              "      <td>0.0</td>\n",
              "      <td>1.0</td>\n",
              "      <td>0.437500</td>\n",
              "      <td>0.386357</td>\n",
              "      <td>0.0</td>\n",
              "      <td>1.0</td>\n",
              "    </tr>\n",
              "    <tr>\n",
              "      <th>4</th>\n",
              "      <td>4</td>\n",
              "      <td>0.433585</td>\n",
              "      <td>0.368233</td>\n",
              "      <td>0.0</td>\n",
              "      <td>1.0</td>\n",
              "      <td>0.417927</td>\n",
              "      <td>0.307751</td>\n",
              "      <td>0.0</td>\n",
              "      <td>1.0</td>\n",
              "      <td>0.433045</td>\n",
              "      <td>0.338460</td>\n",
              "      <td>0.00</td>\n",
              "      <td>1.00</td>\n",
              "      <td>0.491901</td>\n",
              "      <td>0.375183</td>\n",
              "      <td>0.0</td>\n",
              "      <td>1.0</td>\n",
              "      <td>0.491901</td>\n",
              "      <td>0.375183</td>\n",
              "      <td>0.0</td>\n",
              "      <td>1.0</td>\n",
              "      <td>0.508099</td>\n",
              "      <td>0.356699</td>\n",
              "      <td>0.0</td>\n",
              "      <td>1.0</td>\n",
              "      <td>0.508099</td>\n",
              "      <td>0.356699</td>\n",
              "      <td>0.0</td>\n",
              "      <td>1.0</td>\n",
              "      <td>0.503780</td>\n",
              "      <td>0.340870</td>\n",
              "      <td>0.0</td>\n",
              "      <td>1.0</td>\n",
              "      <td>0.503780</td>\n",
              "      <td>0.340870</td>\n",
              "      <td>0.0</td>\n",
              "      <td>1.0</td>\n",
              "      <td>0.392009</td>\n",
              "      <td>0.396755</td>\n",
              "      <td>0.0</td>\n",
              "      <td>1.0</td>\n",
              "      <td>0.402808</td>\n",
              "      <td>0.387861</td>\n",
              "      <td>0.0</td>\n",
              "      <td>1.0</td>\n",
              "      <td>0.350972</td>\n",
              "      <td>0.361401</td>\n",
              "      <td>0.0</td>\n",
              "      <td>1.0</td>\n",
              "      <td>0.428186</td>\n",
              "      <td>0.410363</td>\n",
              "      <td>0.0</td>\n",
              "      <td>1.0</td>\n",
              "    </tr>\n",
              "  </tbody>\n",
              "</table>\n",
              "</div>"
            ],
            "text/plain": [
              "   Moons  Feature_1_mean  ...  Feature_13_amin  Feature_13_amax\n",
              "0      0        0.516741  ...              0.0              1.0\n",
              "1      1        0.441079  ...              0.0              1.0\n",
              "2      2        0.441338  ...              0.0              1.0\n",
              "3      3        0.449457  ...              0.0              1.0\n",
              "4      4        0.433585  ...              0.0              1.0\n",
              "\n",
              "[5 rows x 53 columns]"
            ]
          },
          "metadata": {
            "tags": []
          },
          "execution_count": 80
        }
      ]
    },
    {
      "cell_type": "code",
      "metadata": {
        "id": "BECIhwfkAW_Z"
      },
      "source": [
        "temp_df = pd.DataFrame(feat_df.nunique(), columns=['values'])"
      ],
      "execution_count": 99,
      "outputs": []
    },
    {
      "cell_type": "code",
      "metadata": {
        "id": "72Y4GoiYBdNx"
      },
      "source": [
        "ll = temp_df[temp_df.values<=2].index.tolist()"
      ],
      "execution_count": 109,
      "outputs": []
    },
    {
      "cell_type": "code",
      "metadata": {
        "id": "JPjCZ-NQBlSI"
      },
      "source": [
        "feat_df.drop(ll, axis=1, inplace=True)"
      ],
      "execution_count": 111,
      "outputs": []
    },
    {
      "cell_type": "markdown",
      "metadata": {
        "id": "r8WONtVJBTCn"
      },
      "source": [
        "# 3 - Choose models\n",
        "\n",
        "Crunch with originality!!! 👨🏻‍🏭"
      ]
    },
    {
      "cell_type": "code",
      "metadata": {
        "id": "YXdh4a1nCawz"
      },
      "source": [
        "train_data = train_data.merge(feat_df, how = 'left', on = 'Moons')"
      ],
      "execution_count": 119,
      "outputs": []
    },
    {
      "cell_type": "code",
      "metadata": {
        "id": "eNWg4ZtSbpDt"
      },
      "source": [
        "from sklearn.model_selection import RandomizedSearchCV, RepeatedStratifiedKFold, ShuffleSplit, learning_curve, RepeatedKFold"
      ],
      "execution_count": 120,
      "outputs": []
    },
    {
      "cell_type": "code",
      "metadata": {
        "colab": {
          "base_uri": "https://localhost:8080/"
        },
        "id": "shMix_0ZcKya",
        "outputId": "66553f36-533a-418f-8cc0-02c449c2f430"
      },
      "source": [
        "import sklearn\n",
        "sklearn.metrics.SCORERS.keys()"
      ],
      "execution_count": 121,
      "outputs": [
        {
          "output_type": "execute_result",
          "data": {
            "text/plain": [
              "dict_keys(['explained_variance', 'r2', 'max_error', 'neg_median_absolute_error', 'neg_mean_absolute_error', 'neg_mean_squared_error', 'neg_mean_squared_log_error', 'neg_root_mean_squared_error', 'neg_mean_poisson_deviance', 'neg_mean_gamma_deviance', 'accuracy', 'roc_auc', 'roc_auc_ovr', 'roc_auc_ovo', 'roc_auc_ovr_weighted', 'roc_auc_ovo_weighted', 'balanced_accuracy', 'average_precision', 'neg_log_loss', 'neg_brier_score', 'adjusted_rand_score', 'homogeneity_score', 'completeness_score', 'v_measure_score', 'mutual_info_score', 'adjusted_mutual_info_score', 'normalized_mutual_info_score', 'fowlkes_mallows_score', 'precision', 'precision_macro', 'precision_micro', 'precision_samples', 'precision_weighted', 'recall', 'recall_macro', 'recall_micro', 'recall_samples', 'recall_weighted', 'f1', 'f1_macro', 'f1_micro', 'f1_samples', 'f1_weighted', 'jaccard', 'jaccard_macro', 'jaccard_micro', 'jaccard_samples', 'jaccard_weighted'])"
            ]
          },
          "metadata": {
            "tags": []
          },
          "execution_count": 121
        }
      ]
    },
    {
      "cell_type": "code",
      "metadata": {
        "id": "htDunM1ScobG"
      },
      "source": [
        "estimator = xgb.XGBRegressor(objective='reg:squarederror', random_state=42)"
      ],
      "execution_count": 122,
      "outputs": []
    },
    {
      "cell_type": "code",
      "metadata": {
        "id": "_qaMcK2ccAWn"
      },
      "source": [
        "parameters = {\n",
        "    'learning_rate': [0.3, 0.1, 0.01, 0.05],\n",
        "        'max_depth': [3, 5, 7, 10],\n",
        "        'min_child_weight': [1, 3, 5],\n",
        "        'subsample': [0.5, 0.7],\n",
        "        'colsample_bytree': [0.5, 0.7],\n",
        "        'objective': ['reg:squarederror', 'reg:linear'], \n",
        "        'n_estimators': range(50, 1000, 50),\n",
        "}"
      ],
      "execution_count": 123,
      "outputs": []
    },
    {
      "cell_type": "code",
      "metadata": {
        "id": "tfOa4dWncBud"
      },
      "source": [
        "cv = RepeatedKFold(n_splits=10, n_repeats=3, random_state=42)"
      ],
      "execution_count": 124,
      "outputs": []
    },
    {
      "cell_type": "code",
      "metadata": {
        "id": "kCCWCa3pcFqn"
      },
      "source": [
        "rand_search = RandomizedSearchCV(\n",
        "    estimator=estimator,\n",
        "    param_distributions=parameters,\n",
        "    scoring = 'r2',\n",
        "    n_jobs = -1,\n",
        "    cv = cv,\n",
        "    verbose=True, random_state=42\n",
        ")"
      ],
      "execution_count": 125,
      "outputs": []
    },
    {
      "cell_type": "code",
      "metadata": {
        "id": "8yo65hBS1Wwp"
      },
      "source": [
        "def xg_boost_hackathon(data, target):\n",
        "    X, y = data, target\n",
        "    X_train, X_test, y_train, y_test = train_test_split(X, y, test_size=0.2, shuffle=False)\n",
        "    model = xgb.XGBRegressor(objective='reg:squarederror', max_depth=5, learning_rate=0.01, n_estimators=200, n_jobs=-1, colsample_bytree=0.5)\n",
        "    model.fit(X_train, y_train)\n",
        "    pred = model.predict(X_test)\n",
        "    scorer(y_test, pred)\n",
        "\n",
        "    return model"
      ],
      "execution_count": 126,
      "outputs": []
    },
    {
      "cell_type": "code",
      "metadata": {
        "id": "V-DP8S64j0EA"
      },
      "source": [
        "def hyperparameter_opt(data, target):\n",
        "    \n",
        "    X, y = data, target\n",
        "    \n",
        "    X_train, X_test, y_train, y_test = train_test_split(X, y, test_size=0.2, shuffle=False)\n",
        "\n",
        "    estimator = xgb.XGBRegressor(random_state=42)\n",
        "    \n",
        "    rand_search = RandomizedSearchCV(\n",
        "        estimator=estimator,\n",
        "        param_distributions=parameters,\n",
        "        scoring = 'r2',\n",
        "        n_jobs = -1,\n",
        "        cv = cv,\n",
        "        verbose=True, random_state=42)\n",
        "    \n",
        "    rand_search_result = rand_search.fit(X_train, y_train)\n",
        "    print(rand_search_result.best_params_)\n",
        "    return rand_search_result"
      ],
      "execution_count": 127,
      "outputs": []
    },
    {
      "cell_type": "code",
      "metadata": {
        "colab": {
          "base_uri": "https://localhost:8080/"
        },
        "id": "IhE6S6sOdtmT",
        "outputId": "ca14d91a-6abd-4f98-f630-b4cd8f8fd9f4"
      },
      "source": [
        "target_r_params = hyperparameter_opt(train_data.drop(['Moons'], axis=1), train_targets.target_r)"
      ],
      "execution_count": 130,
      "outputs": [
        {
          "output_type": "stream",
          "text": [
            "Fitting 30 folds for each of 10 candidates, totalling 300 fits\n"
          ],
          "name": "stdout"
        },
        {
          "output_type": "stream",
          "text": [
            "[Parallel(n_jobs=-1)]: Using backend LokyBackend with 2 concurrent workers.\n",
            "[Parallel(n_jobs=-1)]: Done  46 tasks      | elapsed:  5.9min\n",
            "[Parallel(n_jobs=-1)]: Done 196 tasks      | elapsed: 21.8min\n",
            "[Parallel(n_jobs=-1)]: Done 300 out of 300 | elapsed: 28.4min finished\n"
          ],
          "name": "stderr"
        },
        {
          "output_type": "stream",
          "text": [
            "[20:09:18] WARNING: /workspace/src/objective/regression_obj.cu:152: reg:linear is now deprecated in favor of reg:squarederror.\n",
            "{'subsample': 0.5, 'objective': 'reg:linear', 'n_estimators': 450, 'min_child_weight': 1, 'max_depth': 5, 'learning_rate': 0.01, 'colsample_bytree': 0.7}\n"
          ],
          "name": "stdout"
        }
      ]
    },
    {
      "cell_type": "code",
      "metadata": {
        "colab": {
          "base_uri": "https://localhost:8080/"
        },
        "id": "NU7JX_zyfS7Y",
        "outputId": "e80863d1-0b24-4447-8261-1a974f6cccb6"
      },
      "source": [
        "target_g_params = hyperparameter_opt(train_data.drop(['Moons'], axis=1), train_targets.target_g)"
      ],
      "execution_count": null,
      "outputs": [
        {
          "output_type": "stream",
          "text": [
            "Fitting 30 folds for each of 10 candidates, totalling 300 fits\n"
          ],
          "name": "stdout"
        },
        {
          "output_type": "stream",
          "text": [
            "[Parallel(n_jobs=-1)]: Using backend LokyBackend with 2 concurrent workers.\n"
          ],
          "name": "stderr"
        }
      ]
    },
    {
      "cell_type": "code",
      "metadata": {
        "id": "sw9nah1OfYsH"
      },
      "source": [
        "target_b_params = hyperparameter_opt(train_data.drop(['Moons'], axis=1), train_targets.target_b)"
      ],
      "execution_count": null,
      "outputs": []
    },
    {
      "cell_type": "markdown",
      "metadata": {
        "id": "ThXEtpTCDgki"
      },
      "source": [
        "# 4 - Modelling"
      ]
    },
    {
      "cell_type": "code",
      "metadata": {
        "id": "30s41aYKkE5P"
      },
      "source": [
        "def xg_boost_hackathon(data, target):\n",
        "    X, y = data, target\n",
        "    X_train, X_test, y_train, y_test = train_test_split(X, y, test_size=0.1, shuffle=True)\n",
        "    model = xgb.XGBRegressor(objective='reg:linear', subsample = 0.5, n_estimators = 450,\n",
        "                             min_child_weight = 1, max_depth = 5, learning_rate = 0.01, colsample_bytree = 0.7)\n",
        "    model.fit(X_train, y_train,\n",
        "              eval_set = [(X_train, y_train),\n",
        "                          (X_test, y_test)],\n",
        "               eval_metric='rmse', \n",
        "              early_stopping_rounds=5)\n",
        "    pred = model.predict(X_test)\n",
        "    scorer(y_test, pred)\n",
        "\n",
        "    return model"
      ],
      "execution_count": 36,
      "outputs": []
    },
    {
      "cell_type": "code",
      "metadata": {
        "id": "A6MiyNq73oS6"
      },
      "source": [
        "def scorer(y_test, y_pred):\n",
        "    score = (stats.spearmanr(y_test, y_pred)*100)[0]\n",
        "    print('Score as calculated for the leader board (っಠ‿ಠ)っ {}'.format(score))"
      ],
      "execution_count": 37,
      "outputs": []
    },
    {
      "cell_type": "markdown",
      "metadata": {
        "id": "bIN2mrYtlXRp"
      },
      "source": [
        "# Train your Models on targets\n",
        "\n",
        "You can submit continious target if you want"
      ]
    },
    {
      "cell_type": "code",
      "metadata": {
        "id": "N-FDauajpOk6",
        "colab": {
          "base_uri": "https://localhost:8080/"
        },
        "outputId": "e02ba16f-d061-4485-9024-fb9b1ef3b828"
      },
      "source": [
        "# Making prediction for target r\n",
        "model_target_r = xg_boost_hackathon(train_data, train_targets.target_r)"
      ],
      "execution_count": 38,
      "outputs": [
        {
          "output_type": "stream",
          "text": [
            "[15:30:34] WARNING: /workspace/src/objective/regression_obj.cu:152: reg:linear is now deprecated in favor of reg:squarederror.\n",
            "[0]\tvalidation_0-rmse:0.353349\tvalidation_1-rmse:0.354722\n",
            "Multiple eval metrics have been passed: 'validation_1-rmse' will be used for early stopping.\n",
            "\n",
            "Will train until validation_1-rmse hasn't improved in 5 rounds.\n",
            "[1]\tvalidation_0-rmse:0.353252\tvalidation_1-rmse:0.354659\n",
            "[2]\tvalidation_0-rmse:0.353144\tvalidation_1-rmse:0.354619\n",
            "[3]\tvalidation_0-rmse:0.353072\tvalidation_1-rmse:0.35459\n",
            "[4]\tvalidation_0-rmse:0.353005\tvalidation_1-rmse:0.354556\n",
            "[5]\tvalidation_0-rmse:0.352924\tvalidation_1-rmse:0.354516\n",
            "[6]\tvalidation_0-rmse:0.352838\tvalidation_1-rmse:0.354464\n",
            "[7]\tvalidation_0-rmse:0.352756\tvalidation_1-rmse:0.354464\n",
            "[8]\tvalidation_0-rmse:0.352678\tvalidation_1-rmse:0.354426\n",
            "[9]\tvalidation_0-rmse:0.352612\tvalidation_1-rmse:0.354407\n",
            "[10]\tvalidation_0-rmse:0.35255\tvalidation_1-rmse:0.354353\n",
            "[11]\tvalidation_0-rmse:0.352459\tvalidation_1-rmse:0.354336\n",
            "[12]\tvalidation_0-rmse:0.352386\tvalidation_1-rmse:0.35429\n",
            "[13]\tvalidation_0-rmse:0.352301\tvalidation_1-rmse:0.354262\n",
            "[14]\tvalidation_0-rmse:0.352205\tvalidation_1-rmse:0.354255\n",
            "[15]\tvalidation_0-rmse:0.352139\tvalidation_1-rmse:0.354231\n",
            "[16]\tvalidation_0-rmse:0.352063\tvalidation_1-rmse:0.354179\n",
            "[17]\tvalidation_0-rmse:0.352012\tvalidation_1-rmse:0.354178\n",
            "[18]\tvalidation_0-rmse:0.351934\tvalidation_1-rmse:0.354152\n",
            "[19]\tvalidation_0-rmse:0.351848\tvalidation_1-rmse:0.354173\n",
            "[20]\tvalidation_0-rmse:0.35178\tvalidation_1-rmse:0.354166\n",
            "[21]\tvalidation_0-rmse:0.35168\tvalidation_1-rmse:0.354153\n",
            "[22]\tvalidation_0-rmse:0.351588\tvalidation_1-rmse:0.354142\n",
            "[23]\tvalidation_0-rmse:0.351522\tvalidation_1-rmse:0.354144\n",
            "[24]\tvalidation_0-rmse:0.351418\tvalidation_1-rmse:0.354137\n",
            "[25]\tvalidation_0-rmse:0.351348\tvalidation_1-rmse:0.354137\n",
            "[26]\tvalidation_0-rmse:0.351286\tvalidation_1-rmse:0.354151\n",
            "[27]\tvalidation_0-rmse:0.351212\tvalidation_1-rmse:0.35414\n",
            "[28]\tvalidation_0-rmse:0.351119\tvalidation_1-rmse:0.354131\n",
            "[29]\tvalidation_0-rmse:0.351043\tvalidation_1-rmse:0.354132\n",
            "[30]\tvalidation_0-rmse:0.350981\tvalidation_1-rmse:0.354141\n",
            "[31]\tvalidation_0-rmse:0.350921\tvalidation_1-rmse:0.354109\n",
            "[32]\tvalidation_0-rmse:0.350842\tvalidation_1-rmse:0.354134\n",
            "[33]\tvalidation_0-rmse:0.350754\tvalidation_1-rmse:0.354131\n",
            "[34]\tvalidation_0-rmse:0.350676\tvalidation_1-rmse:0.3541\n",
            "[35]\tvalidation_0-rmse:0.350606\tvalidation_1-rmse:0.354107\n",
            "[36]\tvalidation_0-rmse:0.350533\tvalidation_1-rmse:0.354152\n",
            "[37]\tvalidation_0-rmse:0.350459\tvalidation_1-rmse:0.354098\n",
            "[38]\tvalidation_0-rmse:0.350383\tvalidation_1-rmse:0.354148\n",
            "[39]\tvalidation_0-rmse:0.350321\tvalidation_1-rmse:0.354143\n",
            "[40]\tvalidation_0-rmse:0.350249\tvalidation_1-rmse:0.354166\n",
            "[41]\tvalidation_0-rmse:0.350181\tvalidation_1-rmse:0.35412\n",
            "[42]\tvalidation_0-rmse:0.350114\tvalidation_1-rmse:0.354118\n",
            "Stopping. Best iteration:\n",
            "[37]\tvalidation_0-rmse:0.350459\tvalidation_1-rmse:0.354098\n",
            "\n",
            "Score as calculated for the leader board (っಠ‿ಠ)っ 0.07466246303167445\n"
          ],
          "name": "stdout"
        }
      ]
    },
    {
      "cell_type": "code",
      "metadata": {
        "colab": {
          "base_uri": "https://localhost:8080/"
        },
        "id": "YNsACUYwkflu",
        "outputId": "a1ba6606-8f43-439f-b1c5-27d0c5987274"
      },
      "source": [
        "# Making prediction for target g\n",
        "model_target_g = xg_boost_hackathon(train_data, train_targets.target_g)"
      ],
      "execution_count": 39,
      "outputs": [
        {
          "output_type": "stream",
          "text": [
            "[15:30:35] WARNING: /workspace/src/objective/regression_obj.cu:152: reg:linear is now deprecated in favor of reg:squarederror.\n",
            "[0]\tvalidation_0-rmse:0.352524\tvalidation_1-rmse:0.361916\n",
            "Multiple eval metrics have been passed: 'validation_1-rmse' will be used for early stopping.\n",
            "\n",
            "Will train until validation_1-rmse hasn't improved in 5 rounds.\n",
            "[1]\tvalidation_0-rmse:0.35241\tvalidation_1-rmse:0.361836\n",
            "[2]\tvalidation_0-rmse:0.352293\tvalidation_1-rmse:0.361773\n",
            "[3]\tvalidation_0-rmse:0.352173\tvalidation_1-rmse:0.361697\n",
            "[4]\tvalidation_0-rmse:0.35205\tvalidation_1-rmse:0.361653\n",
            "[5]\tvalidation_0-rmse:0.351936\tvalidation_1-rmse:0.36161\n",
            "[6]\tvalidation_0-rmse:0.351845\tvalidation_1-rmse:0.361565\n",
            "[7]\tvalidation_0-rmse:0.351727\tvalidation_1-rmse:0.361505\n",
            "[8]\tvalidation_0-rmse:0.351603\tvalidation_1-rmse:0.361444\n",
            "[9]\tvalidation_0-rmse:0.351499\tvalidation_1-rmse:0.361387\n",
            "[10]\tvalidation_0-rmse:0.351413\tvalidation_1-rmse:0.361355\n",
            "[11]\tvalidation_0-rmse:0.351293\tvalidation_1-rmse:0.361311\n",
            "[12]\tvalidation_0-rmse:0.351183\tvalidation_1-rmse:0.361269\n",
            "[13]\tvalidation_0-rmse:0.351076\tvalidation_1-rmse:0.361241\n",
            "[14]\tvalidation_0-rmse:0.350967\tvalidation_1-rmse:0.361204\n",
            "[15]\tvalidation_0-rmse:0.350861\tvalidation_1-rmse:0.361163\n",
            "[16]\tvalidation_0-rmse:0.350752\tvalidation_1-rmse:0.361104\n",
            "[17]\tvalidation_0-rmse:0.350659\tvalidation_1-rmse:0.361097\n",
            "[18]\tvalidation_0-rmse:0.350554\tvalidation_1-rmse:0.361054\n",
            "[19]\tvalidation_0-rmse:0.350472\tvalidation_1-rmse:0.361071\n",
            "[20]\tvalidation_0-rmse:0.350384\tvalidation_1-rmse:0.361032\n",
            "[21]\tvalidation_0-rmse:0.350279\tvalidation_1-rmse:0.360997\n",
            "[22]\tvalidation_0-rmse:0.350152\tvalidation_1-rmse:0.360958\n",
            "[23]\tvalidation_0-rmse:0.350043\tvalidation_1-rmse:0.360919\n",
            "[24]\tvalidation_0-rmse:0.349953\tvalidation_1-rmse:0.360868\n",
            "[25]\tvalidation_0-rmse:0.349848\tvalidation_1-rmse:0.360828\n",
            "[26]\tvalidation_0-rmse:0.349733\tvalidation_1-rmse:0.360801\n",
            "[27]\tvalidation_0-rmse:0.349638\tvalidation_1-rmse:0.360786\n",
            "[28]\tvalidation_0-rmse:0.349544\tvalidation_1-rmse:0.360732\n",
            "[29]\tvalidation_0-rmse:0.349444\tvalidation_1-rmse:0.360705\n",
            "[30]\tvalidation_0-rmse:0.349346\tvalidation_1-rmse:0.360672\n",
            "[31]\tvalidation_0-rmse:0.349253\tvalidation_1-rmse:0.360688\n",
            "[32]\tvalidation_0-rmse:0.349155\tvalidation_1-rmse:0.360635\n",
            "[33]\tvalidation_0-rmse:0.349067\tvalidation_1-rmse:0.360607\n",
            "[34]\tvalidation_0-rmse:0.348984\tvalidation_1-rmse:0.360512\n",
            "[35]\tvalidation_0-rmse:0.348899\tvalidation_1-rmse:0.360502\n",
            "[36]\tvalidation_0-rmse:0.348815\tvalidation_1-rmse:0.360477\n",
            "[37]\tvalidation_0-rmse:0.348721\tvalidation_1-rmse:0.3605\n",
            "[38]\tvalidation_0-rmse:0.348637\tvalidation_1-rmse:0.36048\n",
            "[39]\tvalidation_0-rmse:0.348546\tvalidation_1-rmse:0.360456\n",
            "[40]\tvalidation_0-rmse:0.34846\tvalidation_1-rmse:0.360432\n",
            "[41]\tvalidation_0-rmse:0.348367\tvalidation_1-rmse:0.360438\n",
            "[42]\tvalidation_0-rmse:0.348267\tvalidation_1-rmse:0.36039\n",
            "[43]\tvalidation_0-rmse:0.348179\tvalidation_1-rmse:0.360394\n",
            "[44]\tvalidation_0-rmse:0.348089\tvalidation_1-rmse:0.360396\n",
            "[45]\tvalidation_0-rmse:0.348008\tvalidation_1-rmse:0.360363\n",
            "[46]\tvalidation_0-rmse:0.347925\tvalidation_1-rmse:0.360347\n",
            "[47]\tvalidation_0-rmse:0.347836\tvalidation_1-rmse:0.360353\n",
            "[48]\tvalidation_0-rmse:0.347755\tvalidation_1-rmse:0.360299\n",
            "[49]\tvalidation_0-rmse:0.347686\tvalidation_1-rmse:0.360264\n",
            "[50]\tvalidation_0-rmse:0.347591\tvalidation_1-rmse:0.360253\n",
            "[51]\tvalidation_0-rmse:0.347492\tvalidation_1-rmse:0.360272\n",
            "[52]\tvalidation_0-rmse:0.347412\tvalidation_1-rmse:0.360264\n",
            "[53]\tvalidation_0-rmse:0.347339\tvalidation_1-rmse:0.360224\n",
            "[54]\tvalidation_0-rmse:0.347272\tvalidation_1-rmse:0.360182\n",
            "[55]\tvalidation_0-rmse:0.347185\tvalidation_1-rmse:0.360113\n",
            "[56]\tvalidation_0-rmse:0.347094\tvalidation_1-rmse:0.360116\n",
            "[57]\tvalidation_0-rmse:0.347013\tvalidation_1-rmse:0.360117\n",
            "[58]\tvalidation_0-rmse:0.346936\tvalidation_1-rmse:0.36011\n",
            "[59]\tvalidation_0-rmse:0.346871\tvalidation_1-rmse:0.360105\n",
            "[60]\tvalidation_0-rmse:0.346794\tvalidation_1-rmse:0.360058\n",
            "[61]\tvalidation_0-rmse:0.346709\tvalidation_1-rmse:0.360089\n",
            "[62]\tvalidation_0-rmse:0.346626\tvalidation_1-rmse:0.360038\n",
            "[63]\tvalidation_0-rmse:0.346552\tvalidation_1-rmse:0.360001\n",
            "[64]\tvalidation_0-rmse:0.346471\tvalidation_1-rmse:0.359956\n",
            "[65]\tvalidation_0-rmse:0.34639\tvalidation_1-rmse:0.359934\n",
            "[66]\tvalidation_0-rmse:0.346308\tvalidation_1-rmse:0.359895\n",
            "[67]\tvalidation_0-rmse:0.346226\tvalidation_1-rmse:0.359898\n",
            "[68]\tvalidation_0-rmse:0.34614\tvalidation_1-rmse:0.359847\n",
            "[69]\tvalidation_0-rmse:0.346072\tvalidation_1-rmse:0.359869\n",
            "[70]\tvalidation_0-rmse:0.346008\tvalidation_1-rmse:0.359824\n",
            "[71]\tvalidation_0-rmse:0.345935\tvalidation_1-rmse:0.359824\n",
            "[72]\tvalidation_0-rmse:0.345843\tvalidation_1-rmse:0.35982\n",
            "[73]\tvalidation_0-rmse:0.345752\tvalidation_1-rmse:0.359826\n",
            "[74]\tvalidation_0-rmse:0.34567\tvalidation_1-rmse:0.359842\n",
            "[75]\tvalidation_0-rmse:0.345594\tvalidation_1-rmse:0.359794\n",
            "[76]\tvalidation_0-rmse:0.345519\tvalidation_1-rmse:0.359752\n",
            "[77]\tvalidation_0-rmse:0.345451\tvalidation_1-rmse:0.35977\n",
            "[78]\tvalidation_0-rmse:0.345387\tvalidation_1-rmse:0.359785\n",
            "[79]\tvalidation_0-rmse:0.345312\tvalidation_1-rmse:0.359782\n",
            "[80]\tvalidation_0-rmse:0.345232\tvalidation_1-rmse:0.359752\n",
            "[81]\tvalidation_0-rmse:0.345149\tvalidation_1-rmse:0.359707\n",
            "[82]\tvalidation_0-rmse:0.345075\tvalidation_1-rmse:0.359711\n",
            "[83]\tvalidation_0-rmse:0.34499\tvalidation_1-rmse:0.359674\n",
            "[84]\tvalidation_0-rmse:0.34493\tvalidation_1-rmse:0.359667\n",
            "[85]\tvalidation_0-rmse:0.344871\tvalidation_1-rmse:0.359627\n",
            "[86]\tvalidation_0-rmse:0.344796\tvalidation_1-rmse:0.359706\n",
            "[87]\tvalidation_0-rmse:0.344733\tvalidation_1-rmse:0.359725\n",
            "[88]\tvalidation_0-rmse:0.344672\tvalidation_1-rmse:0.359725\n",
            "[89]\tvalidation_0-rmse:0.344611\tvalidation_1-rmse:0.359754\n",
            "[90]\tvalidation_0-rmse:0.344527\tvalidation_1-rmse:0.359735\n",
            "Stopping. Best iteration:\n",
            "[85]\tvalidation_0-rmse:0.344871\tvalidation_1-rmse:0.359627\n",
            "\n",
            "Score as calculated for the leader board (っಠ‿ಠ)っ 0.12332655000946549\n"
          ],
          "name": "stdout"
        }
      ]
    },
    {
      "cell_type": "code",
      "metadata": {
        "colab": {
          "base_uri": "https://localhost:8080/"
        },
        "id": "fPba6XMIkhlw",
        "outputId": "92937bbf-53ca-4bbf-c55e-2733d3363837"
      },
      "source": [
        "# Making prediction for target b\n",
        "model_target_b = xg_boost_hackathon(train_data, train_targets.target_b)"
      ],
      "execution_count": 40,
      "outputs": [
        {
          "output_type": "stream",
          "text": [
            "[15:30:35] WARNING: /workspace/src/objective/regression_obj.cu:152: reg:linear is now deprecated in favor of reg:squarederror.\n",
            "[0]\tvalidation_0-rmse:0.352896\tvalidation_1-rmse:0.358718\n",
            "Multiple eval metrics have been passed: 'validation_1-rmse' will be used for early stopping.\n",
            "\n",
            "Will train until validation_1-rmse hasn't improved in 5 rounds.\n",
            "[1]\tvalidation_0-rmse:0.352779\tvalidation_1-rmse:0.358591\n",
            "[2]\tvalidation_0-rmse:0.352624\tvalidation_1-rmse:0.358482\n",
            "[3]\tvalidation_0-rmse:0.352496\tvalidation_1-rmse:0.358425\n",
            "[4]\tvalidation_0-rmse:0.35238\tvalidation_1-rmse:0.358331\n",
            "[5]\tvalidation_0-rmse:0.352233\tvalidation_1-rmse:0.358241\n",
            "[6]\tvalidation_0-rmse:0.352165\tvalidation_1-rmse:0.358216\n",
            "[7]\tvalidation_0-rmse:0.352039\tvalidation_1-rmse:0.358094\n",
            "[8]\tvalidation_0-rmse:0.351904\tvalidation_1-rmse:0.358012\n",
            "[9]\tvalidation_0-rmse:0.351794\tvalidation_1-rmse:0.357936\n",
            "[10]\tvalidation_0-rmse:0.351686\tvalidation_1-rmse:0.357893\n",
            "[11]\tvalidation_0-rmse:0.351572\tvalidation_1-rmse:0.357811\n",
            "[12]\tvalidation_0-rmse:0.351452\tvalidation_1-rmse:0.357724\n",
            "[13]\tvalidation_0-rmse:0.351314\tvalidation_1-rmse:0.357618\n",
            "[14]\tvalidation_0-rmse:0.351197\tvalidation_1-rmse:0.357546\n",
            "[15]\tvalidation_0-rmse:0.351064\tvalidation_1-rmse:0.357442\n",
            "[16]\tvalidation_0-rmse:0.350963\tvalidation_1-rmse:0.357355\n",
            "[17]\tvalidation_0-rmse:0.350856\tvalidation_1-rmse:0.357263\n",
            "[18]\tvalidation_0-rmse:0.35075\tvalidation_1-rmse:0.357177\n",
            "[19]\tvalidation_0-rmse:0.350647\tvalidation_1-rmse:0.35711\n",
            "[20]\tvalidation_0-rmse:0.350561\tvalidation_1-rmse:0.357012\n",
            "[21]\tvalidation_0-rmse:0.350452\tvalidation_1-rmse:0.356951\n",
            "[22]\tvalidation_0-rmse:0.350334\tvalidation_1-rmse:0.35685\n",
            "[23]\tvalidation_0-rmse:0.350226\tvalidation_1-rmse:0.356775\n",
            "[24]\tvalidation_0-rmse:0.350109\tvalidation_1-rmse:0.356642\n",
            "[25]\tvalidation_0-rmse:0.349999\tvalidation_1-rmse:0.356549\n",
            "[26]\tvalidation_0-rmse:0.349889\tvalidation_1-rmse:0.356473\n",
            "[27]\tvalidation_0-rmse:0.349775\tvalidation_1-rmse:0.356439\n",
            "[28]\tvalidation_0-rmse:0.349668\tvalidation_1-rmse:0.356348\n",
            "[29]\tvalidation_0-rmse:0.349565\tvalidation_1-rmse:0.356268\n",
            "[30]\tvalidation_0-rmse:0.349486\tvalidation_1-rmse:0.356174\n",
            "[31]\tvalidation_0-rmse:0.349389\tvalidation_1-rmse:0.356144\n",
            "[32]\tvalidation_0-rmse:0.349263\tvalidation_1-rmse:0.356025\n",
            "[33]\tvalidation_0-rmse:0.349148\tvalidation_1-rmse:0.355944\n",
            "[34]\tvalidation_0-rmse:0.349032\tvalidation_1-rmse:0.355874\n",
            "[35]\tvalidation_0-rmse:0.348927\tvalidation_1-rmse:0.355837\n",
            "[36]\tvalidation_0-rmse:0.348857\tvalidation_1-rmse:0.355841\n",
            "[37]\tvalidation_0-rmse:0.348772\tvalidation_1-rmse:0.35577\n",
            "[38]\tvalidation_0-rmse:0.348694\tvalidation_1-rmse:0.355697\n",
            "[39]\tvalidation_0-rmse:0.348603\tvalidation_1-rmse:0.355657\n",
            "[40]\tvalidation_0-rmse:0.348485\tvalidation_1-rmse:0.355597\n",
            "[41]\tvalidation_0-rmse:0.348394\tvalidation_1-rmse:0.355549\n",
            "[42]\tvalidation_0-rmse:0.348285\tvalidation_1-rmse:0.355484\n",
            "[43]\tvalidation_0-rmse:0.348177\tvalidation_1-rmse:0.355413\n",
            "[44]\tvalidation_0-rmse:0.348081\tvalidation_1-rmse:0.355372\n",
            "[45]\tvalidation_0-rmse:0.347996\tvalidation_1-rmse:0.355293\n",
            "[46]\tvalidation_0-rmse:0.34791\tvalidation_1-rmse:0.355228\n",
            "[47]\tvalidation_0-rmse:0.347826\tvalidation_1-rmse:0.355179\n",
            "[48]\tvalidation_0-rmse:0.347734\tvalidation_1-rmse:0.355173\n",
            "[49]\tvalidation_0-rmse:0.347647\tvalidation_1-rmse:0.355143\n",
            "[50]\tvalidation_0-rmse:0.347562\tvalidation_1-rmse:0.355087\n",
            "[51]\tvalidation_0-rmse:0.34747\tvalidation_1-rmse:0.35502\n",
            "[52]\tvalidation_0-rmse:0.34739\tvalidation_1-rmse:0.355003\n",
            "[53]\tvalidation_0-rmse:0.347305\tvalidation_1-rmse:0.354948\n",
            "[54]\tvalidation_0-rmse:0.34723\tvalidation_1-rmse:0.354929\n",
            "[55]\tvalidation_0-rmse:0.347135\tvalidation_1-rmse:0.354883\n",
            "[56]\tvalidation_0-rmse:0.347039\tvalidation_1-rmse:0.354853\n",
            "[57]\tvalidation_0-rmse:0.346964\tvalidation_1-rmse:0.354821\n",
            "[58]\tvalidation_0-rmse:0.346889\tvalidation_1-rmse:0.354769\n",
            "[59]\tvalidation_0-rmse:0.34681\tvalidation_1-rmse:0.35473\n",
            "[60]\tvalidation_0-rmse:0.34673\tvalidation_1-rmse:0.354692\n",
            "[61]\tvalidation_0-rmse:0.346648\tvalidation_1-rmse:0.354672\n",
            "[62]\tvalidation_0-rmse:0.346557\tvalidation_1-rmse:0.35463\n",
            "[63]\tvalidation_0-rmse:0.346475\tvalidation_1-rmse:0.354569\n",
            "[64]\tvalidation_0-rmse:0.346407\tvalidation_1-rmse:0.354502\n",
            "[65]\tvalidation_0-rmse:0.346311\tvalidation_1-rmse:0.354393\n",
            "[66]\tvalidation_0-rmse:0.346238\tvalidation_1-rmse:0.354338\n",
            "[67]\tvalidation_0-rmse:0.346158\tvalidation_1-rmse:0.354304\n",
            "[68]\tvalidation_0-rmse:0.346072\tvalidation_1-rmse:0.354313\n",
            "[69]\tvalidation_0-rmse:0.345983\tvalidation_1-rmse:0.354262\n",
            "[70]\tvalidation_0-rmse:0.345901\tvalidation_1-rmse:0.354202\n",
            "[71]\tvalidation_0-rmse:0.345823\tvalidation_1-rmse:0.354176\n",
            "[72]\tvalidation_0-rmse:0.345754\tvalidation_1-rmse:0.354133\n",
            "[73]\tvalidation_0-rmse:0.345676\tvalidation_1-rmse:0.354094\n",
            "[74]\tvalidation_0-rmse:0.345589\tvalidation_1-rmse:0.354066\n",
            "[75]\tvalidation_0-rmse:0.345506\tvalidation_1-rmse:0.354036\n",
            "[76]\tvalidation_0-rmse:0.34544\tvalidation_1-rmse:0.353964\n",
            "[77]\tvalidation_0-rmse:0.345359\tvalidation_1-rmse:0.353931\n",
            "[78]\tvalidation_0-rmse:0.345292\tvalidation_1-rmse:0.35389\n",
            "[79]\tvalidation_0-rmse:0.345227\tvalidation_1-rmse:0.353865\n",
            "[80]\tvalidation_0-rmse:0.345139\tvalidation_1-rmse:0.353846\n",
            "[81]\tvalidation_0-rmse:0.345064\tvalidation_1-rmse:0.353836\n",
            "[82]\tvalidation_0-rmse:0.345005\tvalidation_1-rmse:0.353827\n",
            "[83]\tvalidation_0-rmse:0.344934\tvalidation_1-rmse:0.353734\n",
            "[84]\tvalidation_0-rmse:0.344867\tvalidation_1-rmse:0.353717\n",
            "[85]\tvalidation_0-rmse:0.344792\tvalidation_1-rmse:0.353668\n",
            "[86]\tvalidation_0-rmse:0.344722\tvalidation_1-rmse:0.353655\n",
            "[87]\tvalidation_0-rmse:0.344663\tvalidation_1-rmse:0.353597\n",
            "[88]\tvalidation_0-rmse:0.344582\tvalidation_1-rmse:0.353546\n",
            "[89]\tvalidation_0-rmse:0.34449\tvalidation_1-rmse:0.353476\n",
            "[90]\tvalidation_0-rmse:0.344421\tvalidation_1-rmse:0.353467\n",
            "[91]\tvalidation_0-rmse:0.344362\tvalidation_1-rmse:0.353457\n",
            "[92]\tvalidation_0-rmse:0.344292\tvalidation_1-rmse:0.353403\n",
            "[93]\tvalidation_0-rmse:0.344231\tvalidation_1-rmse:0.353366\n",
            "[94]\tvalidation_0-rmse:0.344161\tvalidation_1-rmse:0.353315\n",
            "[95]\tvalidation_0-rmse:0.344107\tvalidation_1-rmse:0.353322\n",
            "[96]\tvalidation_0-rmse:0.344033\tvalidation_1-rmse:0.353346\n",
            "[97]\tvalidation_0-rmse:0.343965\tvalidation_1-rmse:0.353306\n",
            "[98]\tvalidation_0-rmse:0.34389\tvalidation_1-rmse:0.353212\n",
            "[99]\tvalidation_0-rmse:0.343831\tvalidation_1-rmse:0.353165\n",
            "[100]\tvalidation_0-rmse:0.34375\tvalidation_1-rmse:0.353097\n",
            "[101]\tvalidation_0-rmse:0.343685\tvalidation_1-rmse:0.353029\n",
            "[102]\tvalidation_0-rmse:0.343626\tvalidation_1-rmse:0.352961\n",
            "[103]\tvalidation_0-rmse:0.343576\tvalidation_1-rmse:0.35292\n",
            "[104]\tvalidation_0-rmse:0.343517\tvalidation_1-rmse:0.352852\n",
            "[105]\tvalidation_0-rmse:0.343453\tvalidation_1-rmse:0.352827\n",
            "[106]\tvalidation_0-rmse:0.343397\tvalidation_1-rmse:0.352812\n",
            "[107]\tvalidation_0-rmse:0.343328\tvalidation_1-rmse:0.352778\n",
            "[108]\tvalidation_0-rmse:0.343267\tvalidation_1-rmse:0.352739\n",
            "[109]\tvalidation_0-rmse:0.343206\tvalidation_1-rmse:0.352744\n",
            "[110]\tvalidation_0-rmse:0.343147\tvalidation_1-rmse:0.352706\n",
            "[111]\tvalidation_0-rmse:0.343084\tvalidation_1-rmse:0.352707\n",
            "[112]\tvalidation_0-rmse:0.343007\tvalidation_1-rmse:0.352688\n",
            "[113]\tvalidation_0-rmse:0.342945\tvalidation_1-rmse:0.352696\n",
            "[114]\tvalidation_0-rmse:0.342884\tvalidation_1-rmse:0.352647\n",
            "[115]\tvalidation_0-rmse:0.342801\tvalidation_1-rmse:0.352628\n",
            "[116]\tvalidation_0-rmse:0.342743\tvalidation_1-rmse:0.352562\n",
            "[117]\tvalidation_0-rmse:0.342697\tvalidation_1-rmse:0.352554\n",
            "[118]\tvalidation_0-rmse:0.342617\tvalidation_1-rmse:0.352525\n",
            "[119]\tvalidation_0-rmse:0.342564\tvalidation_1-rmse:0.352491\n",
            "[120]\tvalidation_0-rmse:0.342501\tvalidation_1-rmse:0.35245\n",
            "[121]\tvalidation_0-rmse:0.342442\tvalidation_1-rmse:0.352478\n",
            "[122]\tvalidation_0-rmse:0.342385\tvalidation_1-rmse:0.352413\n",
            "[123]\tvalidation_0-rmse:0.342326\tvalidation_1-rmse:0.352406\n",
            "[124]\tvalidation_0-rmse:0.34227\tvalidation_1-rmse:0.3524\n",
            "[125]\tvalidation_0-rmse:0.342211\tvalidation_1-rmse:0.352339\n",
            "[126]\tvalidation_0-rmse:0.342149\tvalidation_1-rmse:0.352357\n",
            "[127]\tvalidation_0-rmse:0.342097\tvalidation_1-rmse:0.352318\n",
            "[128]\tvalidation_0-rmse:0.342049\tvalidation_1-rmse:0.352318\n",
            "[129]\tvalidation_0-rmse:0.341997\tvalidation_1-rmse:0.352316\n",
            "[130]\tvalidation_0-rmse:0.341937\tvalidation_1-rmse:0.352287\n",
            "[131]\tvalidation_0-rmse:0.341871\tvalidation_1-rmse:0.352228\n",
            "[132]\tvalidation_0-rmse:0.341813\tvalidation_1-rmse:0.352232\n",
            "[133]\tvalidation_0-rmse:0.341758\tvalidation_1-rmse:0.35219\n",
            "[134]\tvalidation_0-rmse:0.341715\tvalidation_1-rmse:0.352161\n",
            "[135]\tvalidation_0-rmse:0.341659\tvalidation_1-rmse:0.352159\n",
            "[136]\tvalidation_0-rmse:0.341602\tvalidation_1-rmse:0.352126\n",
            "[137]\tvalidation_0-rmse:0.341541\tvalidation_1-rmse:0.352172\n",
            "[138]\tvalidation_0-rmse:0.341485\tvalidation_1-rmse:0.352153\n",
            "[139]\tvalidation_0-rmse:0.341422\tvalidation_1-rmse:0.352115\n",
            "[140]\tvalidation_0-rmse:0.341376\tvalidation_1-rmse:0.352118\n",
            "[141]\tvalidation_0-rmse:0.341309\tvalidation_1-rmse:0.352126\n",
            "[142]\tvalidation_0-rmse:0.341252\tvalidation_1-rmse:0.352117\n",
            "[143]\tvalidation_0-rmse:0.341185\tvalidation_1-rmse:0.352104\n",
            "[144]\tvalidation_0-rmse:0.341121\tvalidation_1-rmse:0.352084\n",
            "[145]\tvalidation_0-rmse:0.341066\tvalidation_1-rmse:0.352069\n",
            "[146]\tvalidation_0-rmse:0.341007\tvalidation_1-rmse:0.352045\n",
            "[147]\tvalidation_0-rmse:0.340951\tvalidation_1-rmse:0.352011\n",
            "[148]\tvalidation_0-rmse:0.340892\tvalidation_1-rmse:0.35196\n",
            "[149]\tvalidation_0-rmse:0.340841\tvalidation_1-rmse:0.351929\n",
            "[150]\tvalidation_0-rmse:0.340794\tvalidation_1-rmse:0.351889\n",
            "[151]\tvalidation_0-rmse:0.340736\tvalidation_1-rmse:0.351868\n",
            "[152]\tvalidation_0-rmse:0.340673\tvalidation_1-rmse:0.351847\n",
            "[153]\tvalidation_0-rmse:0.340626\tvalidation_1-rmse:0.351866\n",
            "[154]\tvalidation_0-rmse:0.340585\tvalidation_1-rmse:0.351872\n",
            "[155]\tvalidation_0-rmse:0.340525\tvalidation_1-rmse:0.351872\n",
            "[156]\tvalidation_0-rmse:0.340462\tvalidation_1-rmse:0.351835\n",
            "[157]\tvalidation_0-rmse:0.340407\tvalidation_1-rmse:0.35183\n",
            "[158]\tvalidation_0-rmse:0.340357\tvalidation_1-rmse:0.351816\n",
            "[159]\tvalidation_0-rmse:0.340293\tvalidation_1-rmse:0.351832\n",
            "[160]\tvalidation_0-rmse:0.340243\tvalidation_1-rmse:0.35178\n",
            "[161]\tvalidation_0-rmse:0.340203\tvalidation_1-rmse:0.351798\n",
            "[162]\tvalidation_0-rmse:0.340142\tvalidation_1-rmse:0.351765\n",
            "[163]\tvalidation_0-rmse:0.340083\tvalidation_1-rmse:0.351733\n",
            "[164]\tvalidation_0-rmse:0.340029\tvalidation_1-rmse:0.351704\n",
            "[165]\tvalidation_0-rmse:0.339973\tvalidation_1-rmse:0.351692\n",
            "[166]\tvalidation_0-rmse:0.339911\tvalidation_1-rmse:0.351681\n",
            "[167]\tvalidation_0-rmse:0.339863\tvalidation_1-rmse:0.351712\n",
            "[168]\tvalidation_0-rmse:0.339805\tvalidation_1-rmse:0.351727\n",
            "[169]\tvalidation_0-rmse:0.339742\tvalidation_1-rmse:0.351714\n",
            "[170]\tvalidation_0-rmse:0.339692\tvalidation_1-rmse:0.35172\n",
            "[171]\tvalidation_0-rmse:0.339636\tvalidation_1-rmse:0.351678\n",
            "[172]\tvalidation_0-rmse:0.339594\tvalidation_1-rmse:0.35168\n",
            "[173]\tvalidation_0-rmse:0.339527\tvalidation_1-rmse:0.351697\n",
            "[174]\tvalidation_0-rmse:0.339462\tvalidation_1-rmse:0.351717\n",
            "[175]\tvalidation_0-rmse:0.339406\tvalidation_1-rmse:0.351704\n",
            "[176]\tvalidation_0-rmse:0.339354\tvalidation_1-rmse:0.351707\n",
            "Stopping. Best iteration:\n",
            "[171]\tvalidation_0-rmse:0.339636\tvalidation_1-rmse:0.351678\n",
            "\n",
            "Score as calculated for the leader board (っಠ‿ಠ)っ 0.19545398488411767\n"
          ],
          "name": "stdout"
        }
      ]
    },
    {
      "cell_type": "code",
      "metadata": {
        "colab": {
          "base_uri": "https://localhost:8080/",
          "height": 281
        },
        "id": "54Gzy9AXsRX4",
        "outputId": "90fc7253-310c-4e72-b27c-414197e52155"
      },
      "source": [
        "results = model_target_r.evals_result()\n",
        "epochs = len(results['validation_0']['rmse'])\n",
        "x_axis = range(0, epochs)\n",
        "fig, ax = plt.subplots()\n",
        "ax.plot(x_axis, results['validation_0']['rmse'], label='Train')\n",
        "ax.plot(x_axis, results['validation_1']['rmse'], label='Test')\n",
        "ax.legend()\n",
        "plt.ylabel('AUC')\n",
        "plt.title('XGBoost RMSE')\n",
        "plt.show()"
      ],
      "execution_count": 41,
      "outputs": [
        {
          "output_type": "display_data",
          "data": {
            "image/png": "[encoded data removed]",
            "text/plain": [
              "<Figure size 432x288 with 1 Axes>"
            ]
          },
          "metadata": {
            "tags": [],
            "needs_background": "light"
          }
        }
      ]
    },
    {
      "cell_type": "markdown",
      "metadata": {
        "id": "bU8yZgBlI9gk"
      },
      "source": [
        "# 5 - Make prediction on the 3 targets\n",
        "\n",
        "When you feel like your model is accurate enough it's time to predict the target and submit your results.\n",
        "\n",
        "Repeat the operation on the three targets, concatenate the answers and submit.\n",
        "\n",
        "**WARNING** 1/ Keep the raw order identical.\n",
        "\n",
        "**WARNING** 2/ Be sure that your columns are named target_r, target-g and\n",
        " target_b.\n",
        "\n",
        "**WARNING** 3/ Your prediction need to be between 0 and 1.\n",
        "\n",
        "**WARNING** 4/ Don't submit constant values."
      ]
    },
    {
      "cell_type": "code",
      "metadata": {
        "id": "PlepVfYArvqX"
      },
      "source": [
        "prediction = pd.DataFrame()\n",
        "prediction['target_r'] = model_target_r.predict(test_data)\n",
        "prediction['target_g'] = model_target_g.predict(test_data)\n",
        "prediction['target_b'] = model_target_b.predict(test_data)"
      ],
      "execution_count": 121,
      "outputs": []
    },
    {
      "cell_type": "markdown",
      "metadata": {
        "id": "EEilx20TJHjj"
      },
      "source": [
        "# 6 - Submit predictions\n",
        "\n",
        "Past <u>your</u> API key here. You received it by email upon subscription and can find it on your leaderboard.\n"
      ]
    },
    {
      "cell_type": "code",
      "metadata": {
        "id": "KcD35qeZhf5S",
        "colab": {
          "base_uri": "https://localhost:8080/"
        },
        "outputId": "8d87706c-ec72-496b-9522-1cb2e8814eb8"
      },
      "source": [
        "API_KEY = \"x54XvYd9cjk7joIwDbCk9egCGai4y51bXapviNdTYyPM0bIdY9Y4OjNpTdmf\" # <- HERE\n",
        "\n",
        "r = requests.post(\"https://tournament.datacrunch.com/api/submission\",\n",
        "    files = {\n",
        "        \"file\": (\"x\", prediction.to_csv().encode('ascii'))\n",
        "    },\n",
        "    data = {\n",
        "        \"apiKey\": API_KEY\n",
        "    },\n",
        ")\n",
        "\n",
        "if r.status_code == 200:\n",
        "    print(\"Submission submitted :)\")\n",
        "elif r.status_code == 423:\n",
        "    print(\"ERR: Submissions are close\")\n",
        "    print(\"You can only submit during rounds eg: Friday 7pm GMT+1 to Sunday midnight GMT+1.\")\n",
        "    print(\"Or the server is currently crunching the submitted files, please wait some time before retrying.\")\n",
        "elif r.status_code == 422:\n",
        "    print(\"ERR: API Key is missing or empty\")\n",
        "    print(\"Did you forget to fill the API_KEY variable?\")\n",
        "elif r.status_code == 404:\n",
        "    print(\"ERR: Unknown API Key\")\n",
        "    print(\"You should check that the provided API key is valid and is the same as the one you've received by email.\")\n",
        "elif r.status_code == 400:\n",
        "    print(\"ERR: The file must not be empty\")\n",
        "    print(\"You have send a empty file.\")\n",
        "elif r.status_code == 401:\n",
        "    print(\"ERR: Your email hasn't been verified\")\n",
        "    print(\"Please verify your email or contact a cruncher.\")\n",
        "elif r.status_code == 429:\n",
        "    print(\"ERR: Too many submissions\")\n",
        "else:\n",
        "    print(\"ERR: Server returned: \" + str(r.status_code))\n",
        "    print(\"Ouch! It seems that we were not expecting this kind of result from the server, if the probleme persist, contact a cruncher.\")"
      ],
      "execution_count": 122,
      "outputs": [
        {
          "output_type": "stream",
          "text": [
            "Submission submitted :)\n"
          ],
          "name": "stdout"
        }
      ]
    },
    {
      "cell_type": "code",
      "metadata": {
        "id": "_d1mSnt4ElAF"
      },
      "source": [
        ""
      ],
      "execution_count": null,
      "outputs": []
    },
    {
      "cell_type": "markdown",
      "metadata": {
        "id": "xA0LfHkMElS-"
      },
      "source": [
        "# Hyperopt tuning"
      ]
    },
    {
      "cell_type": "code",
      "metadata": {
        "id": "RSCDyo5GFGOK"
      },
      "source": [
        "from hyperopt import fmin, tpe, hp, STATUS_OK, Trials, space_eval"
      ],
      "execution_count": 1,
      "outputs": []
    },
    {
      "cell_type": "markdown",
      "metadata": {
        "id": "Vmqzu6UnJL0H"
      },
      "source": [
        "# How to improve your prediction\n",
        "\n"
      ]
    },
    {
      "cell_type": "markdown",
      "metadata": {
        "id": "YNyfNdSaL8Cg"
      },
      "source": [
        "\n",
        "sklearn Docs\n",
        "https://scikit-learn.org/stable/index.html\n",
        "\n",
        "Tuning Tuning the hyper-parameters of an estimator \n",
        "https://scikit-learn.org/stable/modules/grid_search.html\n",
        "\n",
        "Cross Validation (in Python and R) \n",
        "https://www.analyticsvidhya.com/blog/2018/05/improve-model-performance-cross-validation-in-python-r/\n",
        "\n",
        "Possible ways to improve your prediction\n",
        "\n",
        "1- Feature extraction and feature engineering; following methods are possible:\n",
        "\n",
        "    princilpal component analysis (PCA)\n",
        "\n",
        "    linear discriminant analysis (LDA)\n",
        "\n",
        "    selecting best features (KBest)\n",
        "\n",
        "    t-SNE method for feature engineering\n",
        "\n",
        "    feature interactions using PolynomialFeatures\n",
        "\n",
        "2- training multiple individual classifiers; these include:\n",
        "\n",
        "    Keras neural networks\n",
        "\n",
        "    Logistic regression\n",
        "\n",
        "    Support vector machine\n",
        "\n",
        "    Gaussian naive Bayes\n",
        "\n",
        "    Random forrest classifier\n",
        "\n",
        "    Extra trees classifier\n",
        "\n",
        "    Gradient boost classifier\n",
        "\n",
        "    AdaBoost classifier\n",
        "\n",
        "    Bagging classifier\n",
        "\n",
        "    Stochastic gradient descent\n",
        "\n",
        "    K-Nearest neighbors\n",
        "\n",
        "Grid search and cross validation are used with some of the classifiers in order to fine tune their hyperparameters. \n",
        "\n",
        "Pipelines are used for automating tasks when needed. \n",
        "\n",
        "Keras neural network can be easily reconfigured using different number of hidden layers and/or neurons per layer, along with different training algorithms.\n",
        "\n",
        "3- aggregating individual classifiers using ensambling by soft voting, blending and stacking; possibilities include:\n",
        "\n",
        "    blending with logistic regression\n",
        "\n",
        "    blending with linear regression\n",
        "\n",
        "    blending with Extremly randomised trees\n",
        "\n",
        "    blending with Keras neural network classifier\n",
        "\n",
        "    stacking with TensorFlow DNN classifier\n",
        "\n",
        "    stacking with Extremly randomised trees\n",
        "\n",
        "    stacking with Keras neural network classifier with Merged branches\n",
        "\n",
        "    simple averageing of classifiers using different weights"
      ]
    },
    {
      "cell_type": "code",
      "metadata": {
        "id": "8fVGXUAE3Dvj"
      },
      "source": [
        "# Downloads data\n",
        "from google.colab import files\n",
        "with open(\"prediciton.csv\", \"wb\") as f:\n",
        "    f.write(prediction.to_csv().encode('ascii'))\n",
        "files.download('prediciton.csv')"
      ],
      "execution_count": null,
      "outputs": []
    },
    {
      "cell_type": "code",
      "metadata": {
        "id": "gMzBLpH98Ewl"
      },
      "source": [
        "from google.colab import files\n",
        "import pickle\n",
        "\n",
        "# Export model as pickle\n",
        "pickle.dump(model_target_r, open(\"model_target_r.model\", \"wb\"))\n",
        "files.download('model_target_r.model')"
      ],
      "execution_count": null,
      "outputs": []
    },
    {
      "cell_type": "code",
      "metadata": {
        "id": "mu0USOZv_NLn"
      },
      "source": [
        "!pip freeze | grep \"sklearn\" "
      ],
      "execution_count": null,
      "outputs": []
    }
  ]
}