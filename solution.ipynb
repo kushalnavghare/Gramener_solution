{
 "cells": [
  {
   "cell_type": "markdown",
   "metadata": {},
   "source": [
    "## Name: Kushal Navghare\n",
    "## Course: DBDA\n",
    "## ID: 170850125020"
   ]
  },
  {
   "cell_type": "markdown",
   "metadata": {},
   "source": [
    "# Question 1"
   ]
  },
  {
   "cell_type": "markdown",
   "metadata": {},
   "source": [
    "1. Given N digits of a series, predict the next number.\n",
    "\t\n",
    "    \n",
    "    Input :N space seperated integers\n",
    " \tOutput:Print the next element of the array.\n",
    "           \n",
    "      Example:\n",
    "                    Input : 8\n",
    "                            1 1 2 3 5 8 13 21\n",
    "                    Output :\n",
    "                            34"
   ]
  },
  {
   "cell_type": "markdown",
   "metadata": {},
   "source": [
    "# Answer "
   ]
  },
  {
   "cell_type": "markdown",
   "metadata": {},
   "source": [
    "The above series is a Fibonacci which is represented as\n",
    "        \n",
    "   ### nth term = (n-1)th term + (n-2)th term\n",
    "   \n",
    "   So to find the nth term, we will implement the same formula"
   ]
  },
  {
   "cell_type": "markdown",
   "metadata": {},
   "source": [
    "In order to do that, first we need the number till where we need the fibonacci series.\n",
    "\n",
    "We will write a function, where the user will ask the program to find nth term, and the program will\n",
    "\n",
    "calculate the fibonacci series and return the nth term for user."
   ]
  },
  {
   "cell_type": "code",
   "execution_count": 1,
   "metadata": {
    "collapsed": true,
    "scrolled": true
   },
   "outputs": [],
   "source": [
    "# l = [1,1,2,3,5,8,13,21]\n",
    "# for i in l:\n",
    "#     a = l[-1] + l[-2]\n",
    "# print(\"The next term will be\", a)"
   ]
  },
  {
   "cell_type": "code",
   "execution_count": 2,
   "metadata": {
    "collapsed": true
   },
   "outputs": [],
   "source": [
    "def n_th_Term(n):\n",
    "    if n == 1 or n == 2:\n",
    "        return 1\n",
    "    result = [None] * (n+1)\n",
    "    result[1] = 1\n",
    "    result[2] = 1\n",
    "    for i in range(3, n+1):\n",
    "        result[i] = result[i-1] + result[i-2]\n",
    "    print(result[1:])\n",
    "    return result[n]"
   ]
  },
  {
   "cell_type": "code",
   "execution_count": 3,
   "metadata": {},
   "outputs": [
    {
     "name": "stdout",
     "output_type": "stream",
     "text": [
      "Enter the nth term which you want 9\n",
      "[1, 1, 2, 3, 5, 8, 13, 21, 34]\n"
     ]
    },
    {
     "data": {
      "text/plain": [
       "34"
      ]
     },
     "execution_count": 3,
     "metadata": {},
     "output_type": "execute_result"
    }
   ],
   "source": [
    "a = int(input(\"Enter the nth term which you want \"))\n",
    "n_th_Term(a)"
   ]
  },
  {
   "cell_type": "markdown",
   "metadata": {},
   "source": [
    "# Question 2"
   ]
  },
  {
   "cell_type": "markdown",
   "metadata": {},
   "source": [
    "2. Given a string of N numbers, print the longest substring of length K such that the digits of the string can be rearranged to generate a palindrome , provided that K is even.\n",
    "\tInput:\n",
    "\t\t1. First Line of Input is a string H representing a string.\n",
    "\tOutput:\n",
    "\t\tIf there exists a palindrome that satisfies the condition print the palindrome, else print “IMPOSSIBLE”\n",
    "            Example 1:\n",
    "                       Input:\n",
    "                               13453238764534544378\n",
    "                       Output:\n",
    "                               45345443\n",
    "            Example 2:\n",
    "                       Input:\n",
    "                               123435\n",
    "                       Output:\n",
    "                               IMPOSSIBLE\n"
   ]
  },
  {
   "cell_type": "markdown",
   "metadata": {},
   "source": [
    "# Answer"
   ]
  },
  {
   "cell_type": "markdown",
   "metadata": {},
   "source": [
    "What we can do in this problem is, we can check for each individual numbers count.\n",
    "If the count of that number is greater than 1 and a even number, then we can use those numbers for palindrome."
   ]
  },
  {
   "cell_type": "markdown",
   "metadata": {},
   "source": [
    "# Approach:\n",
    "\n",
    "#### Step 1:  Find the unique numbers from input number and save it in another list l1.\n",
    "#### Step 2:  Use each number from this list l1, to find the count of that number in the input list provided.\n",
    "#### Step 3:  If the count > 2 and is a even number, save that number in output list.\n",
    "   #### If not, print \"IMPOSSIBLE\".\n",
    "#### Step 4:  Iterate these steps over all the numbers from l1.\n",
    "#### Step 5:  Output the result."
   ]
  },
  {
   "cell_type": "code",
   "execution_count": 4,
   "metadata": {},
   "outputs": [
    {
     "name": "stdout",
     "output_type": "stream",
     "text": [
      "Enter the string 13453238764534544378\n",
      "33874534544378"
     ]
    }
   ],
   "source": [
    "a = input(\"Enter the string \")\n",
    "# First, lets create an empty list to store all the numbers from input, as a individual number.\n",
    "s = []\n",
    "\n",
    "for i in a:\n",
    "    s.append(i)\n",
    "    \n",
    "# Now, create a dictonary to store the number and its count in the input string\n",
    "# like {'number1': count, 'number2': count, . . . }\n",
    "count_nums = {}\n",
    "\n",
    "# We will take each number from the list, and count that number and store it in dictionary\n",
    "for i in s:\n",
    "    count_nums[i] = count_nums.get(i, 0) + 1\n",
    "    \n",
    "#print(count_nums)\n",
    "# Now, we have the numbers and its counts. Lets code the main part.\n",
    "for key in count_nums:\n",
    "    if count_nums[key] % 2 != 0:\n",
    "        s.remove(key)\n",
    "if len(s)==0:\n",
    "    print(\"IMPOSSIBLE\")\n",
    "    \n",
    "else:\n",
    "    for i in s:\n",
    "        print(i, end=\"\")"
   ]
  },
  {
   "cell_type": "markdown",
   "metadata": {},
   "source": [
    "# Question 3"
   ]
  },
  {
   "cell_type": "markdown",
   "metadata": {},
   "source": [
    "3. You are given a Pizza , what is the maximum number of pieces you can slice the pizza into in N straight line cuts.\n",
    "\t\n",
    "    Input:\n",
    "\t\tFirst Line of Input is N representing the number of cuts.\n",
    "\tOutput:\n",
    "\t\tAn integer representing the number of pieces possible."
   ]
  },
  {
   "cell_type": "markdown",
   "metadata": {},
   "source": [
    "![title](img/image.png)"
   ]
  },
  {
   "cell_type": "markdown",
   "metadata": {},
   "source": [
    "# Answer"
   ]
  },
  {
   "cell_type": "raw",
   "metadata": {},
   "source": [
    "As we can see, from figure the number of pieces are increasing in a order like\n",
    "1st cut: 2\n",
    "2nd cut: 4\n",
    "3rd cut: 7\n",
    "4th cut: 11 and so on\n",
    "It is increasing as 2 + 2 >> 4 + 3 >> 7 + 4 >> 11 + 5 >> 16 . . .\n",
    "\t\t   Cuts:      2nd     3rd      4th       5th     . . .\n",
    "In this manner, the number of cuts will go on increasing.\n",
    "\n",
    "So, the program will be:"
   ]
  },
  {
   "cell_type": "code",
   "execution_count": 5,
   "metadata": {},
   "outputs": [
    {
     "name": "stdout",
     "output_type": "stream",
     "text": [
      "Number of cuts 9\n",
      "Maximum number of pieces = 46\n"
     ]
    }
   ],
   "source": [
    "a = int(input(\"Number of cuts \"))\n",
    "m, i = 0, 2\n",
    "for i in range(2, a+1):\n",
    "    m += i\n",
    "print(\"Maximum number of pieces =\",m + 2)"
   ]
  },
  {
   "cell_type": "markdown",
   "metadata": {
    "collapsed": true
   },
   "source": [
    "# Question 4"
   ]
  },
  {
   "cell_type": "markdown",
   "metadata": {},
   "source": [
    "4. Given a Binary number represented as a string of N Digits. Find a substring G where G can be represented as the largest possible Square Matrix of order K.\n",
    "\t\n",
    "    Input:  A String of N digits\n",
    "\t\n",
    "    Output : Two space seperated values corresponding to G and K\n"
   ]
  },
  {
   "cell_type": "code",
   "execution_count": 6,
   "metadata": {},
   "outputs": [
    {
     "name": "stdout",
     "output_type": "stream",
     "text": [
      "Enter the string 101010101010101010101010\n",
      "1010101010101010  4\n"
     ]
    }
   ],
   "source": [
    "c = input(\"Enter the string \")\n",
    "j = list(c)\n",
    "sqr = [x*x for x in range(0,15)]\n",
    "for i in range(0, len(sqr)):\n",
    "    if len(j) not in sqr:\n",
    "        del j[-1]\n",
    "\n",
    "# To find order\n",
    "order = len(j)**0.5\n",
    "\n",
    "for i in j:\n",
    "    print(i,end='')\n",
    "print(\" \", int(order))"
   ]
  },
  {
   "cell_type": "markdown",
   "metadata": {},
   "source": [
    "# Question 5"
   ]
  },
  {
   "cell_type": "markdown",
   "metadata": {
    "collapsed": true
   },
   "source": [
    "Given 2 Strings. you have to remove the least number of characters from the first string to form the latter. \n",
    "Print the number of ways this can be done.\n",
    "\n",
    "example 1:\n",
    "\n",
    "Input :\n",
    "String 1 : brick\n",
    "String 2 : rick\n",
    "Output : 1\n",
    "Reason: _rick\n",
    "\n",
    "example 2:\n",
    "\n",
    "Input:\n",
    "    String 1: hii\n",
    "    String 2 : hi\n",
    "    Output : 2\n",
    "    Reason : The characters which can be removed are :hi_ h_i"
   ]
  },
  {
   "cell_type": "markdown",
   "metadata": {},
   "source": [
    "# Answer"
   ]
  },
  {
   "cell_type": "markdown",
   "metadata": {},
   "source": [
    "    First loop, if the first string is empty, then we need to add all the elements of string 2 to string 1,which will require\n",
    "    adding the number of elements of string 2 i.e. len(string_2).\n",
    "    Same goes for the second string if that is empty.\n",
    "    \n",
    "    Third, if the last characters of both the strings are same, that means we dont have to consider that. We will iterate this\n",
    "    step for all the letters from backwards.\n",
    "    When the letters will not be the same, then we need to perform operation there.\n",
    "    In this way, the final result will be the numbers of characters to be removed from string 1 to get to string 2.\n"
   ]
  },
  {
   "cell_type": "code",
   "execution_count": 7,
   "metadata": {},
   "outputs": [
    {
     "name": "stdout",
     "output_type": "stream",
     "text": [
      "Enter string1 hii\n",
      "Enter string2 Hi\n",
      "\n",
      "Number of ways 2\n"
     ]
    }
   ],
   "source": [
    "str1 = input(\"Enter string1 \") \n",
    "str2 = input(\"Enter string2 \")\n",
    "str1 = str1.lower()\n",
    "str2 = str2.lower()\n",
    "c = list(str1)\n",
    "for i in str2:\n",
    "    c.remove(i)\n",
    "count = 0\n",
    "for i in c:\n",
    "    for j in str1:\n",
    "        if i==j:\n",
    "            count += 1\n",
    "print(\"\\nNumber of ways\", count)"
   ]
  },
  {
   "cell_type": "markdown",
   "metadata": {},
   "source": [
    "# Question 6"
   ]
  },
  {
   "cell_type": "markdown",
   "metadata": {},
   "source": [
    "You are to play a new game called ladders.\n",
    "    \n",
    "Given an array of Natural Numbers, where each integer corresponds to the maximum number of indexes ahead you can move. If you start at the 0th index.\n",
    "\n",
    "Find the minimum number of steps required to reach the end of the array.\n",
    "\n",
    "Example:\n",
    "Input:\n",
    "[ 2,4,1,2,3,1,1,1,1 ]\n",
    "\n",
    "Output :\n",
    "4\n",
    "\n",
    "Reason :\n",
    "0th Index  → 1st Index → 4th Index → 7th Index → last Index\n"
   ]
  },
  {
   "cell_type": "markdown",
   "metadata": {},
   "source": [
    "# Answer"
   ]
  },
  {
   "cell_type": "markdown",
   "metadata": {},
   "source": [
    "To solve this problem, we need to find whether the elements are int or not.\n",
    "If float / string are present, then we cannot perform jumps.\n",
    "\n",
    "Next what we can do is, we can check if we are at 0th index, we need to jump to the index where the value is greater than the jump we took., for ex. if we took the first jump of 2, we need to see if the number at the jumped index is greater than 2 or not. \n",
    "If not, we will check the lowest number of jump which can get us to the next higher jump.\n",
    "We will perform this, until we reach the end."
   ]
  },
  {
   "cell_type": "raw",
   "metadata": {},
   "source": [
    "1st jump: Maximum number from the input\n",
    "2nd jump: 2nd maximum number from the input\n",
    ".\n",
    ".\n",
    ".\n",
    "\n",
    "In this way, we can reach the last index in 3 jumps.\n",
    "\n",
    "1st: 4 jumps.\n",
    "2nd: 3 jumps.\n",
    "3rd: 1 jump.  >>>>> Last index"
   ]
  }
 ],
 "metadata": {
  "kernelspec": {
   "display_name": "Python 3",
   "language": "python",
   "name": "python3"
  },
  "language_info": {
   "codemirror_mode": {
    "name": "ipython",
    "version": 3
   },
   "file_extension": ".py",
   "mimetype": "text/x-python",
   "name": "python",
   "nbconvert_exporter": "python",
   "pygments_lexer": "ipython3",
   "version": "3.6.3"
  }
 },
 "nbformat": 4,
 "nbformat_minor": 2
}
